{
  "nbformat": 4,
  "nbformat_minor": 0,
  "metadata": {
    "colab": {
      "provenance": []
    },
    "kernelspec": {
      "name": "python3",
      "display_name": "Python 3"
    },
    "language_info": {
      "name": "python"
    }
  },
  "cells": [
    {
      "cell_type": "markdown",
      "source": [],
      "metadata": {
        "id": "6-CW7FNP1sxA"
      }
    },
    {
      "cell_type": "code",
      "execution_count": null,
      "metadata": {
        "colab": {
          "base_uri": "https://localhost:8080/"
        },
        "id": "YldME2tjsmND",
        "outputId": "7a32fca4-082e-4cad-c43e-808aed62e68d"
      },
      "outputs": [
        {
          "output_type": "stream",
          "name": "stdout",
          "text": [
            "Requirement already satisfied: langchain_core in /usr/local/lib/python3.11/dist-packages (0.3.52)\n",
            "Collecting langchain_community\n",
            "  Downloading langchain_community-0.3.21-py3-none-any.whl.metadata (2.4 kB)\n",
            "Collecting langchain_openai\n",
            "  Downloading langchain_openai-0.3.14-py3-none-any.whl.metadata (2.3 kB)\n",
            "Collecting langgraph\n",
            "  Downloading langgraph-0.3.31-py3-none-any.whl.metadata (7.9 kB)\n",
            "Requirement already satisfied: cachetools in /usr/local/lib/python3.11/dist-packages (5.5.2)\n",
            "Requirement already satisfied: langsmith<0.4,>=0.1.125 in /usr/local/lib/python3.11/dist-packages (from langchain_core) (0.3.31)\n",
            "Requirement already satisfied: tenacity!=8.4.0,<10.0.0,>=8.1.0 in /usr/local/lib/python3.11/dist-packages (from langchain_core) (9.1.2)\n",
            "Requirement already satisfied: jsonpatch<2.0,>=1.33 in /usr/local/lib/python3.11/dist-packages (from langchain_core) (1.33)\n",
            "Requirement already satisfied: PyYAML>=5.3 in /usr/local/lib/python3.11/dist-packages (from langchain_core) (6.0.2)\n",
            "Requirement already satisfied: packaging<25,>=23.2 in /usr/local/lib/python3.11/dist-packages (from langchain_core) (24.2)\n",
            "Requirement already satisfied: typing-extensions>=4.7 in /usr/local/lib/python3.11/dist-packages (from langchain_core) (4.13.2)\n",
            "Requirement already satisfied: pydantic<3.0.0,>=2.5.2 in /usr/local/lib/python3.11/dist-packages (from langchain_core) (2.11.3)\n",
            "Requirement already satisfied: langchain<1.0.0,>=0.3.23 in /usr/local/lib/python3.11/dist-packages (from langchain_community) (0.3.23)\n",
            "Requirement already satisfied: SQLAlchemy<3,>=1.4 in /usr/local/lib/python3.11/dist-packages (from langchain_community) (2.0.40)\n",
            "Requirement already satisfied: requests<3,>=2 in /usr/local/lib/python3.11/dist-packages (from langchain_community) (2.32.3)\n",
            "Requirement already satisfied: aiohttp<4.0.0,>=3.8.3 in /usr/local/lib/python3.11/dist-packages (from langchain_community) (3.11.15)\n",
            "Collecting dataclasses-json<0.7,>=0.5.7 (from langchain_community)\n",
            "  Downloading dataclasses_json-0.6.7-py3-none-any.whl.metadata (25 kB)\n",
            "Collecting pydantic-settings<3.0.0,>=2.4.0 (from langchain_community)\n",
            "  Downloading pydantic_settings-2.9.1-py3-none-any.whl.metadata (3.8 kB)\n",
            "Collecting httpx-sse<1.0.0,>=0.4.0 (from langchain_community)\n",
            "  Downloading httpx_sse-0.4.0-py3-none-any.whl.metadata (9.0 kB)\n",
            "Requirement already satisfied: numpy<3,>=1.26.2 in /usr/local/lib/python3.11/dist-packages (from langchain_community) (2.0.2)\n",
            "Collecting langchain_core\n",
            "  Downloading langchain_core-0.3.54-py3-none-any.whl.metadata (5.9 kB)\n",
            "Requirement already satisfied: openai<2.0.0,>=1.68.2 in /usr/local/lib/python3.11/dist-packages (from langchain_openai) (1.75.0)\n",
            "Collecting tiktoken<1,>=0.7 (from langchain_openai)\n",
            "  Downloading tiktoken-0.9.0-cp311-cp311-manylinux_2_17_x86_64.manylinux2014_x86_64.whl.metadata (6.7 kB)\n",
            "Collecting langgraph-checkpoint<3.0.0,>=2.0.10 (from langgraph)\n",
            "  Downloading langgraph_checkpoint-2.0.24-py3-none-any.whl.metadata (4.6 kB)\n",
            "Collecting langgraph-prebuilt<0.2,>=0.1.8 (from langgraph)\n",
            "  Downloading langgraph_prebuilt-0.1.8-py3-none-any.whl.metadata (5.0 kB)\n",
            "Collecting langgraph-sdk<0.2.0,>=0.1.42 (from langgraph)\n",
            "  Downloading langgraph_sdk-0.1.61-py3-none-any.whl.metadata (1.8 kB)\n",
            "Collecting xxhash<4.0.0,>=3.5.0 (from langgraph)\n",
            "  Downloading xxhash-3.5.0-cp311-cp311-manylinux_2_17_x86_64.manylinux2014_x86_64.whl.metadata (12 kB)\n",
            "Requirement already satisfied: aiohappyeyeballs>=2.3.0 in /usr/local/lib/python3.11/dist-packages (from aiohttp<4.0.0,>=3.8.3->langchain_community) (2.6.1)\n",
            "Requirement already satisfied: aiosignal>=1.1.2 in /usr/local/lib/python3.11/dist-packages (from aiohttp<4.0.0,>=3.8.3->langchain_community) (1.3.2)\n",
            "Requirement already satisfied: attrs>=17.3.0 in /usr/local/lib/python3.11/dist-packages (from aiohttp<4.0.0,>=3.8.3->langchain_community) (25.3.0)\n",
            "Requirement already satisfied: frozenlist>=1.1.1 in /usr/local/lib/python3.11/dist-packages (from aiohttp<4.0.0,>=3.8.3->langchain_community) (1.5.0)\n",
            "Requirement already satisfied: multidict<7.0,>=4.5 in /usr/local/lib/python3.11/dist-packages (from aiohttp<4.0.0,>=3.8.3->langchain_community) (6.4.3)\n",
            "Requirement already satisfied: propcache>=0.2.0 in /usr/local/lib/python3.11/dist-packages (from aiohttp<4.0.0,>=3.8.3->langchain_community) (0.3.1)\n",
            "Requirement already satisfied: yarl<2.0,>=1.17.0 in /usr/local/lib/python3.11/dist-packages (from aiohttp<4.0.0,>=3.8.3->langchain_community) (1.19.0)\n",
            "Collecting marshmallow<4.0.0,>=3.18.0 (from dataclasses-json<0.7,>=0.5.7->langchain_community)\n",
            "  Downloading marshmallow-3.26.1-py3-none-any.whl.metadata (7.3 kB)\n",
            "Collecting typing-inspect<1,>=0.4.0 (from dataclasses-json<0.7,>=0.5.7->langchain_community)\n",
            "  Downloading typing_inspect-0.9.0-py3-none-any.whl.metadata (1.5 kB)\n",
            "Requirement already satisfied: jsonpointer>=1.9 in /usr/local/lib/python3.11/dist-packages (from jsonpatch<2.0,>=1.33->langchain_core) (3.0.0)\n",
            "Requirement already satisfied: langchain-text-splitters<1.0.0,>=0.3.8 in /usr/local/lib/python3.11/dist-packages (from langchain<1.0.0,>=0.3.23->langchain_community) (0.3.8)\n",
            "Collecting ormsgpack<2.0.0,>=1.8.0 (from langgraph-checkpoint<3.0.0,>=2.0.10->langgraph)\n",
            "  Downloading ormsgpack-1.9.1-cp311-cp311-manylinux_2_17_x86_64.manylinux2014_x86_64.whl.metadata (43 kB)\n",
            "\u001b[2K     \u001b[90m━━━━━━━━━━━━━━━━━━━━━━━━━━━━━━━━━━━━━━━━\u001b[0m \u001b[32m43.5/43.5 kB\u001b[0m \u001b[31m2.8 MB/s\u001b[0m eta \u001b[36m0:00:00\u001b[0m\n",
            "\u001b[?25hRequirement already satisfied: httpx>=0.25.2 in /usr/local/lib/python3.11/dist-packages (from langgraph-sdk<0.2.0,>=0.1.42->langgraph) (0.28.1)\n",
            "Requirement already satisfied: orjson>=3.10.1 in /usr/local/lib/python3.11/dist-packages (from langgraph-sdk<0.2.0,>=0.1.42->langgraph) (3.10.16)\n",
            "Requirement already satisfied: requests-toolbelt<2.0.0,>=1.0.0 in /usr/local/lib/python3.11/dist-packages (from langsmith<0.4,>=0.1.125->langchain_core) (1.0.0)\n",
            "Requirement already satisfied: zstandard<0.24.0,>=0.23.0 in /usr/local/lib/python3.11/dist-packages (from langsmith<0.4,>=0.1.125->langchain_core) (0.23.0)\n",
            "Requirement already satisfied: anyio<5,>=3.5.0 in /usr/local/lib/python3.11/dist-packages (from openai<2.0.0,>=1.68.2->langchain_openai) (4.9.0)\n",
            "Requirement already satisfied: distro<2,>=1.7.0 in /usr/local/lib/python3.11/dist-packages (from openai<2.0.0,>=1.68.2->langchain_openai) (1.9.0)\n",
            "Requirement already satisfied: jiter<1,>=0.4.0 in /usr/local/lib/python3.11/dist-packages (from openai<2.0.0,>=1.68.2->langchain_openai) (0.9.0)\n",
            "Requirement already satisfied: sniffio in /usr/local/lib/python3.11/dist-packages (from openai<2.0.0,>=1.68.2->langchain_openai) (1.3.1)\n",
            "Requirement already satisfied: tqdm>4 in /usr/local/lib/python3.11/dist-packages (from openai<2.0.0,>=1.68.2->langchain_openai) (4.67.1)\n",
            "Requirement already satisfied: annotated-types>=0.6.0 in /usr/local/lib/python3.11/dist-packages (from pydantic<3.0.0,>=2.5.2->langchain_core) (0.7.0)\n",
            "Requirement already satisfied: pydantic-core==2.33.1 in /usr/local/lib/python3.11/dist-packages (from pydantic<3.0.0,>=2.5.2->langchain_core) (2.33.1)\n",
            "Requirement already satisfied: typing-inspection>=0.4.0 in /usr/local/lib/python3.11/dist-packages (from pydantic<3.0.0,>=2.5.2->langchain_core) (0.4.0)\n",
            "Collecting python-dotenv>=0.21.0 (from pydantic-settings<3.0.0,>=2.4.0->langchain_community)\n",
            "  Downloading python_dotenv-1.1.0-py3-none-any.whl.metadata (24 kB)\n",
            "Requirement already satisfied: charset-normalizer<4,>=2 in /usr/local/lib/python3.11/dist-packages (from requests<3,>=2->langchain_community) (3.4.1)\n",
            "Requirement already satisfied: idna<4,>=2.5 in /usr/local/lib/python3.11/dist-packages (from requests<3,>=2->langchain_community) (3.10)\n",
            "Requirement already satisfied: urllib3<3,>=1.21.1 in /usr/local/lib/python3.11/dist-packages (from requests<3,>=2->langchain_community) (2.3.0)\n",
            "Requirement already satisfied: certifi>=2017.4.17 in /usr/local/lib/python3.11/dist-packages (from requests<3,>=2->langchain_community) (2025.1.31)\n",
            "Requirement already satisfied: greenlet>=1 in /usr/local/lib/python3.11/dist-packages (from SQLAlchemy<3,>=1.4->langchain_community) (3.2.0)\n",
            "Requirement already satisfied: regex>=2022.1.18 in /usr/local/lib/python3.11/dist-packages (from tiktoken<1,>=0.7->langchain_openai) (2024.11.6)\n",
            "Requirement already satisfied: httpcore==1.* in /usr/local/lib/python3.11/dist-packages (from httpx>=0.25.2->langgraph-sdk<0.2.0,>=0.1.42->langgraph) (1.0.8)\n",
            "Requirement already satisfied: h11<0.15,>=0.13 in /usr/local/lib/python3.11/dist-packages (from httpcore==1.*->httpx>=0.25.2->langgraph-sdk<0.2.0,>=0.1.42->langgraph) (0.14.0)\n",
            "Collecting mypy-extensions>=0.3.0 (from typing-inspect<1,>=0.4.0->dataclasses-json<0.7,>=0.5.7->langchain_community)\n",
            "  Downloading mypy_extensions-1.0.0-py3-none-any.whl.metadata (1.1 kB)\n",
            "Downloading langchain_community-0.3.21-py3-none-any.whl (2.5 MB)\n",
            "\u001b[2K   \u001b[90m━━━━━━━━━━━━━━━━━━━━━━━━━━━━━━━━━━━━━━━━\u001b[0m \u001b[32m2.5/2.5 MB\u001b[0m \u001b[31m29.5 MB/s\u001b[0m eta \u001b[36m0:00:00\u001b[0m\n",
            "\u001b[?25hDownloading langchain_openai-0.3.14-py3-none-any.whl (62 kB)\n",
            "\u001b[2K   \u001b[90m━━━━━━━━━━━━━━━━━━━━━━━━━━━━━━━━━━━━━━━━\u001b[0m \u001b[32m62.4/62.4 kB\u001b[0m \u001b[31m4.7 MB/s\u001b[0m eta \u001b[36m0:00:00\u001b[0m\n",
            "\u001b[?25hDownloading langchain_core-0.3.54-py3-none-any.whl (433 kB)\n",
            "\u001b[2K   \u001b[90m━━━━━━━━━━━━━━━━━━━━━━━━━━━━━━━━━━━━━━━━\u001b[0m \u001b[32m433.9/433.9 kB\u001b[0m \u001b[31m19.9 MB/s\u001b[0m eta \u001b[36m0:00:00\u001b[0m\n",
            "\u001b[?25hDownloading langgraph-0.3.31-py3-none-any.whl (145 kB)\n",
            "\u001b[2K   \u001b[90m━━━━━━━━━━━━━━━━━━━━━━━━━━━━━━━━━━━━━━━━\u001b[0m \u001b[32m145.2/145.2 kB\u001b[0m \u001b[31m10.0 MB/s\u001b[0m eta \u001b[36m0:00:00\u001b[0m\n",
            "\u001b[?25hDownloading dataclasses_json-0.6.7-py3-none-any.whl (28 kB)\n",
            "Downloading httpx_sse-0.4.0-py3-none-any.whl (7.8 kB)\n",
            "Downloading langgraph_checkpoint-2.0.24-py3-none-any.whl (42 kB)\n",
            "\u001b[2K   \u001b[90m━━━━━━━━━━━━━━━━━━━━━━━━━━━━━━━━━━━━━━━━\u001b[0m \u001b[32m42.0/42.0 kB\u001b[0m \u001b[31m3.0 MB/s\u001b[0m eta \u001b[36m0:00:00\u001b[0m\n",
            "\u001b[?25hDownloading langgraph_prebuilt-0.1.8-py3-none-any.whl (25 kB)\n",
            "Downloading langgraph_sdk-0.1.61-py3-none-any.whl (47 kB)\n",
            "\u001b[2K   \u001b[90m━━━━━━━━━━━━━━━━━━━━━━━━━━━━━━━━━━━━━━━━\u001b[0m \u001b[32m47.2/47.2 kB\u001b[0m \u001b[31m3.3 MB/s\u001b[0m eta \u001b[36m0:00:00\u001b[0m\n",
            "\u001b[?25hDownloading pydantic_settings-2.9.1-py3-none-any.whl (44 kB)\n",
            "\u001b[2K   \u001b[90m━━━━━━━━━━━━━━━━━━━━━━━━━━━━━━━━━━━━━━━━\u001b[0m \u001b[32m44.4/44.4 kB\u001b[0m \u001b[31m2.5 MB/s\u001b[0m eta \u001b[36m0:00:00\u001b[0m\n",
            "\u001b[?25hDownloading tiktoken-0.9.0-cp311-cp311-manylinux_2_17_x86_64.manylinux2014_x86_64.whl (1.2 MB)\n",
            "\u001b[2K   \u001b[90m━━━━━━━━━━━━━━━━━━━━━━━━━━━━━━━━━━━━━━━━\u001b[0m \u001b[32m1.2/1.2 MB\u001b[0m \u001b[31m32.8 MB/s\u001b[0m eta \u001b[36m0:00:00\u001b[0m\n",
            "\u001b[?25hDownloading xxhash-3.5.0-cp311-cp311-manylinux_2_17_x86_64.manylinux2014_x86_64.whl (194 kB)\n",
            "\u001b[2K   \u001b[90m━━━━━━━━━━━━━━━━━━━━━━━━━━━━━━━━━━━━━━━━\u001b[0m \u001b[32m194.8/194.8 kB\u001b[0m \u001b[31m12.6 MB/s\u001b[0m eta \u001b[36m0:00:00\u001b[0m\n",
            "\u001b[?25hDownloading marshmallow-3.26.1-py3-none-any.whl (50 kB)\n",
            "\u001b[2K   \u001b[90m━━━━━━━━━━━━━━━━━━━━━━━━━━━━━━━━━━━━━━━━\u001b[0m \u001b[32m50.9/50.9 kB\u001b[0m \u001b[31m3.6 MB/s\u001b[0m eta \u001b[36m0:00:00\u001b[0m\n",
            "\u001b[?25hDownloading ormsgpack-1.9.1-cp311-cp311-manylinux_2_17_x86_64.manylinux2014_x86_64.whl (223 kB)\n",
            "\u001b[2K   \u001b[90m━━━━━━━━━━━━━━━━━━━━━━━━━━━━━━━━━━━━━━━━\u001b[0m \u001b[32m223.6/223.6 kB\u001b[0m \u001b[31m17.1 MB/s\u001b[0m eta \u001b[36m0:00:00\u001b[0m\n",
            "\u001b[?25hDownloading python_dotenv-1.1.0-py3-none-any.whl (20 kB)\n",
            "Downloading typing_inspect-0.9.0-py3-none-any.whl (8.8 kB)\n",
            "Downloading mypy_extensions-1.0.0-py3-none-any.whl (4.7 kB)\n",
            "Installing collected packages: xxhash, python-dotenv, ormsgpack, mypy-extensions, marshmallow, httpx-sse, typing-inspect, tiktoken, pydantic-settings, langgraph-sdk, dataclasses-json, langchain_core, langgraph-checkpoint, langchain_openai, langgraph-prebuilt, langgraph, langchain_community\n",
            "  Attempting uninstall: langchain_core\n",
            "    Found existing installation: langchain-core 0.3.52\n",
            "    Uninstalling langchain-core-0.3.52:\n",
            "      Successfully uninstalled langchain-core-0.3.52\n",
            "Successfully installed dataclasses-json-0.6.7 httpx-sse-0.4.0 langchain_community-0.3.21 langchain_core-0.3.54 langchain_openai-0.3.14 langgraph-0.3.31 langgraph-checkpoint-2.0.24 langgraph-prebuilt-0.1.8 langgraph-sdk-0.1.61 marshmallow-3.26.1 mypy-extensions-1.0.0 ormsgpack-1.9.1 pydantic-settings-2.9.1 python-dotenv-1.1.0 tiktoken-0.9.0 typing-inspect-0.9.0 xxhash-3.5.0\n"
          ]
        }
      ],
      "source": [
        "! pip install langchain_core langchain_community langchain_openai langgraph cachetools"
      ]
    },
    {
      "cell_type": "code",
      "source": [
        "import os\n",
        "from google.colab import userdata\n",
        "os.environ['OPENAI_API_KEY'] = userdata.get('OPENAI_API_KEY')"
      ],
      "metadata": {
        "id": "jf9ClLaus--B"
      },
      "execution_count": null,
      "outputs": []
    },
    {
      "cell_type": "code",
      "source": [
        "from langchain_openai import ChatOpenAI\n",
        "from langchain_core.output_parsers import JsonOutputParser\n",
        "from langchain_core.prompts import ChatPromptTemplate\n",
        "from pydantic import BaseModel, Field\n",
        "from typing import Optional, Literal, Annotated, TypedDict\n",
        "from langchain_community.chat_message_histories import ChatMessageHistory\n",
        "from cachetools import TTLCache\n",
        "from datetime import date\n",
        "import re\n",
        "import uuid\n",
        "import time\n",
        "from langgraph.graph import StateGraph,END,START\n",
        "from langchain_core.messages import HumanMessage, SystemMessage, AIMessage\n",
        "from IPython.display import Image, display"
      ],
      "metadata": {
        "id": "5Zb2PR-8tHFA"
      },
      "execution_count": null,
      "outputs": []
    },
    {
      "cell_type": "code",
      "source": [
        "from langchain_openai import ChatOpenAI  # NEW import\n",
        "\n",
        "llm_router = ChatOpenAI(\n",
        "    model=\"gpt-4o-mini\",\n",
        "    temperature=0.0,\n",
        "    max_tokens=50,\n",
        "    model_kwargs={\n",
        "        \"presence_penalty\": 1.0,\n",
        "        \"frequency_penalty\": 1.0\n",
        "    }\n",
        ")\n",
        "\n",
        "llm_node = ChatOpenAI(\n",
        "    model=\"gpt-4o-mini\",\n",
        "    temperature=0.0,\n",
        "    max_tokens=100,\n",
        "    model_kwargs={\n",
        "        \"presence_penalty\": 1.0,\n",
        "        \"frequency_penalty\": 1.0\n",
        "    }\n",
        ")\n"
      ],
      "metadata": {
        "colab": {
          "base_uri": "https://localhost:8080/"
        },
        "id": "gq4c4RAFtTEw",
        "outputId": "dcb81c4b-1fcb-42d1-9912-aeca55327200"
      },
      "execution_count": null,
      "outputs": [
        {
          "output_type": "stream",
          "name": "stderr",
          "text": [
            "/usr/local/lib/python3.11/dist-packages/IPython/core/interactiveshell.py:3473: UserWarning: Parameters {'frequency_penalty', 'presence_penalty'} should be specified explicitly. Instead they were passed in as part of `model_kwargs` parameter.\n",
            "  if (await self.run_code(code, result,  async_=asy)):\n",
            "/usr/local/lib/python3.11/dist-packages/IPython/core/interactiveshell.py:3473: UserWarning: Parameters {'frequency_penalty', 'presence_penalty'} should be specified explicitly. Instead they were passed in as part of `model_kwargs` parameter.\n",
            "  if (await self.run_code(code, result,  async_=asy)):\n"
          ]
        }
      ]
    },
    {
      "cell_type": "code",
      "source": [
        "route_prompt=\"\"\"you are an expert classification agent and you can speak hindi and english. classify the request as per the conversation provided to you.\n",
        "The conversation contains the assistant response and human response. your task is to analyze the Human Response.\n",
        "If the user response for the questions like salaried, self-employed , nature of bussiness, rental, own ,designation if they ask any question respond with we only provide to salaried people and to provided the best suitable loan sceme.\n",
        "If the user say okay and then respond with 'main_node'.\n",
        "whenever the user ask like emi eralted query and wantt to talk to agent like connect me to the agent then always goes to main_node.\n",
        "-If the Human Response is not related to the pre-approved personal loan or topic being discussed respond with 'irrelevent'.\n",
        "-If the Human Response say he/she is busy  or requesting to talk after sometime respond 'busy'.\n",
        "-If the Human Response say wrong number respond 'wrong_number.\n",
        "-If the Human Response indicates interest in taking loan ,requesting details, agree to continue the conversation or share personal information respond with 'agent'.\n",
        "-If the Human Response contains any refusal like no to accept the loan respond with 'reject'.\n",
        "-If the Human Response say to repeat what said before or say again or similar word then respond with 'repeat'.\n",
        "-If the user wants to respons be in some specific langugae add that language to 'language' respond with 'res_language'.\n",
        "-If the user say 'I dont  have any questions' then only respond 'agent_node'.\n",
        "\n",
        "Give the Human Response , your task  is to predict the original language of the text  and then store it in 'languae' field the human response can be in that specific language.\n",
        "\"\"\"\n",
        "\n"
      ],
      "metadata": {
        "id": "GBA7ztfRtpUO"
      },
      "execution_count": null,
      "outputs": []
    },
    {
      "cell_type": "code",
      "source": [
        "route_prompt_temp = ChatPromptTemplate.from_messages(\n",
        "    messages=[\n",
        "        (\"system\", route_prompt),\n",
        "        (\"placeholder\", \"{chat_history}\"),\n",
        "        (\"user\", \"{user_input}\")\n",
        "    ]\n",
        ")"
      ],
      "metadata": {
        "id": "B_rCsHCZLI-k"
      },
      "execution_count": null,
      "outputs": []
    },
    {
      "cell_type": "code",
      "source": [
        "class Route(BaseModel):\n",
        "    step: Literal[\"busy\",\"wrong_number\",\"info_wrong\",\"irrelevant_ans\",\"reject\",\"repeat\",\"res_language\",\"agent_node\"] = Field(None,\n",
        "        description=\"Classify the use message into these catogries.\"\n",
        "    )\n",
        "    language: Literal[\"English\",\"Hindi\"]= Field(None,description=\"Classify the user message based on the spoken language and respond properly in that particular language.\")\n",
        "\n",
        "router = llm_router.with_structured_output(Route)\n",
        "\n",
        "chain = route_prompt_temp | router"
      ],
      "metadata": {
        "id": "8z98LQYZ1-kR"
      },
      "execution_count": null,
      "outputs": []
    },
    {
      "cell_type": "code",
      "source": [
        "class NodeResponse(BaseModel):\n",
        "    response: str = Field(None,description=\"Response of for the user message.\")\n",
        "    status: Literal[\"end\",\"continue\"] = Field(None,description=\"Status of the conversation to end conversation or continue.\")\n",
        "\n",
        "node_message = llm_node.with_structured_output(NodeResponse)\n",
        "\n",
        "examples_hindi = \"\"\"Use this examples while responding in Hindi:\n",
        "    for \"shortlisted\" use \"शॉर्टलिस्टेड\"\n",
        "    for \"quick\" use \"क्विक\"\n",
        "    for \"interest rate\" use \"इंटरेस्ट रेट\"\n",
        "    for \"quick dispersal\" use \"क्विक डिस्पर्सल\" यदि मुझे जल्द से जल्द लोन चाहिए तो कितना लगेगा\n",
        "    for \"self employed\" use \"सेल्फ एम्प्लॉयड\"\n",
        "    for \"interested\" use \"इंटरेस्टेड\"\n",
        "    for \"This is a limited period offer on your pre approved personal loan\" use एक सीमित पीरियड ऑफर है आपके प्री अप्रूव पर्सनल लोन पर\n",
        "    for \"Pre Approved Personal Loan\" use ये असुरक्षित व्यक्तिगत ऋण\n",
        "    for \"personal\" use \"पर्सनल\"\n",
        "    for \"pre approved\" use \"प्री अप्रूव्ड\"\n",
        "    for \"competitive\" use \"कम्पेटिटिव\"\n",
        "    for \"tenure\" use \"टेनुरे\"\n",
        "    for \"Salaried\" use \"सैलरीड\"\n",
        "    for \"designation\" use \"डेसिग्नेशन\"\n",
        "    for \"salaried\" use \"सैलरीड\"\n",
        "    for \"designation\" use \"डेसिग्नेशन\"\n",
        "    for \"eligible\" use \"एलिजिबल\"\n",
        "    for \"recommend\" use \"रिकमंड\"\n",
        "    for \"connect\" use \"कनेक्ट\"\n",
        "    for \"loan\" use \"लोन\"\n",
        "    for \"business\" use \"बिजनेस\"\n",
        "    for \"nature\" use \"नेचर\"\n",
        "For while I am connecting you to the agent,Could you please let me know if you are salaried or self-employed\" use जब तक में आपको एजेंट से कनेक्ट कर रही हू क्या आप मुझे बताएंगे की आप सैलरीड है या सेल्फ एम्प्लॉयड?\"\n",
        "\"\"\"\n",
        "words=[\"50 words\",\"30 words\"]"
      ],
      "metadata": {
        "id": "9CYxc40zKknu"
      },
      "execution_count": null,
      "outputs": []
    },
    {
      "cell_type": "code",
      "source": [
        "\n",
        "prompt_gpt_reason=\"\"\"You are a virtual assistant for the MinMac Capital Team whose in a conversation with a Human who can be male or female and don't assume it to be specific gender.\n",
        "(examples_hindi)\n",
        "\n",
        "Scenarios:\n",
        "\n",
        "For the first response, the user says yes or sure or okay or speak or tell like, Thats great!,You are eligible for a loan of (Amount) at an interest rate (ROI)% with duration of {duration} months.\n",
        "If the user is interested in taking the loan (for example, by saying 'I want to apply for the loan' or 'What are the next steps to get the loan') or ask more information.\n",
        "\n",
        "For Salaried\n",
        "-Ask questions, Could you kindly tell us regrading your designation? in {language).set the status as continue.\n",
        "-User response can be anything.Designation may be anything, Like farmerre, lawyer, It employee etc.\n",
        "-Ask question,Based on your aadhar card address, are you staying in own or rental house?in {language).set the status as continue.\n",
        "-Ask question, Could you please let me know a convenient time for our agent to call you back in (language).set the status as end.\n",
        "-Respond Thank you,our agent will call you back at preferred time,.Have a great day in (language).set the status as end.\n",
        "\n",
        "For Salaried\n",
        "-Ask questions, Could you kindly tell us regrading your designation? in {language).set the status as continue.\n",
        "-User response can be anything.Designation may be anything, Like farmerre, lawyer, It employee etc.\n",
        "-Ask question,Based on your aadhar card address, are you staying in own or rental house?in {language).set the status as continue.\n",
        "-Ask question, Could you please let me know a convenient time for our agent to call you back in (language).set the status as end.\n",
        "-Respond Thank you,our agent will call you back at preferred time,.Have a great day in (language).set the status as end.\n",
        "\n",
        "If the user ask questions about the interest rate:\n",
        "-Asks about interest rate/your interest rate is (ROI)% for this PAPL Please ask if you have more questions?I can help you in answering them Rephrase it.\n",
        "-Interest rate is too high/Competitive Interest Rates: We offer the lowest interest rates, especially when compared to NBFC Rephrase it.\n",
        "-Interest range:(The interest rate ranges from 11.99% to 29.99%,please ask if you have more questions?I can help you in answering them\" Rephrase it and respond in {language}.\n",
        "\n",
        "\n",
        "If the user asks about the E M I details or anything about E. M. I.:\n",
        "-Respond for the more detail s regarding the E.M.I. , our agent can help you with this details, do you have any other queries further related to loan in {language}.\n",
        "\n",
        "Response must be consistant with user {language}.\n",
        "users with personal loan inquiries, approvals, fees, and eligibility. Always respond in the user’s chosen {language} and end each message with Status: continue.\n",
        "\n",
        "If the user asks multiple questions, respond with: \"Sure—what queries do you have? I’m here to help.\n",
        "For hidden charges, respond: \"There are no hidden charges for the pre-approved personal loan.\n",
        "If the user agrees to proceed, respond: \"You are eligible for a loan based on the details provided.\" Include relevant next steps.\n",
        "If asked about documents, reply: \"We offer quick disbursal with no documents required. An agent will reach out to assist you.\n",
        "If the user requests a higher loan amount or lower interest rate, say: \"Let me check the available options for higher amount or reduced rate.\n",
        "For the query: \"What amount will I get in my bank at 11.7% interest?\", respond: \"With this offer, your bank disbursal amount will be shared shortly. Tata Capital charges Rs 358 + GST per month, and processing fees up to 4% of the loan amount + GST.\n",
        "If asked about processing fees, reply: \"A one-time processing fee up to 4% of the loan amount plus GST applies. The loan is unsecured, so no collateral is needed.\n",
        "If asked about collateral, respond: \"No collateral or security is required for this personal loan.\n",
        "If the user inquires about part-payment or foreclosure charges, reply: \"A part-prepayment or foreclosure charge of 4.5% applies on the principal outstanding at the time of repayment.\n",
        "If asked about discounts or promotional offers, say: \"Interest rates and offers may vary. I can help check any ongoing promotions.\n",
        "If asked whether better credit scores offer lower rates, reply: \"Yes, factors like CIBIL score, income, and employment history influence interest rates.\n",
        "For any question on what influences personal loan rates, respond: \"Yes, your CIBIL score, income, tenure, and loan amount all affect the offered interest rate.\n",
        "If asked about additional personal loan costs, reply: \"There is a one-time processing fee of up to 4% of the loan amount plus GST.\n",
        "For any unclear input, ask: \"I’m not sure I understand—could you please elaborate?\n",
        "\n",
        "\n",
        "Response Guidelines:\n",
        "When crafting your response, imagine you're having a casual conversation with a close friend. Use everyday language and make it relatable and easy to understand.\n",
        "Be polite, empathetic, and persuasive.\n",
        "Give the response in female tone and in (language).\n",
        "The bot response should be almost (words).\n",
        "At every end of the response questions ask \"please ask if you have more questions I can help you in answering them in {language}\" Rephrase it.\n",
        "Instead of EMI, you can use E M I.\"\"\""
      ],
      "metadata": {
        "id": "URIBsYL0KpPK"
      },
      "execution_count": null,
      "outputs": []
    },
    {
      "cell_type": "code",
      "source": [
        "prompt_gpt_busy=\"\"\"you are an assistant for the MixMac Team who is in conversation with huamn who can be female or male and Avoid making assumptions about the user's gender and respond accordingly.\n",
        "If the busy_counter is more than 2, Say Thank you for the time, Respond in female tone in {language}.Set status to end.\n",
        "If the customer says Busy:\n",
        "-Politely tell \"This is a limited period offer regarding your pre-approved personal loan. Do you want to avail of this offer?\" Rephrase it. Respond in female tone in {language}.\n",
        "-Politely ask \"can you please suggest a suitable time to call?\" Rephrase it.Respond in female tone in {language}.Set status to continue.\n",
        "-Politely thank them and tell them you'll call at the preferred time. Have a great day in {language}.Set status to end.\n",
        "-The bot response should be almost (words).\n",
        "\"\"\""
      ],
      "metadata": {
        "id": "N1oYXiW4Ksml"
      },
      "execution_count": null,
      "outputs": []
    },
    {
      "cell_type": "code",
      "source": [
        "\n",
        "agent_gpt_reason_prompt=\"\"\"you are an assistant for the MixMac Team who is in conversation with huamn who can be female or male and Avoid making assumptions about the user's gender and respond accordingly.\n",
        "{examples_hindi}\n",
        "\n",
        "Follows this order:\n",
        "If user says No,I don't have any questions?: rephrase it in {language}.set the status as continue.\n",
        "-Ask would you like to connect with an agent? rephrase it in {language}.\n",
        "\n",
        "Response Guidelines:\n",
        "When crafting your response, imagine you're having a casual conversation with a close friend. Use everyday language and make it relatable and easy to un\n",
        "Be polite, empathetic, and persuasive.\n",
        "Give the response in female tone and in {language}.\n",
        "The bot response should be almost (words).\n",
        "\"\"\""
      ],
      "metadata": {
        "id": "r8lHtBJEOYhI"
      },
      "execution_count": null,
      "outputs": []
    },
    {
      "cell_type": "code",
      "source": [
        "from typing import Optional\n",
        "from typing import Annotated, Literal, Sequence, TypedDict\n",
        "import operator\n",
        "from langgraph.graph import END, StateGraph, add_messages\n",
        "from langchain_core.messages import BaseMessage\n",
        "\n",
        "class State(BaseModel):\n",
        "    messages: Annotated[Sequence[BaseMessage], Field(..., description=\"Add messages\")]\n",
        "    context: dict\n",
        "    number_conversation: Annotated[int, Field(default=1, description=\"Number of conversations\")]\n",
        "    today_date: str\n",
        "    user_text: str\n",
        "    decision: str\n",
        "    output: str\n",
        "    status: str\n",
        "    language: str\n",
        "    busy_counter: Annotated[int, Field(default=0)]\n",
        "    refusal_counter: Annotated[int, Field(default=0)]"
      ],
      "metadata": {
        "id": "3Vv-dcs7OlvQ"
      },
      "execution_count": null,
      "outputs": []
    },
    {
      "cell_type": "code",
      "source": [
        "template = ChatPromptTemplate([\n",
        "    (\"system\", \"{prompt_gpt_reason}\"),\n",
        "    # Means the template will receive an optional list of messages under\n",
        "    # the \"conversation\" key\n",
        "    (\"placeholder\", \"{chat_history}\")\n",
        "    # Equivalently:\n",
        "    # MessagesPlaceholder(variable_name=\"conversation\", optional=True)\n",
        "])\n"
      ],
      "metadata": {
        "id": "pQyT-gB0X1mc"
      },
      "execution_count": null,
      "outputs": []
    },
    {
      "cell_type": "code",
      "source": [
        "# main_template = ChatPromptTemplate(\n",
        "#     messages=[\n",
        "#         (\"system\", prompt_gpt_reason),\n",
        "#         (\"placeholder\", \"{chat_history}\"),\n",
        "#     ],\n",
        "# )\n",
        "main_template = ChatPromptTemplate([\n",
        "    (\"system\",\"{prompt_gpt_reason}\"),\n",
        "    (\"placeholder\", \"{chat_history}\")\n",
        "])\n",
        "main_pipeline = main_template | node_message\n",
        "\n",
        "# main_template_diff = ChatPromptTemplate(\n",
        "#     (\"system\", \"{prompt_gpt_reason}\"),\n",
        "#     (\"placeholder\", \"{chat_history}\")\n",
        "# )\n",
        "\n",
        "# main_pipeline_diff = main_template_diff | node_message\n",
        "main_template_diff = ChatPromptTemplate([\n",
        "    (\"system\", \"{prompt_gpt_reason}\"),\n",
        "    (\"placeholder\", \"{chat_history}\")\n",
        "])\n",
        "main_pipeline_diff = main_template_diff | node_message\n"
      ],
      "metadata": {
        "id": "BPbKnNs9Ou-7"
      },
      "execution_count": null,
      "outputs": []
    },
    {
      "cell_type": "code",
      "source": [
        "main_template=\"\"\n",
        "main_pipeline = main_template | node_message\n",
        "\n",
        "main_template_diff = ChatPromptTemplate.from_messages(\n",
        "    messages=[\n",
        "        (\"system\", prompt_gpt_reason),\n",
        "        (\"placeholder\", \"{chat_history}\")\n",
        "    ]\n",
        ")\n",
        "\n",
        "main_pipeline_diff = main_template_diff | node_message\n"
      ],
      "metadata": {
        "colab": {
          "base_uri": "https://localhost:8080/",
          "height": 356
        },
        "id": "eiuP3Jr2QXv1",
        "outputId": "0936df4b-b87f-47fa-d0b9-906e27589fed"
      },
      "execution_count": null,
      "outputs": [
        {
          "output_type": "error",
          "ename": "TypeError",
          "evalue": "Expected a Runnable, callable or dict.Instead got an unsupported type: <class 'str'>",
          "traceback": [
            "\u001b[0;31m---------------------------------------------------------------------------\u001b[0m",
            "\u001b[0;31mTypeError\u001b[0m                                 Traceback (most recent call last)",
            "\u001b[0;32m<ipython-input-15-602ad7931266>\u001b[0m in \u001b[0;36m<cell line: 0>\u001b[0;34m()\u001b[0m\n\u001b[1;32m      1\u001b[0m \u001b[0mmain_template\u001b[0m\u001b[0;34m=\u001b[0m\u001b[0;34m\"\"\u001b[0m\u001b[0;34m\u001b[0m\u001b[0;34m\u001b[0m\u001b[0m\n\u001b[0;32m----> 2\u001b[0;31m \u001b[0mmain_pipeline\u001b[0m \u001b[0;34m=\u001b[0m \u001b[0mmain_template\u001b[0m \u001b[0;34m|\u001b[0m \u001b[0mnode_message\u001b[0m\u001b[0;34m\u001b[0m\u001b[0;34m\u001b[0m\u001b[0m\n\u001b[0m\u001b[1;32m      3\u001b[0m \u001b[0;34m\u001b[0m\u001b[0m\n\u001b[1;32m      4\u001b[0m main_template_diff = ChatPromptTemplate.from_messages(\n\u001b[1;32m      5\u001b[0m     messages=[\n",
            "\u001b[0;32m/usr/local/lib/python3.11/dist-packages/langchain_core/runnables/base.py\u001b[0m in \u001b[0;36m__ror__\u001b[0;34m(self, other)\u001b[0m\n\u001b[1;32m   2997\u001b[0m             )\n\u001b[1;32m   2998\u001b[0m         return RunnableSequence(\n\u001b[0;32m-> 2999\u001b[0;31m             \u001b[0mcoerce_to_runnable\u001b[0m\u001b[0;34m(\u001b[0m\u001b[0mother\u001b[0m\u001b[0;34m)\u001b[0m\u001b[0;34m,\u001b[0m\u001b[0;34m\u001b[0m\u001b[0;34m\u001b[0m\u001b[0m\n\u001b[0m\u001b[1;32m   3000\u001b[0m             \u001b[0mself\u001b[0m\u001b[0;34m.\u001b[0m\u001b[0mfirst\u001b[0m\u001b[0;34m,\u001b[0m\u001b[0;34m\u001b[0m\u001b[0;34m\u001b[0m\u001b[0m\n\u001b[1;32m   3001\u001b[0m             \u001b[0;34m*\u001b[0m\u001b[0mself\u001b[0m\u001b[0;34m.\u001b[0m\u001b[0mmiddle\u001b[0m\u001b[0;34m,\u001b[0m\u001b[0;34m\u001b[0m\u001b[0;34m\u001b[0m\u001b[0m\n",
            "\u001b[0;32m/usr/local/lib/python3.11/dist-packages/langchain_core/runnables/base.py\u001b[0m in \u001b[0;36mcoerce_to_runnable\u001b[0;34m(thing)\u001b[0m\n\u001b[1;32m   5913\u001b[0m         \u001b[0;34mf\"Instead got an unsupported type: {type(thing)}\"\u001b[0m\u001b[0;34m\u001b[0m\u001b[0;34m\u001b[0m\u001b[0m\n\u001b[1;32m   5914\u001b[0m     )\n\u001b[0;32m-> 5915\u001b[0;31m     \u001b[0;32mraise\u001b[0m \u001b[0mTypeError\u001b[0m\u001b[0;34m(\u001b[0m\u001b[0mmsg\u001b[0m\u001b[0;34m)\u001b[0m\u001b[0;34m\u001b[0m\u001b[0;34m\u001b[0m\u001b[0m\n\u001b[0m\u001b[1;32m   5916\u001b[0m \u001b[0;34m\u001b[0m\u001b[0m\n\u001b[1;32m   5917\u001b[0m \u001b[0;34m\u001b[0m\u001b[0m\n",
            "\u001b[0;31mTypeError\u001b[0m: Expected a Runnable, callable or dict.Instead got an unsupported type: <class 'str'>"
          ]
        }
      ]
    },
    {
      "cell_type": "code",
      "source": [
        "def main_node(state: State):\n",
        "    \"\"\"Main node handles the RTP and PTP scenarios\"\"\"\n",
        "    result = main_pipeline_diff.invoke({\n",
        "        \"chat_history\": state[\"messages\"],\n",
        "        \"language\": state[\"language\"],\n",
        "        \"examples_hindi\": examples_hindi,\n",
        "        \"ROI\": state[\"context\"],\n",
        "        \"prompt_gpt_reason\": prompt_gpt_reason  # ✅ Pass it here\n",
        "    })\n",
        "    return {\n",
        "        \"messages\": [AIMessage(content=result.response), HumanMessage(content=state[\"user_text\"])],\n",
        "        \"output\": result.response,\n",
        "        \"status\": result.status,\n",
        "        \"language\": state[\"language\"],\n",
        "        \"today_date\": str(date.today()),\n",
        "        \"context\": state[\"context\"]\n",
        "    }\n"
      ],
      "metadata": {
        "id": "--EQ3_ura5kT"
      },
      "execution_count": null,
      "outputs": []
    },
    {
      "cell_type": "code",
      "source": [
        "agent_template_diff = ChatPromptTemplate.from_messages(\n",
        "    [\n",
        "        (\"system\", agent_gpt_reason_prompt),\n",
        "        (\"placeholder\", \"{chat_history}\"),\n",
        "        (\"user\", \"{user_text}\"),\n",
        "    ]\n",
        ")\n",
        "\n",
        "agent_pipeline_diff = agent_template_diff | node_message\n",
        "\n",
        "\n",
        "def agent_node(state: State):\n",
        "    \"\"\"Main node handles the RTP and PTP scenarios\"\"\"\n",
        "    if state[\"language\"] != \"Hindi\":\n",
        "        result = agent_pipeline_diff.invoke({\"chat_history\": state[\"messages\"], \"language\": state[\"language\"], \"examples_hindi\": examples_hindi,\"ROI\": state[\"context\"]})\n",
        "        return {\n",
        "            \"messages\": [AIMessage(content=result.response), HumanMessage(content=state[\"user_text\"])],\n",
        "            \"output\": result.response,\n",
        "            \"status\": result.status,\n",
        "            \"language\": state[\"language\"],\n",
        "            \"today_date\": str(date.today()),\n",
        "            \"context\": state[\"context\"],\n",
        "        }\n",
        "    else:\n",
        "        result = agent_pipeline_diff.invoke({\"chat_history\": state[\"messages\"], \"language\": state[\"language\"], \"examples_hindi\": examples_hindi,\"ROI\": state[\"context\"]})\n",
        "        return {\n",
        "            \"messages\": [AIMessage(content=result.response), HumanMessage(content=state[\"user_text\"])],\n",
        "            \"output\": result.response,\n",
        "            \"status\": result.status,\n",
        "            \"today_date\": str(date.today()),\n",
        "            \"context\": state[\"context\"],\n",
        "        }"
      ],
      "metadata": {
        "id": "mYD0XkWma-cK"
      },
      "execution_count": null,
      "outputs": []
    },
    {
      "cell_type": "code",
      "source": [
        "busy_template = ChatPromptTemplate.from_messages(\n",
        "    [\n",
        "        (\"system\", prompt_gpt_busy),\n",
        "        (\"placeholder\", \"{chat_history}\"),\n",
        "        (\"user\", \"{user_text}\"),\n",
        "    ]\n",
        ")\n",
        "\n",
        "busy_pipeline = busy_template | node_message\n",
        "\n",
        "def busy_node(state: State):\n",
        "    \"\"\"Main node handles the RTP and PTP scenarios\"\"\"\n",
        "    result = busy_pipeline.invoke({\"chat_history\": state[\"messages\"], \"language\": state[\"language\"], \"examples_hindi\": examples_hindi,\"ROI\": state[\"context\"]})\n",
        "    return {\n",
        "        \"messages\": [AIMessage(content=result.response), HumanMessage(content=state[\"user_text\"])],\n",
        "        \"output\": result.response,\n",
        "        \"status\": result.status,\n",
        "        \"busy_counter\": result.busy_counter+1,\n",
        "    }"
      ],
      "metadata": {
        "id": "ojAJJn-cbCES"
      },
      "execution_count": null,
      "outputs": []
    },
    {
      "cell_type": "code",
      "source": [
        "def info_wrong_node(state:State):\n",
        "    \"\"\"Apologize for the Inconvenience and tell them will check and come back to you shortly.\"\"\"\n",
        "    result = node_message.invoke([SystemMessage(content=f\"Apologize for the inconvenience and tell them will check and come back to you shortly.Add the status as end.Give the response in female tone and in {state.language}\"), HumanMessage(content=state[\"user_text\"])])\n",
        "    return {\"output\":result.response,\"status\":result.status}\n",
        "\n",
        "\n",
        "def wrong_number_node(state:State):\n",
        "    \"\"\"Apologize for the Inconvenience and wish him a good day.\"\"\"\n",
        "    result = node_message.invoke([SystemMessage(content=\"Apologize for the inconvenience and wish him a good day.Add the status as end.Give the response in female tone and in {language}\"), HumanMessage(content=State[\"user_text\"])])\n",
        "    return {\"output\": result.response, \"status\":result.status}\n",
        "\n",
        "\n",
        "def irrelevant_node(state:State):\n",
        "    \"\"\"Politely mention about I am here to discuss your pre approved realted queries and do you have any other querries?I am here to help.Give the response in\"\"\"\n",
        "    result = node_message.invoke([SystemMessage(content=\"Do not answer the question and tell I am here to discuss your pre approved personal loan related queries and do you save?In {language}\"), HumanMessage(content=State[\"user_text\"])])\n",
        "    return {\"output\": result.response, \"status\":result.status}\n",
        "\n",
        "def repeat_node(state:State):\n",
        "  result=node_message.invoke(\n",
        "      [\n",
        "          SystemMessage(content=f\"if the user say repeat, can you repeat the previous response in user lanaguage {state.language}.\"),\n",
        "          HumanMessage(content=state[\"user_text\"])\n",
        "      ]\n",
        "  )\n",
        "  return {\"output\":result.response,\"status\":result.status}"
      ],
      "metadata": {
        "id": "nIQKJ3VbbHIX"
      },
      "execution_count": null,
      "outputs": []
    },
    {
      "cell_type": "code",
      "source": [
        "reject_prompt = \"\"\"\n",
        "You are a virtual assistant for the MinMac Team whose in a conversation with a Human who can be male or female and your responsibility is to persuade\n",
        "(examples_hindi)\n",
        "\n",
        "General Persuasion:\n",
        "-Loan disbursement Confirmation: Upon verification, the amount will be credited to your account within 24 to 48 hours.\n",
        "-Investment Opportunity: Use the loan amount to fuel the growth of your business.\n",
        "-Competitive Interest Rates: We offer the lowest interest rates, especially when compared to NBFC.\n",
        "-Streamlined Process: Bank loan processes are often lengthy and complex, whereas we ensure a simpler experience.\n",
        "-Repayment Track Record: Loan approval is contingent on your repayment history, ensuring fairness and transparency.\n",
        "-Limited-Time Offer: This offer may not be available in the future, so we encourage you to act promptly.\n",
        "-Quick Application: The loan application process is quick and efficient, taking just a few minutes to complete.\n",
        "-USP Points: Other companies provide minumum 8 days to maximum 18 days to disburse with all documents.\n",
        "-USP Points: Verification gets delayed in other companies compared to Tata capital.\n",
        "\n",
        "-For the first persuasion attempt, communicate in language: \"We offer quick disbursal with no documents required and provide an additional top-up as well\"\n",
        "-For the second politely persuade the customerwarmly using features from General Persuasion in {language}.Set status to\n",
        "hightlight features such as Investment Opportunity,Competitive Interest Rates,Streamlined Process,Limited-Time Offer, Repayment Track Record,Quick A\n",
        "-At the end of each persuasion attempt, ask in {language}.\"Our agent can explain you better, would you want to connect with an agent? You can rephrase i\n",
        "-If the customer is still not interested after the \"refusal_counter\" is more than 3, respond with \"Thank you for your time. Have a great day\" in {language}\n",
        "\n",
        "Response Guidlines:\n",
        "when crafting your response, imagine you are having a casual conversation with a close friend. Use everyday language and make it relatable and easy to understand.\n",
        "Be polite, empathetic, and persuasive.\n",
        "At the end of each persuasion attempt, ask \"please ask in {language},'please ask if you have any more questions I can help you in answering them'.\n",
        "Don't set the status end until refusal counter is 3.\n",
        "The bot response should be almost (words).\n",
        "Give the response in female tone and in {language}.\n",
        "\"\"\"\n",
        "\n",
        "reject_template = ChatPromptTemplate.from_messages(\n",
        "    [\n",
        "        (\"system\", reject_prompt),\n",
        "        (\"placeholder\", \"{chat_history}\"),\n",
        "        (\"user\", \"{user_text}\"),\n",
        "    ]\n",
        ")\n",
        "\n",
        "reject_pipeline = reject_template | node_message\n",
        "\n",
        "def reject_node(state: State):\n",
        "    \"\"\"If the user \"\"\"\n",
        "    if state[\"number_conversation\"] <= 3 :\n",
        "        result = reject_pipeline.invoke({\"chat_history\": state[\"messages\"], \"language\": state[\"language\"], \"examples_hindi\": examples_hindi, \"words\":words[1]})\n",
        "        return {\n",
        "            \"messages\": [AIMessage(content=result.response), HumanMessage(content=state[\"user_text\"])],\n",
        "            \"output\": result.response,\n",
        "            \"status\": result.status,\n",
        "            \"refusal_counter\": 1,\n",
        "            \"number_conversations\":1\n",
        "        }\n",
        "    else:\n",
        "        result = reject_pipeline.invoke({\"chat_history\": state[\"messages\"], \"language\": state[\"language\"], \"examples_hindi\": examples_hindi,\"ROI\": state[\"context\"]})\n",
        "        return {\n",
        "            \"messages\": [AIMessage(content=result.response), HumanMessage(content=state[\"user_text\"])],\n",
        "            \"output\": result.response,\n",
        "            \"status\": result.status,\n",
        "            \"language\": state[\"language\"],\n",
        "            \"examples_hindi\": examples_hindi,\n",
        "            \"refusal_counter\": 1,\n",
        "            \"number_conversations\":1\n",
        "        }\n"
      ],
      "metadata": {
        "id": "4BuQffd0bUCt"
      },
      "execution_count": null,
      "outputs": []
    },
    {
      "cell_type": "code",
      "source": [
        "\n",
        "def llm_call_router(state:State):\n",
        "  \"Route the input to the appropriate node\"\n",
        "  print(\"#\"*25)\n",
        "  decision=chain.invoke(\n",
        "      [\n",
        "          SystemMessage(content=\"\"\"Analysis the human response and set the step to busy,wrong_number,info_wrong,main_node,agent_node,\"\"\"),\n",
        "          HumanMessage(content=state[\"user_text\"])\n",
        "      ]\n",
        "  )\n",
        "  return {\"decision\":decision.step,\"language\":decision.language}\n"
      ],
      "metadata": {
        "id": "k98woeyjbXar"
      },
      "execution_count": null,
      "outputs": []
    },
    {
      "cell_type": "code",
      "source": [
        "def route_decision(state:State):\n",
        "  \"Route the input to the appropriate node\"\n",
        "  if(state[\"decision\"]==\"busy\"):\n",
        "    return \"busy\"\n",
        "  elif(state[\"decision\"]==\"wrong_number\"):\n",
        "    return \"wrong_number\"\n",
        "  elif(state[\"decision\"]==\"info_wrong\"):\n",
        "    return \"info_wrong\"\n",
        "  elif(state[\"decision\"]==\"irrelevant_ans\"):\n",
        "    return \"irrelevant_ans\"\n",
        "  elif(state[\"decision\"]==\"reject\"):\n",
        "    return \"reject\"\n",
        "  elif(state[\"decision\"]==\"repeat\"):\n",
        "    return \"repeat\"\n",
        "  else:\n",
        "    return \"main_node\""
      ],
      "metadata": {
        "id": "SZ-EaB6wban7"
      },
      "execution_count": null,
      "outputs": []
    },
    {
      "cell_type": "code",
      "source": [
        "graph=StateGraph(State)\n",
        "graph.add_node(\"busy_node\",busy_node)\n",
        "graph.add_node(\"wrong_number_node\",wrong_number_node)\n",
        "graph.add_node(\"info_wrong_node\",info_wrong_node)\n",
        "graph.add_node(\"irrelevant_ans_node\",irrelevant_node)\n",
        "graph.add_node(\"reject_node\",reject_node)\n",
        "graph.add_node(\"repeat_node\",repeat_node)\n",
        "graph.add_node(\"main_node\",main_node)\n",
        "graph.add_node(\"agent_node\",agent_node)\n",
        "graph.add_node(\"router_node\",llm_call_router)\n",
        "\n",
        "graph.add_conditional_edges(\"router_node\",route_decision,{\n",
        "    \"busy\":\"busy_node\",\n",
        "    \"wrong_number\":\"wrong_number_node\",\n",
        "    \"info_wrong\":\"info_wrong_node\",\n",
        "    \"irrelevant_ans\":\"irrelevant_ans_node\",\n",
        "    \"reject\":\"reject_node\",\n",
        "    \"repeat\":\"repeat_node\",\n",
        "    \"main_node\":\"main_node\",\n",
        "    \"agent_node\":\"agent_node\"\n",
        "})\n",
        "graph.add_edge(START,\"router_node\")\n",
        "graph.add_edge(\"busy_node\",END)\n",
        "graph.add_edge(\"wrong_number_node\",END)\n",
        "graph.add_edge(\"info_wrong_node\",END)\n",
        "graph.add_edge(\"irrelevant_ans_node\",END)\n",
        "graph.add_edge(\"reject_node\",END)\n",
        "graph.add_edge(\"repeat_node\",END)\n",
        "graph.add_edge(\"main_node\",END)\n",
        "graph.add_edge(\"agent_node\",END)\n",
        "\n",
        "from langgraph.checkpoint.memory import MemorySaver\n",
        "checkpointer = MemorySaver()\n",
        "\n",
        "workflow = graph.compile(checkpointer=checkpointer)"
      ],
      "metadata": {
        "id": "YhLhmMFpb53I"
      },
      "execution_count": null,
      "outputs": []
    },
    {
      "cell_type": "code",
      "source": [
        "from IPython.display import Image, display\n",
        "\n",
        "try:\n",
        "    display(Image(workflow.get_graph().draw_mermaid_png()))\n",
        "except Exception:\n",
        "    # This requires some extra dependencies and is optional\n",
        "    pass"
      ],
      "metadata": {
        "id": "m6eYfaXIn3ia"
      },
      "execution_count": null,
      "outputs": []
    },
    {
      "cell_type": "code",
      "source": [
        "class HuamnBotQuery(BaseModel):\n",
        "  session_idq:str\n",
        "  user_text:str\n",
        "  bot_query:Optional[str]=None\n",
        "  language:Literal['en-In','hi-IN']\n",
        "\n",
        "user_chat_histories=TTLCache(maxsize=1500,ttl=100)\n",
        "\n",
        "\n",
        "def get_user_chat_history(session_id:str)->ChatMessageHistory:\n",
        "  if session_id not in user_chat_histories:\n",
        "    user_chat_histories[session_id]=ChatMessageHistory()\n",
        "  return user_chat_histories[session_id]\n",
        "\n",
        "Language_map={'en-IN':'English','hi-IN':'Hindi'}"
      ],
      "metadata": {
        "id": "w1Q4a0OxcAdq"
      },
      "execution_count": null,
      "outputs": []
    },
    {
      "cell_type": "code",
      "source": [
        "class HuamnBotQuery(BaseModel):\n",
        "    session_idq: str\n",
        "    user_text: str\n",
        "    bot_query: Optional[str] = None\n",
        "    language: Literal['en-IN', 'hi-IN']\n",
        "\n",
        "# Simulated chat history cache\n",
        "user_chat_histories = TTLCache(maxsize=1500, ttl=100)"
      ],
      "metadata": {
        "id": "HDmM3yb-ogbh"
      },
      "execution_count": null,
      "outputs": []
    },
    {
      "cell_type": "code",
      "source": [
        "def get_user_chat_history(session_id: str) -> ChatMessageHistory:\n",
        "    if session_id not in user_chat_histories:\n",
        "        user_chat_histories[session_id] = ChatMessageHistory()\n",
        "    return user_chat_histories[session_id]\n",
        "Language_map = {'en-IN': 'English', 'hi-IN': 'Hindi'}"
      ],
      "metadata": {
        "id": "OTzH4W4_olXj"
      },
      "execution_count": null,
      "outputs": []
    },
    {
      "cell_type": "code",
      "source": [
        "def handle_user_request(request: HuamnBotQuery):\n",
        "    try:\n",
        "        chat_history = get_user_chat_history(request.session_idq)\n",
        "        print(chat_history)\n",
        "        chat_history.add_user_message(request.user_text)\n",
        "\n",
        "        # Optional: include bot query in some form (unused here)\n",
        "        context = {\n",
        "            \"Name\": \"ALPHA\",\n",
        "            \"interest_rate\": \"8.9\",\n",
        "            \"tenure\": \"36\",\n",
        "            \"amount\": \"7000000\"\n",
        "        }\n",
        "\n",
        "        # Using LangGraph workflow\n",
        "        config = {\"configurable\": {\"thread_id\": request.session_idq}}\n",
        "        inputs = {\"message\": HumanMessage(content=request.user_text), \"chat_history\": chat_history}\n",
        "        response = workflow.invoke(inputs,config=config)\n",
        "\n",
        "        return_language = \"en-IN\" if response[\"language\"] == \"English\" else \"hi-IN\"\n",
        "\n",
        "        chat_history.add_user_message(request.user_text)\n",
        "        chat_history.add_ai_message(response[\"output\"])\n",
        "\n",
        "        return {'bot_response': response[\"output\"], \"status\": response[\"status\"], \"language\": return_language}\n",
        "    except Exception as e:\n",
        "        return {\n",
        "            \"error\": str(e),\n",
        "            \"text\": \"An exception was raised while handling the conversation.\",\n",
        "            \"status_code\": 500\n",
        "        }"
      ],
      "metadata": {
        "id": "-HcVg7i0oxOd"
      },
      "execution_count": null,
      "outputs": []
    },
    {
      "cell_type": "code",
      "source": [
        "# updatedd\n",
        "def handle_user_request(request: HuamnBotQuery):\n",
        "    try:\n",
        "        chat_history = get_user_chat_history(request.session_idq)\n",
        "\n",
        "        # Construct initial state\n",
        "        state = {\n",
        "            \"messages\": [],  # You could also pass chat_history.messages here if needed\n",
        "            \"user_text\": request.user_text,\n",
        "            \"output\": \"\",\n",
        "            \"status\": \"\",\n",
        "            \"language\": Language_map[request.language],\n",
        "            \"context\": f\"Assistant: {request.bot_query or ''}\\nHuman: {request.user_text}\",\n",
        "            \"busy_counter\": 0,\n",
        "            \"refusal_counter\": 0,\n",
        "            \"number_conversation\": 0\n",
        "        }\n",
        "\n",
        "        # Call the workflow with complete state and config\n",
        "        response = workflow.invoke(\n",
        "            state,\n",
        "            config={\"configurable\": {\"thread_id\": request.session_idq}}\n",
        "        )\n",
        "\n",
        "        # Save messages in history\n",
        "        chat_history.add_user_message(request.user_text)\n",
        "        chat_history.add_ai_message(response[\"output\"])\n",
        "\n",
        "        return {\n",
        "            'bot_response': response[\"output\"],\n",
        "            \"status\": response[\"status\"],\n",
        "            \"language\": request.language\n",
        "        }\n",
        "\n",
        "    except Exception as e:\n",
        "        return {\n",
        "            \"error\": str(e),\n",
        "            \"text\": \"An exception was raised while handling the conversation.\",\n",
        "            \"status_code\": 500\n",
        "        }"
      ],
      "metadata": {
        "id": "8SXA5bukpsym"
      },
      "execution_count": null,
      "outputs": []
    },
    {
      "cell_type": "code",
      "source": [
        "bot_query = \"\"\"Dear Customer, I am calling on behalf of Tata Capital. You've been shortlisted for a preapproved personal loan. Do you want to know more details?\"\"\"\n",
        "session_id = str(uuid.uuid4())\n",
        "questions = [\"मैं लोन लेना चाहते हूँ\"]\n",
        "\n",
        "for question in questions:\n",
        "    st = time.time()\n",
        "    request = HuamnBotQuery(\n",
        "        session_idq=session_id,\n",
        "        user_text=question,\n",
        "        bot_query=bot_query,\n",
        "        language='hi-IN'  # Hindi\n",
        "    )\n",
        "    print(f\"-> *Question*: {question}\\n\")\n",
        "    respo = handle_user_request(request)\n",
        "    print(f\"-> *Response*: {respo}\\n\")\n",
        "    print(\"-> Response time:\", round(time.time() - st, 2), \"seconds\\n\")"
      ],
      "metadata": {
        "colab": {
          "base_uri": "https://localhost:8080/"
        },
        "id": "_fWWoKPvo2Tk",
        "outputId": "82df1b9f-2cc4-4ecc-fa83-287d231ed393"
      },
      "execution_count": null,
      "outputs": [
        {
          "output_type": "stream",
          "name": "stdout",
          "text": [
            "-> *Question*: मैं लोन लेना चाहते हूँ\n",
            "\n",
            "-> *Response*: {'error': '3 validation errors for State\\ncontext\\n  Input should be a valid dictionary [type=dict_type, input_value=\"Assistant: Dear Customer...ाहते हूँ\", input_type=str]\\n    For further information visit https://errors.pydantic.dev/2.11/v/dict_type\\ntoday_date\\n  Field required [type=missing, input_value={\\'messages\\': [], \\'context...0, \\'refusal_counter\\': 0}, input_type=dict]\\n    For further information visit https://errors.pydantic.dev/2.11/v/missing\\ndecision\\n  Field required [type=missing, input_value={\\'messages\\': [], \\'context...0, \\'refusal_counter\\': 0}, input_type=dict]\\n    For further information visit https://errors.pydantic.dev/2.11/v/missing', 'text': 'An exception was raised while handling the conversation.', 'status_code': 500}\n",
            "\n",
            "-> Response time: 0.01 seconds\n",
            "\n"
          ]
        }
      ]
    },
    {
      "cell_type": "code",
      "source": [
        "def handle_user_request(request:HuamnBotQuery):\n",
        "  try:\n",
        "    chat_history=get_user_chat_history(request.session_id)\n",
        "    print(chat_history)\n",
        "    chat_history.add_user_message(request.user_text)\n",
        "    i=\"\"\"Assistant:{}\\n Human{}\"\"\".format(request.bot_query,request.user_text)\n",
        "    context={\n",
        "        \"Name\":\"ALPHA\",\n",
        "        \"interest_rate\":\"8.9\",\n",
        "        \"tenure\":\"36\",\n",
        "        \"amount\":\"7000000\"\n",
        "    }\n",
        "    config={\"configurable\":{\"thread_id\":request.session_id}}\n",
        "    if chat_history:\n",
        "      response=workflow.invoke({\"message\":HumanMessage(content=request.user_text),\"chat_history\":chat_history})\n",
        "    else:\n",
        "      response=workflow.invoke({\"message\":HumanMessage(content=request.user_text)})\n",
        "    if response[\"language\"]==\"English\":\n",
        "      return_language=\"en-IN\"\n",
        "    else:\n",
        "      return_language=\"hi-IN\"\n",
        "    chat_history.add_user_message(request.user_text)\n",
        "    chat_history.add_ai_message(response[\"output\"])\n",
        "    print(chat_history)\n",
        "    return {'bot_response':response[\"output\"],\"status\":response[\"status\"],\"language\":return_language}\n",
        "  except Exception as e:\n",
        "    message={\n",
        "        \"error\":str(e),\n",
        "        \"text\":\"An exception raise while handling conversation.\",\n",
        "        \"status_code\":500\n",
        "    }\n",
        "    return message\n"
      ],
      "metadata": {
        "id": "6OpnrFK7cG16"
      },
      "execution_count": null,
      "outputs": []
    },
    {
      "cell_type": "code",
      "source": [
        "from IPython.display import Image, display\n",
        "\n",
        "try:\n",
        "    display(Image(workflow.get_graph().draw_mermaid_png()))\n",
        "except Exception:\n",
        "    # This requires some extra dependencies and is optional\n",
        "    pass"
      ],
      "metadata": {
        "colab": {
          "base_uri": "https://localhost:8080/",
          "height": 367
        },
        "id": "4_NRklm-cbKZ",
        "outputId": "b280ec4f-fe35-4f3a-a509-1dab4a8ad76a"
      },
      "execution_count": null,
      "outputs": [
        {
          "output_type": "display_data",
          "data": {
            "image/png": "[encoded data removed]",
            "text/plain": [
              "<IPython.core.display.Image object>"
            ]
          },
          "metadata": {}
        }
      ]
    },
    {
      "cell_type": "code",
      "source": [
        "bot_query= \"\"\"Dear Customer, I am calling on behalf of Tata Capital. You've been shortlisted for a preapproved personal loan. Do you want to know more details?\"\"\"\n",
        "import uuid\n",
        "import time\n",
        "session_id=str(uuid.uuid4())\n",
        "questions=[\"मैं लोन लेना चाहते हूँ\"]\n",
        "for question in questions:\n",
        "    st = time.time()\n",
        "    request = HuamnBotQuery(\n",
        "        session_id=session_id,\n",
        "        bot_query=bot_query,\n",
        "        customer_query=question,\n",
        "        language='hi-IN'  # Hindi locale\n",
        "    )\n",
        "    print(f\"-> *Question*: {question}\\n\")\n",
        "    respo = handle_user_request(request)\n",
        "    print(f\"-> *Response*: {respo}\\n\")\n",
        "    print(\"-> Response time:\", round(time.time() - st, 2), \"seconds\\n\")"
      ],
      "metadata": {
        "colab": {
          "base_uri": "https://localhost:8080/",
          "height": 436
        },
        "id": "VwC1BZkhcLWi",
        "outputId": "8e30f6d0-14f4-4f28-fe74-4734d0a8acd0"
      },
      "execution_count": null,
      "outputs": [
        {
          "output_type": "error",
          "ename": "ValidationError",
          "evalue": "2 validation errors for HuamnBotQuery\nsession_idq\n  Field required [type=missing, input_value={'session_id': '7a01e753-...', 'language': 'hi-IN'}, input_type=dict]\n    For further information visit https://errors.pydantic.dev/2.11/v/missing\nuser_text\n  Field required [type=missing, input_value={'session_id': '7a01e753-...', 'language': 'hi-IN'}, input_type=dict]\n    For further information visit https://errors.pydantic.dev/2.11/v/missing",
          "traceback": [
            "\u001b[0;31m---------------------------------------------------------------------------\u001b[0m",
            "\u001b[0;31mValidationError\u001b[0m                           Traceback (most recent call last)",
            "\u001b[0;32m<ipython-input-31-4de76fecf418>\u001b[0m in \u001b[0;36m<cell line: 0>\u001b[0;34m()\u001b[0m\n\u001b[1;32m      6\u001b[0m \u001b[0;32mfor\u001b[0m \u001b[0mquestion\u001b[0m \u001b[0;32min\u001b[0m \u001b[0mquestions\u001b[0m\u001b[0;34m:\u001b[0m\u001b[0;34m\u001b[0m\u001b[0;34m\u001b[0m\u001b[0m\n\u001b[1;32m      7\u001b[0m     \u001b[0mst\u001b[0m \u001b[0;34m=\u001b[0m \u001b[0mtime\u001b[0m\u001b[0;34m.\u001b[0m\u001b[0mtime\u001b[0m\u001b[0;34m(\u001b[0m\u001b[0;34m)\u001b[0m\u001b[0;34m\u001b[0m\u001b[0;34m\u001b[0m\u001b[0m\n\u001b[0;32m----> 8\u001b[0;31m     request = HuamnBotQuery(\n\u001b[0m\u001b[1;32m      9\u001b[0m         \u001b[0msession_id\u001b[0m\u001b[0;34m=\u001b[0m\u001b[0msession_id\u001b[0m\u001b[0;34m,\u001b[0m\u001b[0;34m\u001b[0m\u001b[0;34m\u001b[0m\u001b[0m\n\u001b[1;32m     10\u001b[0m         \u001b[0mbot_query\u001b[0m\u001b[0;34m=\u001b[0m\u001b[0mbot_query\u001b[0m\u001b[0;34m,\u001b[0m\u001b[0;34m\u001b[0m\u001b[0;34m\u001b[0m\u001b[0m\n",
            "\u001b[0;32m/usr/local/lib/python3.11/dist-packages/pydantic/main.py\u001b[0m in \u001b[0;36m__init__\u001b[0;34m(self, **data)\u001b[0m\n\u001b[1;32m    251\u001b[0m         \u001b[0;31m# `__tracebackhide__` tells pytest and some other tools to omit this function from tracebacks\u001b[0m\u001b[0;34m\u001b[0m\u001b[0;34m\u001b[0m\u001b[0m\n\u001b[1;32m    252\u001b[0m         \u001b[0m__tracebackhide__\u001b[0m \u001b[0;34m=\u001b[0m \u001b[0;32mTrue\u001b[0m\u001b[0;34m\u001b[0m\u001b[0;34m\u001b[0m\u001b[0m\n\u001b[0;32m--> 253\u001b[0;31m         \u001b[0mvalidated_self\u001b[0m \u001b[0;34m=\u001b[0m \u001b[0mself\u001b[0m\u001b[0;34m.\u001b[0m\u001b[0m__pydantic_validator__\u001b[0m\u001b[0;34m.\u001b[0m\u001b[0mvalidate_python\u001b[0m\u001b[0;34m(\u001b[0m\u001b[0mdata\u001b[0m\u001b[0;34m,\u001b[0m \u001b[0mself_instance\u001b[0m\u001b[0;34m=\u001b[0m\u001b[0mself\u001b[0m\u001b[0;34m)\u001b[0m\u001b[0;34m\u001b[0m\u001b[0;34m\u001b[0m\u001b[0m\n\u001b[0m\u001b[1;32m    254\u001b[0m         \u001b[0;32mif\u001b[0m \u001b[0mself\u001b[0m \u001b[0;32mis\u001b[0m \u001b[0;32mnot\u001b[0m \u001b[0mvalidated_self\u001b[0m\u001b[0;34m:\u001b[0m\u001b[0;34m\u001b[0m\u001b[0;34m\u001b[0m\u001b[0m\n\u001b[1;32m    255\u001b[0m             warnings.warn(\n",
            "\u001b[0;31mValidationError\u001b[0m: 2 validation errors for HuamnBotQuery\nsession_idq\n  Field required [type=missing, input_value={'session_id': '7a01e753-...', 'language': 'hi-IN'}, input_type=dict]\n    For further information visit https://errors.pydantic.dev/2.11/v/missing\nuser_text\n  Field required [type=missing, input_value={'session_id': '7a01e753-...', 'language': 'hi-IN'}, input_type=dict]\n    For further information visit https://errors.pydantic.dev/2.11/v/missing"
          ]
        }
      ]
    },
    {
      "cell_type": "code",
      "source": [
        "\n",
        "\n",
        "# def main_node(state: State):\n",
        "#     \"\"\"Main node handles the RTP and PTP scenarios\"\"\"\n",
        "#     if state[\"language\"] != \"Hindi\":\n",
        "#         result = main_pipeline.invoke({\"chat_history\": state[\"messages\"], \"language\": state[\"language\"], \"examples_hindi\": examples_hindi, \"ROI\": state[\"context\"]})\n",
        "#         return {\n",
        "#             \"messages\": [AIMessage(content=result.response), HumanMessage(content=state[\"user_text\"])],\n",
        "#             \"output\": result.response,\n",
        "#             \"status\": result.status,\n",
        "#             \"language\": state[\"language\"],\n",
        "#             \"today_date\": str(date.today()),\n",
        "#             \"context\": state[\"context\"],\n",
        "#         }\n",
        "#     else:\n",
        "#         result = main_pipeline.invoke({\"chat_history\": state[\"messages\"], \"language\": state[\"language\"], \"examples_hindi\": examples_hindi,\"ROI\": state[\"context\"]})\n",
        "#         return {\n",
        "#             \"messages\": [AIMessage(content=result.response), HumanMessage(content=state[\"user_text\"])],\n",
        "#             \"output\": result.response,\n",
        "#             \"status\": result.status,\n",
        "#             \"language\": state[\"language\"],\n",
        "#             \"examples_hindi\": examples_hindi,\n",
        "#             \"today_date\": str(date.today()),\n",
        "#             \"context\": state[\"context\"],\n",
        "#         }\n",
        "\n",
        "\n",
        "\n",
        "\n",
        "\n",
        "\n",
        "\n",
        "\n",
        "\n",
        "\n",
        "\n",
        "\n",
        "\n",
        "\n",
        "\n",
        "\n",
        "\n",
        "\n",
        "\n",
        "\n"
      ],
      "metadata": {
        "id": "-9_CmpYDAMzR",
        "colab": {
          "base_uri": "https://localhost:8080/",
          "height": 1000
        },
        "outputId": "a1313a3a-ceac-4662-dcea-549a97ec55f8"
      },
      "execution_count": null,
      "outputs": [
        {
          "output_type": "error",
          "ename": "ValueError",
          "evalue": "unexpected '{' in field name",
          "traceback": [
            "\u001b[0;31m---------------------------------------------------------------------------\u001b[0m",
            "\u001b[0;31mValueError\u001b[0m                                Traceback (most recent call last)",
            "\u001b[0;32m<ipython-input-17-bc4fd2c01de7>\u001b[0m in \u001b[0;36m<cell line: 0>\u001b[0;34m()\u001b[0m\n\u001b[1;32m    138\u001b[0m \u001b[0;34m\u001b[0m\u001b[0m\n\u001b[1;32m    139\u001b[0m \u001b[0;34m\u001b[0m\u001b[0m\n\u001b[0;32m--> 140\u001b[0;31m main_template=ChatPromptTemplate.from_messages(\n\u001b[0m\u001b[1;32m    141\u001b[0m     messages=[\n\u001b[1;32m    142\u001b[0m         \u001b[0;34m(\u001b[0m\u001b[0;34m\"system\"\u001b[0m\u001b[0;34m,\u001b[0m\u001b[0mprompt_gpt_reason\u001b[0m\u001b[0;34m)\u001b[0m\u001b[0;34m,\u001b[0m\u001b[0;34m\u001b[0m\u001b[0;34m\u001b[0m\u001b[0m\n",
            "\u001b[0;32m/usr/local/lib/python3.11/dist-packages/langchain_core/prompts/chat.py\u001b[0m in \u001b[0;36mfrom_messages\u001b[0;34m(cls, messages, template_format)\u001b[0m\n\u001b[1;32m   1153\u001b[0m             \u001b[0ma\u001b[0m \u001b[0mchat\u001b[0m \u001b[0mprompt\u001b[0m \u001b[0mtemplate\u001b[0m\u001b[0;34m.\u001b[0m\u001b[0;34m\u001b[0m\u001b[0;34m\u001b[0m\u001b[0m\n\u001b[1;32m   1154\u001b[0m         \"\"\"\n\u001b[0;32m-> 1155\u001b[0;31m         \u001b[0;32mreturn\u001b[0m \u001b[0mcls\u001b[0m\u001b[0;34m(\u001b[0m\u001b[0mmessages\u001b[0m\u001b[0;34m,\u001b[0m \u001b[0mtemplate_format\u001b[0m\u001b[0;34m=\u001b[0m\u001b[0mtemplate_format\u001b[0m\u001b[0;34m)\u001b[0m\u001b[0;34m\u001b[0m\u001b[0;34m\u001b[0m\u001b[0m\n\u001b[0m\u001b[1;32m   1156\u001b[0m \u001b[0;34m\u001b[0m\u001b[0m\n\u001b[1;32m   1157\u001b[0m     \u001b[0;32mdef\u001b[0m \u001b[0mformat_messages\u001b[0m\u001b[0;34m(\u001b[0m\u001b[0mself\u001b[0m\u001b[0;34m,\u001b[0m \u001b[0;34m**\u001b[0m\u001b[0mkwargs\u001b[0m\u001b[0;34m:\u001b[0m \u001b[0mAny\u001b[0m\u001b[0;34m)\u001b[0m \u001b[0;34m->\u001b[0m \u001b[0mlist\u001b[0m\u001b[0;34m[\u001b[0m\u001b[0mBaseMessage\u001b[0m\u001b[0;34m]\u001b[0m\u001b[0;34m:\u001b[0m\u001b[0;34m\u001b[0m\u001b[0;34m\u001b[0m\u001b[0m\n",
            "\u001b[0;32m/usr/local/lib/python3.11/dist-packages/langchain_core/prompts/chat.py\u001b[0m in \u001b[0;36m__init__\u001b[0;34m(self, messages, template_format, **kwargs)\u001b[0m\n\u001b[1;32m    935\u001b[0m \u001b[0;34m\u001b[0m\u001b[0m\n\u001b[1;32m    936\u001b[0m         \"\"\"\n\u001b[0;32m--> 937\u001b[0;31m         _messages = [\n\u001b[0m\u001b[1;32m    938\u001b[0m             \u001b[0m_convert_to_message_template\u001b[0m\u001b[0;34m(\u001b[0m\u001b[0mmessage\u001b[0m\u001b[0;34m,\u001b[0m \u001b[0mtemplate_format\u001b[0m\u001b[0;34m)\u001b[0m\u001b[0;34m\u001b[0m\u001b[0;34m\u001b[0m\u001b[0m\n\u001b[1;32m    939\u001b[0m             \u001b[0;32mfor\u001b[0m \u001b[0mmessage\u001b[0m \u001b[0;32min\u001b[0m \u001b[0mmessages\u001b[0m\u001b[0;34m\u001b[0m\u001b[0;34m\u001b[0m\u001b[0m\n",
            "\u001b[0;32m/usr/local/lib/python3.11/dist-packages/langchain_core/prompts/chat.py\u001b[0m in \u001b[0;36m<listcomp>\u001b[0;34m(.0)\u001b[0m\n\u001b[1;32m    936\u001b[0m         \"\"\"\n\u001b[1;32m    937\u001b[0m         _messages = [\n\u001b[0;32m--> 938\u001b[0;31m             \u001b[0m_convert_to_message_template\u001b[0m\u001b[0;34m(\u001b[0m\u001b[0mmessage\u001b[0m\u001b[0;34m,\u001b[0m \u001b[0mtemplate_format\u001b[0m\u001b[0;34m)\u001b[0m\u001b[0;34m\u001b[0m\u001b[0;34m\u001b[0m\u001b[0m\n\u001b[0m\u001b[1;32m    939\u001b[0m             \u001b[0;32mfor\u001b[0m \u001b[0mmessage\u001b[0m \u001b[0;32min\u001b[0m \u001b[0mmessages\u001b[0m\u001b[0;34m\u001b[0m\u001b[0;34m\u001b[0m\u001b[0m\n\u001b[1;32m    940\u001b[0m         ]\n",
            "\u001b[0;32m/usr/local/lib/python3.11/dist-packages/langchain_core/prompts/chat.py\u001b[0m in \u001b[0;36m_convert_to_message_template\u001b[0;34m(message, template_format)\u001b[0m\n\u001b[1;32m   1429\u001b[0m         \u001b[0mmessage_type_str\u001b[0m\u001b[0;34m,\u001b[0m \u001b[0mtemplate\u001b[0m \u001b[0;34m=\u001b[0m \u001b[0mmessage\u001b[0m\u001b[0;34m\u001b[0m\u001b[0;34m\u001b[0m\u001b[0m\n\u001b[1;32m   1430\u001b[0m         \u001b[0;32mif\u001b[0m \u001b[0misinstance\u001b[0m\u001b[0;34m(\u001b[0m\u001b[0mmessage_type_str\u001b[0m\u001b[0;34m,\u001b[0m \u001b[0mstr\u001b[0m\u001b[0;34m)\u001b[0m\u001b[0;34m:\u001b[0m\u001b[0;34m\u001b[0m\u001b[0;34m\u001b[0m\u001b[0m\n\u001b[0;32m-> 1431\u001b[0;31m             _message = _create_template_from_message_type(\n\u001b[0m\u001b[1;32m   1432\u001b[0m                 \u001b[0mmessage_type_str\u001b[0m\u001b[0;34m,\u001b[0m \u001b[0mtemplate\u001b[0m\u001b[0;34m,\u001b[0m \u001b[0mtemplate_format\u001b[0m\u001b[0;34m=\u001b[0m\u001b[0mtemplate_format\u001b[0m\u001b[0;34m\u001b[0m\u001b[0;34m\u001b[0m\u001b[0m\n\u001b[1;32m   1433\u001b[0m             )\n",
            "\u001b[0;32m/usr/local/lib/python3.11/dist-packages/langchain_core/prompts/chat.py\u001b[0m in \u001b[0;36m_create_template_from_message_type\u001b[0;34m(message_type, template, template_format)\u001b[0m\n\u001b[1;32m   1336\u001b[0m         )\n\u001b[1;32m   1337\u001b[0m     \u001b[0;32melif\u001b[0m \u001b[0mmessage_type\u001b[0m \u001b[0;34m==\u001b[0m \u001b[0;34m\"system\"\u001b[0m\u001b[0;34m:\u001b[0m\u001b[0;34m\u001b[0m\u001b[0;34m\u001b[0m\u001b[0m\n\u001b[0;32m-> 1338\u001b[0;31m         message = SystemMessagePromptTemplate.from_template(\n\u001b[0m\u001b[1;32m   1339\u001b[0m             \u001b[0mcast\u001b[0m\u001b[0;34m(\u001b[0m\u001b[0;34m\"str\"\u001b[0m\u001b[0;34m,\u001b[0m \u001b[0mtemplate\u001b[0m\u001b[0;34m)\u001b[0m\u001b[0;34m,\u001b[0m \u001b[0mtemplate_format\u001b[0m\u001b[0;34m=\u001b[0m\u001b[0mtemplate_format\u001b[0m\u001b[0;34m\u001b[0m\u001b[0;34m\u001b[0m\u001b[0m\n\u001b[1;32m   1340\u001b[0m         )\n",
            "\u001b[0;32m/usr/local/lib/python3.11/dist-packages/langchain_core/prompts/chat.py\u001b[0m in \u001b[0;36mfrom_template\u001b[0;34m(cls, template, template_format, partial_variables, **kwargs)\u001b[0m\n\u001b[1;32m    436\u001b[0m         \"\"\"\n\u001b[1;32m    437\u001b[0m         \u001b[0;32mif\u001b[0m \u001b[0misinstance\u001b[0m\u001b[0;34m(\u001b[0m\u001b[0mtemplate\u001b[0m\u001b[0;34m,\u001b[0m \u001b[0mstr\u001b[0m\u001b[0;34m)\u001b[0m\u001b[0;34m:\u001b[0m\u001b[0;34m\u001b[0m\u001b[0;34m\u001b[0m\u001b[0m\n\u001b[0;32m--> 438\u001b[0;31m             prompt: Union[StringPromptTemplate, list] = PromptTemplate.from_template(\n\u001b[0m\u001b[1;32m    439\u001b[0m                 \u001b[0mtemplate\u001b[0m\u001b[0;34m,\u001b[0m\u001b[0;34m\u001b[0m\u001b[0;34m\u001b[0m\u001b[0m\n\u001b[1;32m    440\u001b[0m                 \u001b[0mtemplate_format\u001b[0m\u001b[0;34m=\u001b[0m\u001b[0mtemplate_format\u001b[0m\u001b[0;34m,\u001b[0m\u001b[0;34m\u001b[0m\u001b[0;34m\u001b[0m\u001b[0m\n",
            "\u001b[0;32m/usr/local/lib/python3.11/dist-packages/langchain_core/prompts/prompt.py\u001b[0m in \u001b[0;36mfrom_template\u001b[0;34m(cls, template, template_format, partial_variables, **kwargs)\u001b[0m\n\u001b[1;32m    287\u001b[0m             \u001b[0mThe\u001b[0m \u001b[0mprompt\u001b[0m \u001b[0mtemplate\u001b[0m \u001b[0mloaded\u001b[0m \u001b[0;32mfrom\u001b[0m \u001b[0mthe\u001b[0m \u001b[0mtemplate\u001b[0m\u001b[0;34m.\u001b[0m\u001b[0;34m\u001b[0m\u001b[0;34m\u001b[0m\u001b[0m\n\u001b[1;32m    288\u001b[0m         \"\"\"\n\u001b[0;32m--> 289\u001b[0;31m         \u001b[0minput_variables\u001b[0m \u001b[0;34m=\u001b[0m \u001b[0mget_template_variables\u001b[0m\u001b[0;34m(\u001b[0m\u001b[0mtemplate\u001b[0m\u001b[0;34m,\u001b[0m \u001b[0mtemplate_format\u001b[0m\u001b[0;34m)\u001b[0m\u001b[0;34m\u001b[0m\u001b[0;34m\u001b[0m\u001b[0m\n\u001b[0m\u001b[1;32m    290\u001b[0m         \u001b[0m_partial_variables\u001b[0m \u001b[0;34m=\u001b[0m \u001b[0mpartial_variables\u001b[0m \u001b[0;32mor\u001b[0m \u001b[0;34m{\u001b[0m\u001b[0;34m}\u001b[0m\u001b[0;34m\u001b[0m\u001b[0;34m\u001b[0m\u001b[0m\n\u001b[1;32m    291\u001b[0m \u001b[0;34m\u001b[0m\u001b[0m\n",
            "\u001b[0;32m/usr/local/lib/python3.11/dist-packages/langchain_core/prompts/string.py\u001b[0m in \u001b[0;36mget_template_variables\u001b[0;34m(template, template_format)\u001b[0m\n\u001b[1;32m    252\u001b[0m         \u001b[0minput_variables\u001b[0m \u001b[0;34m=\u001b[0m \u001b[0m_get_jinja2_variables_from_template\u001b[0m\u001b[0;34m(\u001b[0m\u001b[0mtemplate\u001b[0m\u001b[0;34m)\u001b[0m\u001b[0;34m\u001b[0m\u001b[0;34m\u001b[0m\u001b[0m\n\u001b[1;32m    253\u001b[0m     \u001b[0;32melif\u001b[0m \u001b[0mtemplate_format\u001b[0m \u001b[0;34m==\u001b[0m \u001b[0;34m\"f-string\"\u001b[0m\u001b[0;34m:\u001b[0m\u001b[0;34m\u001b[0m\u001b[0;34m\u001b[0m\u001b[0m\n\u001b[0;32m--> 254\u001b[0;31m         input_variables = {\n\u001b[0m\u001b[1;32m    255\u001b[0m             \u001b[0mv\u001b[0m \u001b[0;32mfor\u001b[0m \u001b[0m_\u001b[0m\u001b[0;34m,\u001b[0m \u001b[0mv\u001b[0m\u001b[0;34m,\u001b[0m \u001b[0m_\u001b[0m\u001b[0;34m,\u001b[0m \u001b[0m_\u001b[0m \u001b[0;32min\u001b[0m \u001b[0mFormatter\u001b[0m\u001b[0;34m(\u001b[0m\u001b[0;34m)\u001b[0m\u001b[0;34m.\u001b[0m\u001b[0mparse\u001b[0m\u001b[0;34m(\u001b[0m\u001b[0mtemplate\u001b[0m\u001b[0;34m)\u001b[0m \u001b[0;32mif\u001b[0m \u001b[0mv\u001b[0m \u001b[0;32mis\u001b[0m \u001b[0;32mnot\u001b[0m \u001b[0;32mNone\u001b[0m\u001b[0;34m\u001b[0m\u001b[0;34m\u001b[0m\u001b[0m\n\u001b[1;32m    256\u001b[0m         }\n",
            "\u001b[0;32m/usr/local/lib/python3.11/dist-packages/langchain_core/prompts/string.py\u001b[0m in \u001b[0;36m<setcomp>\u001b[0;34m(.0)\u001b[0m\n\u001b[1;32m    252\u001b[0m         \u001b[0minput_variables\u001b[0m \u001b[0;34m=\u001b[0m \u001b[0m_get_jinja2_variables_from_template\u001b[0m\u001b[0;34m(\u001b[0m\u001b[0mtemplate\u001b[0m\u001b[0;34m)\u001b[0m\u001b[0;34m\u001b[0m\u001b[0;34m\u001b[0m\u001b[0m\n\u001b[1;32m    253\u001b[0m     \u001b[0;32melif\u001b[0m \u001b[0mtemplate_format\u001b[0m \u001b[0;34m==\u001b[0m \u001b[0;34m\"f-string\"\u001b[0m\u001b[0;34m:\u001b[0m\u001b[0;34m\u001b[0m\u001b[0;34m\u001b[0m\u001b[0m\n\u001b[0;32m--> 254\u001b[0;31m         input_variables = {\n\u001b[0m\u001b[1;32m    255\u001b[0m             \u001b[0mv\u001b[0m \u001b[0;32mfor\u001b[0m \u001b[0m_\u001b[0m\u001b[0;34m,\u001b[0m \u001b[0mv\u001b[0m\u001b[0;34m,\u001b[0m \u001b[0m_\u001b[0m\u001b[0;34m,\u001b[0m \u001b[0m_\u001b[0m \u001b[0;32min\u001b[0m \u001b[0mFormatter\u001b[0m\u001b[0;34m(\u001b[0m\u001b[0;34m)\u001b[0m\u001b[0;34m.\u001b[0m\u001b[0mparse\u001b[0m\u001b[0;34m(\u001b[0m\u001b[0mtemplate\u001b[0m\u001b[0;34m)\u001b[0m \u001b[0;32mif\u001b[0m \u001b[0mv\u001b[0m \u001b[0;32mis\u001b[0m \u001b[0;32mnot\u001b[0m \u001b[0;32mNone\u001b[0m\u001b[0;34m\u001b[0m\u001b[0;34m\u001b[0m\u001b[0m\n\u001b[1;32m    256\u001b[0m         }\n",
            "\u001b[0;31mValueError\u001b[0m: unexpected '{' in field name"
          ]
        }
      ]
    },
    {
      "cell_type": "code",
      "source": [],
      "metadata": {
        "id": "aqHYlml_HLiz"
      },
      "execution_count": null,
      "outputs": []
    },
    {
      "cell_type": "markdown",
      "source": [
        "# NEW FORMAT"
      ],
      "metadata": {
        "id": "pIp0pTGOcqDG"
      }
    },
    {
      "cell_type": "markdown",
      "source": [],
      "metadata": {
        "id": "3L9A-1nDcp_q"
      }
    },
    {
      "cell_type": "markdown",
      "source": [],
      "metadata": {
        "id": "70OBe3trcp7x"
      }
    },
    {
      "cell_type": "markdown",
      "source": [],
      "metadata": {
        "id": "BR6f7LDhcp33"
      }
    },
    {
      "cell_type": "markdown",
      "source": [],
      "metadata": {
        "id": "bhopKg__cp0R"
      }
    },
    {
      "cell_type": "code",
      "source": [
        "class RouteClassification(BaseModel):\n",
        "    step: Literal[\n",
        "        \"busy\", \"wrong_number\", \"info_wrong\",\n",
        "        \"irrelevant_ans\", \"reject\", \"repeat\",\n",
        "        \"res_language\", \"agent_node\", \"main_node\"\n",
        "    ] = Field(description=\"Conversation step classification\")\n",
        "    language: Literal[\"English\", \"Hindi\"] = Field(description=\"Response language\")\n",
        "\n",
        "\n",
        "router_prompt = ChatPromptTemplate.from_messages([\n",
        "    (\"system\", \"\"\"Expert classifier for loan conversations. Analyze user input and:\n",
        "     - Detect language (English/Hindi)\n",
        "     - Classify intent: busy, wrong_number, loan_interest, etc.\n",
        "     - Route to appropriate handling node\"\"\"),\n",
        "    (\"placeholder\", \"{chat_history}\"),\n",
        "    (\"user\", \"{user_input}\")\n",
        "])\n",
        "\n",
        "router_chain = router_prompt | llm_router.with_structured_output(RouteClassification)"
      ],
      "metadata": {
        "id": "L90rvzO6t_wN"
      },
      "execution_count": null,
      "outputs": []
    },
    {
      "cell_type": "code",
      "source": [],
      "metadata": {
        "id": "zIwT6-Ar2A6G"
      },
      "execution_count": null,
      "outputs": []
    },
    {
      "cell_type": "code",
      "source": [
        "router_chain.invoke({\"user_input\": \"मैं लोन लेना चाहता हूँ\"})"
      ],
      "metadata": {
        "colab": {
          "base_uri": "https://localhost:8080/"
        },
        "id": "XTHZCbj2uw6V",
        "outputId": "ad287a91-9884-4573-c24e-db25fce600f1"
      },
      "execution_count": null,
      "outputs": [
        {
          "output_type": "execute_result",
          "data": {
            "text/plain": [
              "RouteClassification(step='main_node', language='Hindi')"
            ]
          },
          "metadata": {},
          "execution_count": 17
        }
      ]
    },
    {
      "cell_type": "code",
      "source": [
        "class NodeResponse(BaseModel):\n",
        "    response: str = Field(description=\"Generated response text\")\n",
        "    status: Literal[\"end\", \"continue\"] = Field(description=\"Conversation status\")\n",
        "\n",
        "\n",
        "# Main Conversation Node\n",
        "main_prompt = ChatPromptTemplate.from_messages([\n",
        "    (\"system\", \"\"\"MicMaX loan expert. Handle loan inquiries in {language}.\n",
        "     Follow flow: Eligibility -> Details -> Agent connection.\n",
        "     Use simple {language} with financial terms.\"\"\"+route_prompt),\n",
        "    (\"placeholder\", \"{chat_history}\"),\n",
        "    (\"user\", \"{user_input}\")\n",
        "])\n",
        "main_chain = main_prompt | llm_node.with_structured_output(NodeResponse)"
      ],
      "metadata": {
        "id": "iPAXeR3ou3pZ"
      },
      "execution_count": null,
      "outputs": []
    },
    {
      "cell_type": "code",
      "source": [
        "main_chain.invoke({\"user_input\": \"मैं लोन लेना चाहते हूँ\", \"language\": \"Hindi\"})"
      ],
      "metadata": {
        "colab": {
          "base_uri": "https://localhost:8080/"
        },
        "id": "yjIkay7dvi30",
        "outputId": "19d63bc0-2b8c-4fd9-e24a-bc2b2d9654b7"
      },
      "execution_count": null,
      "outputs": [
        {
          "output_type": "execute_result",
          "data": {
            "text/plain": [
              "NodeResponse(response='आप लोन लेने के लिए योग्य हैं या नहीं, यह जानने के लिए कुछ जानकारी चाहिए। क्या आप मुझे बता सकते हैं कि आपकी आय कितनी है और आपकी उम्र क्या है?', status='continue')"
            ]
          },
          "metadata": {},
          "execution_count": 21
        }
      ]
    },
    {
      "cell_type": "code",
      "source": [
        "agent_prompt = ChatPromptTemplate.from_messages([\n",
        "    (\"system\", \"\"\"Handle agent transfer requests in {language}.\n",
        "     Confirm intent, collect needed info, schedule callback.\"\"\"),\n",
        "    (\"placeholder\", \"{chat_history}\"),\n",
        "    (\"user\", \"{user_input}\")\n",
        "])\n",
        "agent_chain = agent_prompt | llm_node.with_structured_output(NodeResponse)"
      ],
      "metadata": {
        "id": "jrHJzE3Wvp3W"
      },
      "execution_count": null,
      "outputs": []
    },
    {
      "cell_type": "code",
      "source": [
        "agent_chain.invoke({\"user_input\": \"मैं लोन लेना चाहते हूँ\", \"language\": \"Hindi\"})"
      ],
      "metadata": {
        "colab": {
          "base_uri": "https://localhost:8080/"
        },
        "id": "tb41IAx0wE8X",
        "outputId": "0402c4c9-510d-4d36-f14f-009627e0e06f"
      },
      "execution_count": null,
      "outputs": [
        {
          "output_type": "execute_result",
          "data": {
            "text/plain": [
              "NodeResponse(response='आप लोन लेने के लिए सही जगह पर हैं। क्या आप मुझे बताना चाहेंगे कि आपको किस प्रकार का लोन चाहिए? जैसे कि व्यक्तिगत लोन, होम लोन या वाहन लोन?', status='continue')"
            ]
          },
          "metadata": {},
          "execution_count": 23
        }
      ]
    },
    {
      "cell_type": "code",
      "source": [
        "from typing import Optional\n",
        "from typing import Annotated, Literal, Sequence, TypedDict\n",
        "import operator\n",
        "from langgraph.graph import END, StateGraph, add_messages\n",
        "from langchain_core.messages import BaseMessage\n",
        "\n",
        "class State(TypedDict):\n",
        "  messages: Annotated[Sequence[BaseMessage], add_messages]\n",
        "  context:dict\n",
        "  number_conversation:Annotated[int,operator.add]=1\n",
        "  today_date:str\n",
        "  user_text:str\n",
        "  decision:str\n",
        "  output:str\n",
        "  status:str\n",
        "  language:str\n",
        "  busy_counter:Annotated[int,operator.add]=0\n",
        "  refusal_counter: Annotated[int,operator.add]=0\n"
      ],
      "metadata": {
        "id": "O0ItQ0fFxtLk"
      },
      "execution_count": null,
      "outputs": []
    },
    {
      "cell_type": "code",
      "source": [
        "prompt_gpt_response=\"\"\"Tata Capital loan expert. Handle loan inquiries in {language}.\n",
        "     Follow flow: Eligibility -> Details -> Agent connection.\n",
        "     Use simple {language} with financial terms.\"\"\""
      ],
      "metadata": {
        "id": "NZt9m6a00wWm"
      },
      "execution_count": null,
      "outputs": []
    },
    {
      "cell_type": "code",
      "source": [
        "# check this\n",
        "node_message=llm_node.with_structured_output(NodeResponse)"
      ],
      "metadata": {
        "id": "KmDALXsL1nNx"
      },
      "execution_count": null,
      "outputs": []
    },
    {
      "cell_type": "code",
      "source": [
        "main_template=ChatPromptTemplate.from_messages(\n",
        "    messages=[\n",
        "        (\"system\",prompt_gpt_response),\n",
        "        (\"placeholder\", \"{chat_history}\"),\n",
        "    ]\n",
        ")"
      ],
      "metadata": {
        "id": "MHiYaiSyxtIH"
      },
      "execution_count": null,
      "outputs": []
    },
    {
      "cell_type": "code",
      "source": [
        "main_pipeline=main_template|node_message"
      ],
      "metadata": {
        "id": "B6I6P3yixtET"
      },
      "execution_count": null,
      "outputs": []
    },
    {
      "cell_type": "code",
      "source": [
        "prompt_gpt_reason_diff=\"\"\"hi\"\"\""
      ],
      "metadata": {
        "id": "az-MAtHM3b-S"
      },
      "execution_count": null,
      "outputs": []
    },
    {
      "cell_type": "code",
      "source": [
        "main_template_diff=ChatPromptTemplate.from_messages(\n",
        "    messages=[\n",
        "        (\"system\",prompt_gpt_reason_diff),\n",
        "        (\"placeholder\", \"{chat_history}\"),\n",
        "    ]\n",
        ")\n",
        "main_pipeline_diff=main_template_diff|node_message"
      ],
      "metadata": {
        "id": "iuoSd-Wo2WxJ"
      },
      "execution_count": null,
      "outputs": []
    },
    {
      "cell_type": "code",
      "source": [
        "def main_node(state:State):\n",
        "  \"main node handle the rtp and ptp scenarios\"\n",
        "  if state[\"number_conversation\"]%3==0:\n",
        "    if(state[\"language\"]==\"Hindi\"):\n",
        "      result=main_pipeline.invoke({\"user_input\":state[\"user_text\"],\"language\":\"English\"})\n",
        "      return {\"messages\":(AIMessage(content=result.response)),\"output\":result.response,\"status\":result.status,\"date_time\":str(date.time())}\n",
        "    else:\n",
        "      result=main_pipeline_diff.invoke({\"user_input\":state[\"user_text\"],\"language\":\"English\"})\n",
        "      return {\"messages\":(AIMessage(content=result.response)),\"output\":result.response,\"status\":result.status,\"date_time\":str(date.time())}\n",
        "  else:\n",
        "    if(state[\"language\"]==\"Hindi\"):\n",
        "      result=main_pipeline.invoke({\"user_input\":state[\"user_text\"],\"language\":\"English\"})\n",
        "      return {\"messages\":(AIMessage(content=result.response)),\"output\":result.response,\"status\":result.status,\"date_time\":str(date.time())}\n",
        "    else:\n",
        "      result=main_pipeline_diff.invoke({\"user_input\":state[\"user_text\"],\"language\":\"English\"})\n",
        "      return {\"messages\":(AIMessage(content=result.response)),\"output\":result.response,\"status\":result.status,\"date_time\":str(date.time())}"
      ],
      "metadata": {
        "id": "HggbQDLU2Wt4"
      },
      "execution_count": null,
      "outputs": []
    },
    {
      "cell_type": "code",
      "source": [
        "agent_temp_diff=ChatPromptTemplate.from_messages(\n",
        "    messages=[\n",
        "        (\"system\",agent_gpt_reason_diff),\n",
        "        (\"placeholder\", \"{chat_history}\"),\n",
        "    ]\n",
        ")\n",
        "agent_pipeline_diff=agent_temp_diff|node_message"
      ],
      "metadata": {
        "id": "V5A-0QEj2Wrz"
      },
      "execution_count": null,
      "outputs": []
    },
    {
      "cell_type": "code",
      "source": [
        "def llm_call_router(state:State):\n",
        "  \"Route the input to the appropriate node\"\n",
        "  print(\"#\"*25)\n",
        "  decision=router_chain.invoke(\n",
        "      [\n",
        "          SystemMessage(content=\"\"\"Analysis the human response and set the step to busy,wrong_number,info_wrong,main_node,agent_node,\"\"\"),\n",
        "          HumanMessage(content=state[\"user_text\"])\n",
        "      ]\n",
        "  )\n",
        "  return {\"decision\":decision.step,\"language\":decision.language}"
      ],
      "metadata": {
        "id": "tdxzD0og2Wp0"
      },
      "execution_count": null,
      "outputs": []
    },
    {
      "cell_type": "code",
      "source": [
        "def route_decision(state:State):\n",
        "  \"Route the input to the appropriate node\"\n",
        "  if(state[\"decision\"]==\"busy\"):\n",
        "    return \"busy\"\n",
        "  elif(state[\"decision\"]==\"wrong_number\"):\n",
        "    return \"wrong_number\"\n",
        "  elif(state[\"decision\"]==\"info_wrong\"):\n",
        "    return \"info_wrong\"\n",
        "  elif(state[\"decision\"]==\"irrelevant_ans\"):\n",
        "    return \"irrelevant_ans\"\n",
        "  elif(state[\"decision\"]==\"reject\"):\n",
        "    return \"reject\"\n",
        "  elif(state[\"decision\"]==\"repeat\"):\n",
        "    return \"repeat\"\n",
        "  else:\n",
        "    return \"main_node\"\n"
      ],
      "metadata": {
        "id": "3vV-0TSg2Wlo"
      },
      "execution_count": null,
      "outputs": []
    },
    {
      "cell_type": "code",
      "source": [
        "def busy_node(state:State):\n",
        "  return {\"messages\":(AIMessage(content=\"\")),\"output\":\"\",\"status\":\"end\",\"date_time\":str(date.time())}\n",
        "\n",
        "def wrong_number_node(state:State):\n",
        "  return {\"messages\":(AIMessage(content=\"\")),\"output\":\"\",\"status\":\"end\",\"date_time\":str(date.time())}\n",
        "\n",
        "def info_wrong_node(state:State):\n",
        "  return {\"messages\":(AIMessage(content=\"\")),\"output\":\"\",\"status\":\"end\",\"date_time\":str(date.time())}\n",
        "\n",
        "def irrelevant_ans_node(state:State):\n",
        "  return {\"messages\":(AIMessage(content=\"\")),\"output\":\"\",\"status\":\"end\",\"date_time\":str(date.time())}\n",
        "\n",
        "def reject_node(state:State):\n",
        "  return {\"messages\":(AIMessage(content=\"\")),\"output\":\"\",\"status\":\"end\",\"date_time\":str(date.time())}\n",
        "\n",
        "def repeat_node(state:State):\n",
        "  return {\"messages\":(AIMessage(content=\"\")),\"output\":\"\",\"status\":\"end\",\"date_time\":str(date.time())}\n",
        "\n",
        "def agent_node(state:State):\n",
        "  return {\"messages\":(AIMessage(content=\"\")),\"output\":\"\",\"status\":\"end\",\"date_time\":str(date.time())}\n"
      ],
      "metadata": {
        "id": "zehAHhVbCru3"
      },
      "execution_count": null,
      "outputs": []
    },
    {
      "cell_type": "code",
      "source": [
        "graph=StateGraph(State)\n",
        "graph.add_node(\"busy_node\",busy_node)\n",
        "graph.add_node(\"wrong_number_node\",wrong_number_node)\n",
        "graph.add_node(\"info_wrong_node\",info_wrong_node)\n",
        "graph.add_node(\"irrelevant_ans_node\",irrelevant_ans_node)\n",
        "graph.add_node(\"reject_node\",reject_node)\n",
        "graph.add_node(\"repeat_node\",repeat_node)\n",
        "graph.add_node(\"main_node\",main_node)\n",
        "graph.add_node(\"agent_node\",agent_node)\n",
        "graph.add_node(\"router_node\",llm_call_router)\n",
        "\n",
        "graph.add_conditional_edges(\"router_node\",route_decision,{\n",
        "    \"busy\":\"busy_node\",\n",
        "    \"wrong_number\":\"wrong_number_node\",\n",
        "    \"info_wrong\":\"info_wrong_node\",\n",
        "    \"irrelevant_ans\":\"irrelevant_ans_node\",\n",
        "    \"reject\":\"reject_node\",\n",
        "    \"repeat\":\"repeat_node\",\n",
        "    \"main_node\":\"main_node\",\n",
        "    \"agent_node\":\"agent_node\"\n",
        "})\n",
        "graph.add_edge(START,\"router_node\")\n",
        "graph.add_edge(\"busy_node\",END)\n",
        "graph.add_edge(\"wrong_number_node\",END)\n",
        "graph.add_edge(\"info_wrong_node\",END)\n",
        "graph.add_edge(\"irrelevant_ans_node\",END)\n",
        "graph.add_edge(\"reject_node\",END)\n",
        "graph.add_edge(\"repeat_node\",END)\n",
        "graph.add_edge(\"main_node\",END)\n",
        "graph.add_edge(\"agent_node\",END)\n",
        "\n",
        "from langgraph.checkpoint.memory import MemorySaver\n",
        "checkpointer = MemorySaver()\n",
        "\n",
        "workflow = graph.compile(checkpointer=checkpointer)"
      ],
      "metadata": {
        "id": "s63bXz392Wiu"
      },
      "execution_count": null,
      "outputs": []
    },
    {
      "cell_type": "code",
      "source": [
        "from IPython.display import Image, display\n",
        "\n",
        "try:\n",
        "    display(Image(workflow.get_graph().draw_mermaid_png()))\n",
        "except Exception:\n",
        "    # This requires some extra dependencies and is optional\n",
        "    pass"
      ],
      "metadata": {
        "colab": {
          "base_uri": "https://localhost:8080/",
          "height": 177
        },
        "id": "sAFaXLuF2Wf5",
        "outputId": "5744069e-fb97-470f-edec-9b7ab906f4a3"
      },
      "execution_count": null,
      "outputs": [
        {
          "output_type": "display_data",
          "data": {
            "image/png": "[encoded data removed]",
            "text/plain": [
              "<IPython.core.display.Image object>"
            ]
          },
          "metadata": {}
        }
      ]
    },
    {
      "cell_type": "code",
      "source": [],
      "metadata": {
        "id": "ve5Q3OA72WdS"
      },
      "execution_count": null,
      "outputs": []
    },
    {
      "cell_type": "code",
      "source": [],
      "metadata": {
        "id": "YIM7hPlc2WaR"
      },
      "execution_count": null,
      "outputs": []
    },
    {
      "cell_type": "code",
      "source": [],
      "metadata": {
        "id": "Y9FTLgfc2WXV"
      },
      "execution_count": null,
      "outputs": []
    }
  ]
}