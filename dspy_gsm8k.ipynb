{
  "nbformat": 4,
  "nbformat_minor": 0,
  "metadata": {
    "colab": {
      "provenance": []
    },
    "kernelspec": {
      "name": "python3",
      "display_name": "Python 3"
    },
    "language_info": {
      "name": "python"
    }
  },
  "cells": [
    {
      "cell_type": "code",
      "execution_count": 2,
      "metadata": {
        "colab": {
          "base_uri": "https://localhost:8080/"
        },
        "id": "E9ubanbdjjmq",
        "outputId": "fd50be04-69c2-4ed5-82ef-7a613331c539"
      },
      "outputs": [
        {
          "output_type": "stream",
          "name": "stdout",
          "text": [
            "Requirement already satisfied: dspy in /usr/local/lib/python3.11/dist-packages (2.6.27)\n",
            "Requirement already satisfied: backoff>=2.2 in /usr/local/lib/python3.11/dist-packages (from dspy) (2.2.1)\n",
            "Requirement already satisfied: joblib~=1.3 in /usr/local/lib/python3.11/dist-packages (from dspy) (1.5.1)\n",
            "Requirement already satisfied: openai>=0.28.1 in /usr/local/lib/python3.11/dist-packages (from dspy) (1.93.0)\n",
            "Requirement already satisfied: pandas>=2.1.1 in /usr/local/lib/python3.11/dist-packages (from dspy) (2.2.2)\n",
            "Requirement already satisfied: regex>=2023.10.3 in /usr/local/lib/python3.11/dist-packages (from dspy) (2024.11.6)\n",
            "Requirement already satisfied: ujson>=5.8.0 in /usr/local/lib/python3.11/dist-packages (from dspy) (5.10.0)\n",
            "Requirement already satisfied: tqdm>=4.66.1 in /usr/local/lib/python3.11/dist-packages (from dspy) (4.67.1)\n",
            "Requirement already satisfied: datasets>=2.14.6 in /usr/local/lib/python3.11/dist-packages (from dspy) (3.6.0)\n",
            "Requirement already satisfied: requests>=2.31.0 in /usr/local/lib/python3.11/dist-packages (from dspy) (2.32.3)\n",
            "Requirement already satisfied: optuna>=3.4.0 in /usr/local/lib/python3.11/dist-packages (from dspy) (4.4.0)\n",
            "Requirement already satisfied: pydantic>=2.0 in /usr/local/lib/python3.11/dist-packages (from dspy) (2.11.7)\n",
            "Requirement already satisfied: magicattr>=0.1.6 in /usr/local/lib/python3.11/dist-packages (from dspy) (0.1.6)\n",
            "Requirement already satisfied: litellm>=1.60.3 in /usr/local/lib/python3.11/dist-packages (from dspy) (1.73.6)\n",
            "Requirement already satisfied: diskcache>=5.6.0 in /usr/local/lib/python3.11/dist-packages (from dspy) (5.6.3)\n",
            "Requirement already satisfied: json-repair>=0.30.0 in /usr/local/lib/python3.11/dist-packages (from dspy) (0.47.6)\n",
            "Requirement already satisfied: tenacity>=8.2.3 in /usr/local/lib/python3.11/dist-packages (from dspy) (8.5.0)\n",
            "Requirement already satisfied: anyio in /usr/local/lib/python3.11/dist-packages (from dspy) (4.9.0)\n",
            "Requirement already satisfied: asyncer==0.0.8 in /usr/local/lib/python3.11/dist-packages (from dspy) (0.0.8)\n",
            "Requirement already satisfied: cachetools>=5.5.0 in /usr/local/lib/python3.11/dist-packages (from dspy) (5.5.2)\n",
            "Requirement already satisfied: cloudpickle>=3.0.0 in /usr/local/lib/python3.11/dist-packages (from dspy) (3.1.1)\n",
            "Requirement already satisfied: rich>=13.7.1 in /usr/local/lib/python3.11/dist-packages (from dspy) (13.9.4)\n",
            "Requirement already satisfied: numpy>=1.26.0 in /usr/local/lib/python3.11/dist-packages (from dspy) (2.0.2)\n",
            "Requirement already satisfied: idna>=2.8 in /usr/local/lib/python3.11/dist-packages (from anyio->dspy) (3.10)\n",
            "Requirement already satisfied: sniffio>=1.1 in /usr/local/lib/python3.11/dist-packages (from anyio->dspy) (1.3.1)\n",
            "Requirement already satisfied: typing_extensions>=4.5 in /usr/local/lib/python3.11/dist-packages (from anyio->dspy) (4.14.0)\n",
            "Requirement already satisfied: filelock in /usr/local/lib/python3.11/dist-packages (from datasets>=2.14.6->dspy) (3.18.0)\n",
            "Requirement already satisfied: pyarrow>=15.0.0 in /usr/local/lib/python3.11/dist-packages (from datasets>=2.14.6->dspy) (18.1.0)\n",
            "Requirement already satisfied: dill<0.3.9,>=0.3.0 in /usr/local/lib/python3.11/dist-packages (from datasets>=2.14.6->dspy) (0.3.7)\n",
            "Requirement already satisfied: xxhash in /usr/local/lib/python3.11/dist-packages (from datasets>=2.14.6->dspy) (3.5.0)\n",
            "Requirement already satisfied: multiprocess<0.70.17 in /usr/local/lib/python3.11/dist-packages (from datasets>=2.14.6->dspy) (0.70.15)\n",
            "Requirement already satisfied: fsspec<=2025.3.0,>=2023.1.0 in /usr/local/lib/python3.11/dist-packages (from fsspec[http]<=2025.3.0,>=2023.1.0->datasets>=2.14.6->dspy) (2025.3.0)\n",
            "Requirement already satisfied: huggingface-hub>=0.24.0 in /usr/local/lib/python3.11/dist-packages (from datasets>=2.14.6->dspy) (0.33.1)\n",
            "Requirement already satisfied: packaging in /usr/local/lib/python3.11/dist-packages (from datasets>=2.14.6->dspy) (24.2)\n",
            "Requirement already satisfied: pyyaml>=5.1 in /usr/local/lib/python3.11/dist-packages (from datasets>=2.14.6->dspy) (6.0.2)\n",
            "Requirement already satisfied: aiohttp>=3.10 in /usr/local/lib/python3.11/dist-packages (from litellm>=1.60.3->dspy) (3.11.15)\n",
            "Requirement already satisfied: click in /usr/local/lib/python3.11/dist-packages (from litellm>=1.60.3->dspy) (8.2.1)\n",
            "Requirement already satisfied: httpx>=0.23.0 in /usr/local/lib/python3.11/dist-packages (from litellm>=1.60.3->dspy) (0.28.1)\n",
            "Requirement already satisfied: importlib-metadata>=6.8.0 in /usr/local/lib/python3.11/dist-packages (from litellm>=1.60.3->dspy) (8.7.0)\n",
            "Requirement already satisfied: jinja2<4.0.0,>=3.1.2 in /usr/local/lib/python3.11/dist-packages (from litellm>=1.60.3->dspy) (3.1.6)\n",
            "Requirement already satisfied: jsonschema<5.0.0,>=4.22.0 in /usr/local/lib/python3.11/dist-packages (from litellm>=1.60.3->dspy) (4.24.0)\n",
            "Requirement already satisfied: python-dotenv>=0.2.0 in /usr/local/lib/python3.11/dist-packages (from litellm>=1.60.3->dspy) (1.1.1)\n",
            "Requirement already satisfied: tiktoken>=0.7.0 in /usr/local/lib/python3.11/dist-packages (from litellm>=1.60.3->dspy) (0.9.0)\n",
            "Requirement already satisfied: tokenizers in /usr/local/lib/python3.11/dist-packages (from litellm>=1.60.3->dspy) (0.21.2)\n",
            "Requirement already satisfied: distro<2,>=1.7.0 in /usr/local/lib/python3.11/dist-packages (from openai>=0.28.1->dspy) (1.9.0)\n",
            "Requirement already satisfied: jiter<1,>=0.4.0 in /usr/local/lib/python3.11/dist-packages (from openai>=0.28.1->dspy) (0.10.0)\n",
            "Requirement already satisfied: alembic>=1.5.0 in /usr/local/lib/python3.11/dist-packages (from optuna>=3.4.0->dspy) (1.16.2)\n",
            "Requirement already satisfied: colorlog in /usr/local/lib/python3.11/dist-packages (from optuna>=3.4.0->dspy) (6.9.0)\n",
            "Requirement already satisfied: sqlalchemy>=1.4.2 in /usr/local/lib/python3.11/dist-packages (from optuna>=3.4.0->dspy) (2.0.41)\n",
            "Requirement already satisfied: python-dateutil>=2.8.2 in /usr/local/lib/python3.11/dist-packages (from pandas>=2.1.1->dspy) (2.9.0.post0)\n",
            "Requirement already satisfied: pytz>=2020.1 in /usr/local/lib/python3.11/dist-packages (from pandas>=2.1.1->dspy) (2025.2)\n",
            "Requirement already satisfied: tzdata>=2022.7 in /usr/local/lib/python3.11/dist-packages (from pandas>=2.1.1->dspy) (2025.2)\n",
            "Requirement already satisfied: annotated-types>=0.6.0 in /usr/local/lib/python3.11/dist-packages (from pydantic>=2.0->dspy) (0.7.0)\n",
            "Requirement already satisfied: pydantic-core==2.33.2 in /usr/local/lib/python3.11/dist-packages (from pydantic>=2.0->dspy) (2.33.2)\n",
            "Requirement already satisfied: typing-inspection>=0.4.0 in /usr/local/lib/python3.11/dist-packages (from pydantic>=2.0->dspy) (0.4.1)\n",
            "Requirement already satisfied: charset-normalizer<4,>=2 in /usr/local/lib/python3.11/dist-packages (from requests>=2.31.0->dspy) (3.4.2)\n",
            "Requirement already satisfied: urllib3<3,>=1.21.1 in /usr/local/lib/python3.11/dist-packages (from requests>=2.31.0->dspy) (2.4.0)\n",
            "Requirement already satisfied: certifi>=2017.4.17 in /usr/local/lib/python3.11/dist-packages (from requests>=2.31.0->dspy) (2025.6.15)\n",
            "Requirement already satisfied: markdown-it-py>=2.2.0 in /usr/local/lib/python3.11/dist-packages (from rich>=13.7.1->dspy) (3.0.0)\n",
            "Requirement already satisfied: pygments<3.0.0,>=2.13.0 in /usr/local/lib/python3.11/dist-packages (from rich>=13.7.1->dspy) (2.19.2)\n",
            "Requirement already satisfied: aiohappyeyeballs>=2.3.0 in /usr/local/lib/python3.11/dist-packages (from aiohttp>=3.10->litellm>=1.60.3->dspy) (2.6.1)\n",
            "Requirement already satisfied: aiosignal>=1.1.2 in /usr/local/lib/python3.11/dist-packages (from aiohttp>=3.10->litellm>=1.60.3->dspy) (1.3.2)\n",
            "Requirement already satisfied: attrs>=17.3.0 in /usr/local/lib/python3.11/dist-packages (from aiohttp>=3.10->litellm>=1.60.3->dspy) (25.3.0)\n",
            "Requirement already satisfied: frozenlist>=1.1.1 in /usr/local/lib/python3.11/dist-packages (from aiohttp>=3.10->litellm>=1.60.3->dspy) (1.7.0)\n",
            "Requirement already satisfied: multidict<7.0,>=4.5 in /usr/local/lib/python3.11/dist-packages (from aiohttp>=3.10->litellm>=1.60.3->dspy) (6.6.3)\n",
            "Requirement already satisfied: propcache>=0.2.0 in /usr/local/lib/python3.11/dist-packages (from aiohttp>=3.10->litellm>=1.60.3->dspy) (0.3.2)\n",
            "Requirement already satisfied: yarl<2.0,>=1.17.0 in /usr/local/lib/python3.11/dist-packages (from aiohttp>=3.10->litellm>=1.60.3->dspy) (1.20.1)\n",
            "Requirement already satisfied: Mako in /usr/lib/python3/dist-packages (from alembic>=1.5.0->optuna>=3.4.0->dspy) (1.1.3)\n",
            "Requirement already satisfied: httpcore==1.* in /usr/local/lib/python3.11/dist-packages (from httpx>=0.23.0->litellm>=1.60.3->dspy) (1.0.9)\n",
            "Requirement already satisfied: h11>=0.16 in /usr/local/lib/python3.11/dist-packages (from httpcore==1.*->httpx>=0.23.0->litellm>=1.60.3->dspy) (0.16.0)\n",
            "Requirement already satisfied: hf-xet<2.0.0,>=1.1.2 in /usr/local/lib/python3.11/dist-packages (from huggingface-hub>=0.24.0->datasets>=2.14.6->dspy) (1.1.5)\n",
            "Requirement already satisfied: zipp>=3.20 in /usr/local/lib/python3.11/dist-packages (from importlib-metadata>=6.8.0->litellm>=1.60.3->dspy) (3.23.0)\n",
            "Requirement already satisfied: MarkupSafe>=2.0 in /usr/local/lib/python3.11/dist-packages (from jinja2<4.0.0,>=3.1.2->litellm>=1.60.3->dspy) (3.0.2)\n",
            "Requirement already satisfied: jsonschema-specifications>=2023.03.6 in /usr/local/lib/python3.11/dist-packages (from jsonschema<5.0.0,>=4.22.0->litellm>=1.60.3->dspy) (2025.4.1)\n",
            "Requirement already satisfied: referencing>=0.28.4 in /usr/local/lib/python3.11/dist-packages (from jsonschema<5.0.0,>=4.22.0->litellm>=1.60.3->dspy) (0.36.2)\n",
            "Requirement already satisfied: rpds-py>=0.7.1 in /usr/local/lib/python3.11/dist-packages (from jsonschema<5.0.0,>=4.22.0->litellm>=1.60.3->dspy) (0.26.0)\n",
            "Requirement already satisfied: mdurl~=0.1 in /usr/local/lib/python3.11/dist-packages (from markdown-it-py>=2.2.0->rich>=13.7.1->dspy) (0.1.2)\n",
            "Requirement already satisfied: six>=1.5 in /usr/local/lib/python3.11/dist-packages (from python-dateutil>=2.8.2->pandas>=2.1.1->dspy) (1.17.0)\n",
            "Requirement already satisfied: greenlet>=1 in /usr/local/lib/python3.11/dist-packages (from sqlalchemy>=1.4.2->optuna>=3.4.0->dspy) (3.2.3)\n"
          ]
        }
      ],
      "source": [
        "! pip install dspy"
      ]
    },
    {
      "cell_type": "code",
      "source": [
        "import os\n",
        "from google.colab import userdata\n",
        "os.environ['OPENAI_API_KEY'] = userdata.get('OPENAI_API_KEY')\n",
      ],
      "metadata": {
        "id": "vsYyRMw3t14S"
      },
      "execution_count": 3,
      "outputs": []
    },
    {
      "cell_type": "code",
      "source": [
        "import time\n",
        "import dspy\n",
        "from dspy.datasets.gsm8k import GSM8K, gsm8k_metric\n",
        "start_time = time.time()\n",
        "\n",
        "lm = dspy.LM(\"openai/gpt-4o-mini\")\n",
        "dspy.settings.configure(lm=lm)\n",
        "\n",
        "# Load math questions from the GSM8K dataset\n",
        "gms8k = GSM8K()\n",
        "trainset, devset = gms8k.train, gms8k.dev"
      ],
      "metadata": {
        "id": "NY_ohv9B0pQo",
        "colab": {
          "base_uri": "https://localhost:8080/"
        },
        "outputId": "8326fd69-9773-4328-ae5d-80fec60238a2"
      },
      "execution_count": 4,
      "outputs": [
        {
          "output_type": "stream",
          "name": "stderr",
          "text": [
            "100%|██████████| 7473/7473 [00:00<00:00, 21672.10it/s]\n",
            "100%|██████████| 1319/1319 [00:00<00:00, 23264.16it/s]\n"
          ]
        }
      ]
    },
    {
      "cell_type": "code",
      "source": [
        "class CoT(dspy.Module):\n",
        "    def __init__(self):\n",
        "        super().__init__()\n",
        "        self.prog = dspy.ChainOfThought(\"question -> answer\")\n",
        "\n",
        "    def forward(self, question):\n",
        "        return self.prog(question=question)"
      ],
      "metadata": {
        "id": "dBDvcTyO9iwd"
      },
      "execution_count": 6,
      "outputs": []
    },
    {
      "cell_type": "code",
      "source": [
        "from dspy.teleprompt import BootstrapFewShotWithRandomSearch\n",
        "config = dict(max_bootstrapped_demos=8, max_labeled_demos=8, num_candidate_programs=10, num_threads=4)\n",
        "teleprompter = BootstrapFewShotWithRandomSearch(metric=gsm8k_metric, **config)\n",
        "optimized_cot = teleprompter.compile(CoT(), trainset=trainset, valset=devset)"
      ],
      "metadata": {
        "colab": {
          "base_uri": "https://localhost:8080/"
        },
        "id": "Rl8Sf8Y0-U7-",
        "outputId": "ff3bdbb9-cf92-456c-cf16-1d3611f7cc43"
      },
      "execution_count": 7,
      "outputs": [
        {
          "output_type": "stream",
          "name": "stdout",
          "text": [
            "Going to sample between 1 and 8 traces per predictor.\n",
            "Will attempt to bootstrap 10 candidate sets.\n",
            "Average Metric: 263.00 / 300 (87.7%): 100%|██████████| 300/300 [00:00<00:00, 332.27it/s]"
          ]
        },
        {
          "output_type": "stream",
          "name": "stderr",
          "text": [
            "2025/07/03 04:13:17 INFO dspy.evaluate.evaluate: Average Metric: 263 / 300 (87.7%)\n"
          ]
        },
        {
          "output_type": "stream",
          "name": "stdout",
          "text": [
            "\n",
            "New best score: 87.67 for seed -3\n",
            "Scores so far: [87.67]\n",
            "Best score so far: 87.67\n",
            "Average Metric: 275.00 / 300 (91.7%): 100%|██████████| 300/300 [00:01<00:00, 175.14it/s]"
          ]
        },
        {
          "output_type": "stream",
          "name": "stderr",
          "text": [
            "2025/07/03 04:13:19 INFO dspy.evaluate.evaluate: Average Metric: 275 / 300 (91.7%)\n"
          ]
        },
        {
          "output_type": "stream",
          "name": "stdout",
          "text": [
            "\n",
            "New best score: 91.67 for seed -2\n",
            "Scores so far: [87.67, 91.67]\n",
            "Best score so far: 91.67\n"
          ]
        },
        {
          "output_type": "stream",
          "name": "stderr",
          "text": [
            "  4%|▍         | 8/200 [00:00<00:01, 96.30it/s]"
          ]
        },
        {
          "output_type": "stream",
          "name": "stdout",
          "text": [
            "Bootstrapped 8 full traces after 8 examples for up to 1 rounds, amounting to 8 attempts.\n"
          ]
        },
        {
          "output_type": "stream",
          "name": "stderr",
          "text": [
            "\n"
          ]
        },
        {
          "output_type": "stream",
          "name": "stdout",
          "text": [
            "Average Metric: 276.00 / 300 (92.0%): 100%|██████████| 300/300 [00:01<00:00, 200.08it/s]"
          ]
        },
        {
          "output_type": "stream",
          "name": "stderr",
          "text": [
            "2025/07/03 04:13:21 INFO dspy.evaluate.evaluate: Average Metric: 276 / 300 (92.0%)\n"
          ]
        },
        {
          "output_type": "stream",
          "name": "stdout",
          "text": [
            "\n",
            "New best score: 92.0 for seed -1\n",
            "Scores so far: [87.67, 91.67, 92.0]\n",
            "Best score so far: 92.0\n"
          ]
        },
        {
          "output_type": "stream",
          "name": "stderr",
          "text": [
            "  4%|▎         | 7/200 [00:00<00:01, 148.98it/s]"
          ]
        },
        {
          "output_type": "stream",
          "name": "stdout",
          "text": [
            "Bootstrapped 7 full traces after 7 examples for up to 1 rounds, amounting to 7 attempts.\n"
          ]
        },
        {
          "output_type": "stream",
          "name": "stderr",
          "text": [
            "\n"
          ]
        },
        {
          "output_type": "stream",
          "name": "stdout",
          "text": [
            "Average Metric: 277.00 / 300 (92.3%): 100%|██████████| 300/300 [00:01<00:00, 180.19it/s]"
          ]
        },
        {
          "output_type": "stream",
          "name": "stderr",
          "text": [
            "2025/07/03 04:13:23 INFO dspy.evaluate.evaluate: Average Metric: 277 / 300 (92.3%)\n"
          ]
        },
        {
          "output_type": "stream",
          "name": "stdout",
          "text": [
            "\n",
            "New best score: 92.33 for seed 0\n",
            "Scores so far: [87.67, 91.67, 92.0, 92.33]\n",
            "Best score so far: 92.33\n"
          ]
        },
        {
          "output_type": "stream",
          "name": "stderr",
          "text": [
            "  2%|▏         | 3/200 [00:00<00:02, 88.29it/s]"
          ]
        },
        {
          "output_type": "stream",
          "name": "stdout",
          "text": [
            "Bootstrapped 3 full traces after 3 examples for up to 1 rounds, amounting to 3 attempts.\n"
          ]
        },
        {
          "output_type": "stream",
          "name": "stderr",
          "text": [
            "\n"
          ]
        },
        {
          "output_type": "stream",
          "name": "stdout",
          "text": [
            "Average Metric: 274.00 / 300 (91.3%): 100%|██████████| 300/300 [00:01<00:00, 189.76it/s]"
          ]
        },
        {
          "output_type": "stream",
          "name": "stderr",
          "text": [
            "2025/07/03 04:13:24 INFO dspy.evaluate.evaluate: Average Metric: 274 / 300 (91.3%)\n"
          ]
        },
        {
          "output_type": "stream",
          "name": "stdout",
          "text": [
            "\n",
            "Scores so far: [87.67, 91.67, 92.0, 92.33, 91.33]\n",
            "Best score so far: 92.33\n"
          ]
        },
        {
          "output_type": "stream",
          "name": "stderr",
          "text": [
            "  0%|          | 1/200 [00:00<00:02, 79.39it/s]"
          ]
        },
        {
          "output_type": "stream",
          "name": "stdout",
          "text": [
            "Bootstrapped 1 full traces after 1 examples for up to 1 rounds, amounting to 1 attempts.\n"
          ]
        },
        {
          "output_type": "stream",
          "name": "stderr",
          "text": [
            "\n"
          ]
        },
        {
          "output_type": "stream",
          "name": "stdout",
          "text": [
            "Average Metric: 278.00 / 300 (92.7%): 100%|██████████| 300/300 [00:02<00:00, 148.62it/s]"
          ]
        },
        {
          "output_type": "stream",
          "name": "stderr",
          "text": [
            "2025/07/03 04:13:26 INFO dspy.evaluate.evaluate: Average Metric: 278 / 300 (92.7%)\n"
          ]
        },
        {
          "output_type": "stream",
          "name": "stdout",
          "text": [
            "\n",
            "New best score: 92.67 for seed 2\n",
            "Scores so far: [87.67, 91.67, 92.0, 92.33, 91.33, 92.67]\n",
            "Best score so far: 92.67\n"
          ]
        },
        {
          "output_type": "stream",
          "name": "stderr",
          "text": [
            "  2%|▏         | 4/200 [00:00<00:02, 93.46it/s]"
          ]
        },
        {
          "output_type": "stream",
          "name": "stdout",
          "text": [
            "Bootstrapped 4 full traces after 4 examples for up to 1 rounds, amounting to 4 attempts.\n"
          ]
        },
        {
          "output_type": "stream",
          "name": "stderr",
          "text": [
            "\n"
          ]
        },
        {
          "output_type": "stream",
          "name": "stdout",
          "text": [
            "Average Metric: 282.00 / 300 (94.0%): 100%|██████████| 300/300 [00:02<00:00, 148.58it/s]"
          ]
        },
        {
          "output_type": "stream",
          "name": "stderr",
          "text": [
            "2025/07/03 04:13:28 INFO dspy.evaluate.evaluate: Average Metric: 282 / 300 (94.0%)\n"
          ]
        },
        {
          "output_type": "stream",
          "name": "stdout",
          "text": [
            "\n",
            "New best score: 94.0 for seed 3\n",
            "Scores so far: [87.67, 91.67, 92.0, 92.33, 91.33, 92.67, 94.0]\n",
            "Best score so far: 94.0\n"
          ]
        },
        {
          "output_type": "stream",
          "name": "stderr",
          "text": [
            "  2%|▎         | 5/200 [00:00<00:01, 181.23it/s]"
          ]
        },
        {
          "output_type": "stream",
          "name": "stdout",
          "text": [
            "Bootstrapped 4 full traces after 5 examples for up to 1 rounds, amounting to 5 attempts.\n"
          ]
        },
        {
          "output_type": "stream",
          "name": "stderr",
          "text": [
            "\n"
          ]
        },
        {
          "output_type": "stream",
          "name": "stdout",
          "text": [
            "Average Metric: 70.00 / 73 (95.9%):  24%|██▍       | 72/300 [00:00<00:01, 141.62it/s]"
          ]
        },
        {
          "output_type": "stream",
          "name": "stderr",
          "text": [
            "2025/07/03 04:13:29 WARNING dspy.clients.lm: LM response was truncated due to exceeding max_tokens=4000. You can inspect the latest LM interactions with `dspy.inspect_history()`. To avoid truncation, consider passing a larger max_tokens when setting up dspy.LM. You may also consider increasing the temperature (currently 0.0)  if the reason for truncation is repetition.\n"
          ]
        },
        {
          "output_type": "stream",
          "name": "stdout",
          "text": [
            "Average Metric: 72.00 / 75 (96.0%):  25%|██▍       | 74/300 [00:00<00:01, 141.62it/s]"
          ]
        },
        {
          "output_type": "stream",
          "name": "stderr",
          "text": [
            "2025/07/03 04:13:29 WARNING dspy.adapters.json_adapter: Failed to use structured output format, falling back to JSON mode.\n"
          ]
        },
        {
          "output_type": "stream",
          "name": "stdout",
          "text": [
            "Average Metric: 277.00 / 300 (92.3%): 100%|██████████| 300/300 [00:01<00:00, 170.06it/s]"
          ]
        },
        {
          "output_type": "stream",
          "name": "stderr",
          "text": [
            "2025/07/03 04:13:30 INFO dspy.evaluate.evaluate: Average Metric: 277 / 300 (92.3%)\n"
          ]
        },
        {
          "output_type": "stream",
          "name": "stdout",
          "text": [
            "\n",
            "Scores so far: [87.67, 91.67, 92.0, 92.33, 91.33, 92.67, 94.0, 92.33]\n",
            "Best score so far: 94.0\n"
          ]
        },
        {
          "output_type": "stream",
          "name": "stderr",
          "text": [
            "  2%|▎         | 5/200 [00:00<00:01, 115.48it/s]"
          ]
        },
        {
          "output_type": "stream",
          "name": "stdout",
          "text": [
            "Bootstrapped 5 full traces after 5 examples for up to 1 rounds, amounting to 5 attempts.\n"
          ]
        },
        {
          "output_type": "stream",
          "name": "stderr",
          "text": [
            "\n"
          ]
        },
        {
          "output_type": "stream",
          "name": "stdout",
          "text": [
            "Average Metric: 270.00 / 300 (90.0%): 100%|██████████| 300/300 [00:01<00:00, 198.53it/s]"
          ]
        },
        {
          "output_type": "stream",
          "name": "stderr",
          "text": [
            "2025/07/03 04:13:32 INFO dspy.evaluate.evaluate: Average Metric: 270 / 300 (90.0%)\n"
          ]
        },
        {
          "output_type": "stream",
          "name": "stdout",
          "text": [
            "\n",
            "Scores so far: [87.67, 91.67, 92.0, 92.33, 91.33, 92.67, 94.0, 92.33, 90.0]\n",
            "Best score so far: 94.0\n"
          ]
        },
        {
          "output_type": "stream",
          "name": "stderr",
          "text": [
            "  2%|▏         | 3/200 [00:00<00:02, 86.64it/s]"
          ]
        },
        {
          "output_type": "stream",
          "name": "stdout",
          "text": [
            "Bootstrapped 2 full traces after 3 examples for up to 1 rounds, amounting to 3 attempts.\n"
          ]
        },
        {
          "output_type": "stream",
          "name": "stderr",
          "text": [
            "\n"
          ]
        },
        {
          "output_type": "stream",
          "name": "stdout",
          "text": [
            "Average Metric: 278.00 / 300 (92.7%): 100%|██████████| 300/300 [00:01<00:00, 190.45it/s]"
          ]
        },
        {
          "output_type": "stream",
          "name": "stderr",
          "text": [
            "2025/07/03 04:13:34 INFO dspy.evaluate.evaluate: Average Metric: 278 / 300 (92.7%)\n"
          ]
        },
        {
          "output_type": "stream",
          "name": "stdout",
          "text": [
            "\n",
            "Scores so far: [87.67, 91.67, 92.0, 92.33, 91.33, 92.67, 94.0, 92.33, 90.0, 92.67]\n",
            "Best score so far: 94.0\n"
          ]
        },
        {
          "output_type": "stream",
          "name": "stderr",
          "text": [
            "  4%|▎         | 7/200 [00:00<00:01, 111.30it/s]\n"
          ]
        },
        {
          "output_type": "stream",
          "name": "stdout",
          "text": [
            "Bootstrapped 6 full traces after 7 examples for up to 1 rounds, amounting to 7 attempts.\n",
            "Average Metric: 276.00 / 300 (92.0%): 100%|██████████| 300/300 [00:02<00:00, 149.26it/s]"
          ]
        },
        {
          "output_type": "stream",
          "name": "stderr",
          "text": [
            "2025/07/03 04:13:36 INFO dspy.evaluate.evaluate: Average Metric: 276 / 300 (92.0%)\n"
          ]
        },
        {
          "output_type": "stream",
          "name": "stdout",
          "text": [
            "\n",
            "Scores so far: [87.67, 91.67, 92.0, 92.33, 91.33, 92.67, 94.0, 92.33, 90.0, 92.67, 92.0]\n",
            "Best score so far: 94.0\n"
          ]
        },
        {
          "output_type": "stream",
          "name": "stderr",
          "text": [
            "  2%|▏         | 4/200 [00:00<00:00, 215.95it/s]"
          ]
        },
        {
          "output_type": "stream",
          "name": "stdout",
          "text": [
            "Bootstrapped 4 full traces after 4 examples for up to 1 rounds, amounting to 4 attempts.\n"
          ]
        },
        {
          "output_type": "stream",
          "name": "stderr",
          "text": [
            "\n"
          ]
        },
        {
          "output_type": "stream",
          "name": "stdout",
          "text": [
            "Average Metric: 275.00 / 300 (91.7%): 100%|██████████| 300/300 [00:01<00:00, 190.56it/s]"
          ]
        },
        {
          "output_type": "stream",
          "name": "stderr",
          "text": [
            "2025/07/03 04:13:37 INFO dspy.evaluate.evaluate: Average Metric: 275 / 300 (91.7%)\n"
          ]
        },
        {
          "output_type": "stream",
          "name": "stdout",
          "text": [
            "\n",
            "Scores so far: [87.67, 91.67, 92.0, 92.33, 91.33, 92.67, 94.0, 92.33, 90.0, 92.67, 92.0, 91.67]\n",
            "Best score so far: 94.0\n"
          ]
        },
        {
          "output_type": "stream",
          "name": "stderr",
          "text": [
            "  4%|▍         | 9/200 [00:00<00:01, 109.97it/s]"
          ]
        },
        {
          "output_type": "stream",
          "name": "stdout",
          "text": [
            "Bootstrapped 8 full traces after 9 examples for up to 1 rounds, amounting to 9 attempts.\n"
          ]
        },
        {
          "output_type": "stream",
          "name": "stderr",
          "text": [
            "\n"
          ]
        },
        {
          "output_type": "stream",
          "name": "stdout",
          "text": [
            "Average Metric: 275.00 / 300 (91.7%): 100%|██████████| 300/300 [00:01<00:00, 191.43it/s]"
          ]
        },
        {
          "output_type": "stream",
          "name": "stderr",
          "text": [
            "2025/07/03 04:13:39 INFO dspy.evaluate.evaluate: Average Metric: 275 / 300 (91.7%)\n"
          ]
        },
        {
          "output_type": "stream",
          "name": "stdout",
          "text": [
            "\n",
            "Scores so far: [87.67, 91.67, 92.0, 92.33, 91.33, 92.67, 94.0, 92.33, 90.0, 92.67, 92.0, 91.67, 91.67]\n",
            "Best score so far: 94.0\n",
            "13 candidate programs found.\n"
          ]
        }
      ]
    },
    {
      "cell_type": "code",
      "source": [
        "lm.inspect_history(n=1)"
      ],
      "metadata": {
        "colab": {
          "base_uri": "https://localhost:8080/"
        },
        "id": "rQY1xG5d-vfb",
        "outputId": "e18c92fa-3eb5-48d1-a946-85972020ebee"
      },
      "execution_count": 11,
      "outputs": [
        {
          "output_type": "stream",
          "name": "stdout",
          "text": [
            "\n",
            "\n",
            "\n",
            "\n",
            "\u001b[34m[2025-07-03T02:58:05.456095]\u001b[0m\n",
            "\n",
            "\u001b[31mSystem message:\u001b[0m\n",
            "\n",
            "Your input fields are:\n",
            "1. `question` (str):\n",
            "Your output fields are:\n",
            "1. `reasoning` (str): \n",
            "2. `answer` (str):\n",
            "All interactions will be structured in the following way, with the appropriate values filled in.\n",
            "\n",
            "[[ ## question ## ]]\n",
            "{question}\n",
            "\n",
            "[[ ## reasoning ## ]]\n",
            "{reasoning}\n",
            "\n",
            "[[ ## answer ## ]]\n",
            "{answer}\n",
            "\n",
            "[[ ## completed ## ]]\n",
            "In adhering to this structure, your objective is: \n",
            "        Given the fields `question`, produce the fields `answer`.\n",
            "\n",
            "\n",
            "\u001b[31mUser message:\u001b[0m\n",
            "\n",
            "[[ ## question ## ]]\n",
            "Mark donates soup to the 6 homeless shelters.  Each one services 30 people and he decides to buy 10 cans of soup per person.  How many cans of soup does Mark donate?\n",
            "\n",
            "\n",
            "\u001b[31mAssistant message:\u001b[0m\n",
            "\n",
            "[[ ## reasoning ## ]]\n",
            "Mark donates soup to 6 homeless shelters, and each shelter services 30 people. Therefore, the total number of people served is 6 shelters * 30 people/shelter = 180 people. Mark buys 10 cans of soup per person, so the total number of cans he donates is 180 people * 10 cans/person = 1800 cans of soup.\n",
            "\n",
            "[[ ## answer ## ]]\n",
            "1800\n",
            "\n",
            "\n",
            "\u001b[31mUser message:\u001b[0m\n",
            "\n",
            "[[ ## question ## ]]\n",
            "A type C school bus contains 13 rows of seats, with an aisle running down the middle of the bus, splitting each row into two sections.  If the school only allowed two students to sit in each section, how many students could be seated on the bus?\n",
            "\n",
            "\n",
            "\u001b[31mAssistant message:\u001b[0m\n",
            "\n",
            "[[ ## reasoning ## ]]\n",
            "To find out how many students can be seated on the bus, we first need to determine the total number of sections in the bus. Each row has 2 sections (one on each side of the aisle), and there are 13 rows. Therefore, the total number of sections is 13 rows * 2 sections per row = 26 sections. Since each section can hold 2 students, we multiply the number of sections by the number of students per section: 26 sections * 2 students per section = 52 students.\n",
            "\n",
            "[[ ## answer ## ]]\n",
            "52\n",
            "\n",
            "\n",
            "\u001b[31mUser message:\u001b[0m\n",
            "\n",
            "[[ ## question ## ]]\n",
            "Bella is making bracelets for her 6 friends. She needs 8 beads per bracelet. She has 36 beads. How many more beads does she need to make all six bracelets?\n",
            "\n",
            "\n",
            "\u001b[31mAssistant message:\u001b[0m\n",
            "\n",
            "[[ ## reasoning ## ]]\n",
            "To find out how many more beads Bella needs, we first calculate the total number of beads required for 6 bracelets. Since each bracelet requires 8 beads, the total number of beads needed is 6 bracelets * 8 beads/bracelet = 48 beads. Bella currently has 36 beads. To find out how many more beads she needs, we subtract the number of beads she has from the total needed: 48 beads - 36 beads = 12 beads. Therefore, Bella needs 12 more beads to make all six bracelets.\n",
            "\n",
            "[[ ## answer ## ]]\n",
            "12\n",
            "\n",
            "\n",
            "\u001b[31mUser message:\u001b[0m\n",
            "\n",
            "[[ ## question ## ]]\n",
            "Jerry's breakfast includes 6 pancakes with 120 calories each, two strips of bacon with 100 calories each, and a bowl of cereal with 200 calories. How many calories is his breakfast total?\n",
            "\n",
            "\n",
            "\u001b[31mAssistant message:\u001b[0m\n",
            "\n",
            "[[ ## reasoning ## ]]\n",
            "To calculate the total calories in Jerry's breakfast, we need to find the calories from each item and then sum them up. \n",
            "\n",
            "1. The calories from the pancakes: \n",
            "   - 6 pancakes × 120 calories each = 720 calories.\n",
            "\n",
            "2. The calories from the bacon: \n",
            "   - 2 strips of bacon × 100 calories each = 200 calories.\n",
            "\n",
            "3. The calories from the cereal: \n",
            "   - 200 calories.\n",
            "\n",
            "Now, we add all these together:\n",
            "720 calories (pancakes) + 200 calories (bacon) + 200 calories (cereal) = 1120 calories.\n",
            "\n",
            "[[ ## answer ## ]]\n",
            "1120 calories\n",
            "\n",
            "\n",
            "\u001b[31mUser message:\u001b[0m\n",
            "\n",
            "[[ ## question ## ]]\n",
            "Ellie takes her little brother down to the pond to teach him how to skip stones. After he takes his first throw, she gives him pointers to improve his technique. His second throw skips two more times across the water than his first. His third throw skips twice as many times as his second. His fourth throw skips 3 fewer times than his third throw. His fifth throw skips one more time than the fourth throw. If his fifth throw skipped 8 times across the water, how many skips did he make in total between all of his throws?\n",
            "\n",
            "\n",
            "\u001b[31mAssistant message:\u001b[0m\n",
            "\n",
            "[[ ## reasoning ## ]]\n",
            "Let's denote the number of skips for each throw:\n",
            "- Let the first throw be \\( x \\) skips.\n",
            "- The second throw skips \\( x + 2 \\) times.\n",
            "- The third throw skips \\( 2(x + 2) \\) times.\n",
            "- The fourth throw skips \\( 2(x + 2) - 3 \\) times.\n",
            "- The fifth throw skips \\( (2(x + 2) - 3) + 1 \\) times.\n",
            "\n",
            "We know that the fifth throw skips 8 times:\n",
            "\\[\n",
            "(2(x + 2) - 3) + 1 = 8\n",
            "\\]\n",
            "Simplifying this:\n",
            "\\[\n",
            "2(x + 2) - 3 + 1 = 8\n",
            "\\]\n",
            "\\[\n",
            "2(x + 2) - 2 = 8\n",
            "\\]\n",
            "\\[\n",
            "2(x + 2) = 10\n",
            "\\]\n",
            "\\[\n",
            "x + 2 = 5\n",
            "\\]\n",
            "\\[\n",
            "x = 3\n",
            "\\]\n",
            "\n",
            "Now we can find the number of skips for each throw:\n",
            "- First throw: \\( x = 3 \\)\n",
            "- Second throw: \\( 3 + 2 = 5 \\)\n",
            "- Third throw: \\( 2(5) = 10 \\)\n",
            "- Fourth throw: \\( 10 - 3 = 7 \\)\n",
            "- Fifth throw: \\( 7 + 1 = 8 \\)\n",
            "\n",
            "Now, we can calculate the total number of skips:\n",
            "\\[\n",
            "3 + 5 + 10 + 7 + 8 = 33\n",
            "\\]\n",
            "\n",
            "[[ ## answer ## ]]\n",
            "33\n",
            "\n",
            "\n",
            "\u001b[31mUser message:\u001b[0m\n",
            "\n",
            "[[ ## question ## ]]\n",
            "James takes a spinning class 3 times a week.  He works out for 1.5 hours each class and burns 7 calories per minute.  How many calories does he burn per week?\n",
            "\n",
            "\n",
            "\u001b[31mAssistant message:\u001b[0m\n",
            "\n",
            "[[ ## reasoning ## ]]\n",
            "James takes a spinning class 3 times a week, and each class lasts for 1.5 hours. To find out how many calories he burns per week, we first need to calculate the total minutes he spends in class each week. Since there are 60 minutes in an hour, 1.5 hours is equal to 1.5 * 60 = 90 minutes. Therefore, in one week, he attends 3 classes, which totals 3 * 90 = 270 minutes. \n",
            "\n",
            "Next, we know he burns 7 calories per minute. To find the total calories burned in a week, we multiply the total minutes by the calories burned per minute: 270 minutes * 7 calories/minute = 1890 calories. \n",
            "\n",
            "Thus, James burns 1890 calories per week.\n",
            "\n",
            "[[ ## answer ## ]]\n",
            "1890\n",
            "\n",
            "\n",
            "\u001b[31mUser message:\u001b[0m\n",
            "\n",
            "[[ ## question ## ]]\n",
            "Kristine traveled to Paris in France to visit her friend. On the way, she has driven a train for 300 km and a bus for half that distance. After arriving in the city, she had to take a cab and drove three times fewer kilometers than she rode the bus. How many kilometers in total had Kristine traveled to reach her destination?\n",
            "\n",
            "\n",
            "\u001b[31mAssistant message:\u001b[0m\n",
            "\n",
            "[[ ## reasoning ## ]]\n",
            "Kristine drove a train for 300 km. Then, she took a bus for half that distance, which is 300 km / 2 = 150 km. After that, she took a cab and drove three times fewer kilometers than she rode the bus. Since she rode the bus for 150 km, she drove the cab for 150 km / 3 = 50 km. To find the total distance traveled, we add the distances: 300 km (train) + 150 km (bus) + 50 km (cab) = 500 km.\n",
            "\n",
            "[[ ## answer ## ]]\n",
            "500 km\n",
            "\n",
            "\n",
            "\u001b[31mUser message:\u001b[0m\n",
            "\n",
            "[[ ## question ## ]]\n",
            "Louis is making himself a velvet suit for a formal event. The velvet fabric he chose was $24 per yard. He bought a pattern for $15, and two spools of silver thread for $3 each. If he spent $141 for the pattern, thread, and fabric, how many yards of fabric did he buy?\n",
            "\n",
            "\n",
            "\u001b[31mAssistant message:\u001b[0m\n",
            "\n",
            "[[ ## reasoning ## ]]\n",
            "To find out how many yards of fabric Louis bought, we first need to calculate the total cost of the pattern and the thread. The cost of the pattern is $15, and the cost of the two spools of thread is $3 each, which totals $6. Therefore, the total cost for the pattern and thread is $15 + $6 = $21. \n",
            "\n",
            "Next, we subtract this amount from the total amount Louis spent, which is $141. So, the cost of the fabric is $141 - $21 = $120. \n",
            "\n",
            "Since the fabric costs $24 per yard, we can find the number of yards by dividing the total cost of the fabric by the cost per yard: $120 / $24 = 5 yards. \n",
            "\n",
            "Thus, Louis bought 5 yards of fabric.\n",
            "\n",
            "[[ ## answer ## ]]\n",
            "5\n",
            "\n",
            "\n",
            "\u001b[31mUser message:\u001b[0m\n",
            "\n",
            "[[ ## question ## ]]\n",
            "A state fair charges $5 for a ticket. Two-thirds of the people who buy a ticket will buy deep-fried fair food for $8, one quarter will go on a ride for $4, and one eighth will spend $15 on a souvenir. The fair made $2520 from tickets. How many dollars did they make in all?\n",
            "\n",
            "Respond with the corresponding output fields, starting with the field `[[ ## reasoning ## ]]`, then `[[ ## answer ## ]]`, and then ending with the marker for `[[ ## completed ## ]]`.\n",
            "\n",
            "\n",
            "\u001b[31mResponse:\u001b[0m\n",
            "\n",
            "\u001b[32m[[ ## reasoning ## ]]\n",
            "First, we need to determine how many tickets were sold. The fair made $2520 from ticket sales, and each ticket costs $5. To find the number of tickets sold, we divide the total revenue from tickets by the price per ticket: \n",
            "\n",
            "\\[\n",
            "\\text{Number of tickets} = \\frac{2520}{5} = 504\n",
            "\\]\n",
            "\n",
            "Next, we calculate how much money was made from food, rides, and souvenirs based on the proportions given:\n",
            "\n",
            "1. **Deep-fried fair food**: Two-thirds of the people buy food.\n",
            "   \\[\n",
            "   \\text{Number of people buying food} = \\frac{2}{3} \\times 504 = 336\n",
            "   \\]\n",
            "   The total spent on food is:\n",
            "   \\[\n",
            "   \\text{Total from food} = 336 \\times 8 = 2688\n",
            "   \\]\n",
            "\n",
            "2. **Rides**: One quarter of the people go on a ride.\n",
            "   \\[\n",
            "   \\text{Number of people going on rides} = \\frac{1}{4} \\times 504 = 126\n",
            "   \\]\n",
            "   The total spent on rides is:\n",
            "   \\[\n",
            "   \\text{Total from rides} = 126 \\times 4 = 504\n",
            "   \\]\n",
            "\n",
            "3. **Souvenirs**: One eighth of the people spend on souvenirs.\n",
            "   \\[\n",
            "   \\text{Number of people buying souvenirs} = \\frac{1}{8} \\times 504 = 63\n",
            "   \\]\n",
            "   The total spent on souvenirs is:\n",
            "   \\[\n",
            "   \\text{Total from souvenirs} = 63 \\times 15 = 945\n",
            "   \\]\n",
            "\n",
            "Now, we can calculate the total revenue from all sources:\n",
            "\\[\n",
            "\\text{Total revenue} = \\text{Total from tickets} + \\text{Total from food} + \\text{Total from rides} + \\text{Total from souvenirs}\n",
            "\\]\n",
            "\\[\n",
            "\\text{Total revenue} = 2520 + 2688 + 504 + 945 = 5857\n",
            "\\]\n",
            "\n",
            "[[ ## answer ## ]]\n",
            "5857\n",
            "\n",
            "[[ ## completed ## ]]\u001b[0m\n",
            "\n",
            "\n",
            "\n",
            "\n",
            "\n"
          ]
        }
      ]
    },
    {
      "cell_type": "code",
      "source": [
        "optimized_cot.prog(question=\"Tanya is 5 years older than Eric.Cliff is 3 years older than Tanya.How many years cliff is older than eric?\")"
      ],
      "metadata": {
        "colab": {
          "base_uri": "https://localhost:8080/",
          "height": 158
        },
        "id": "A4Zv8JekOmiF",
        "outputId": "642f7d11-0d4e-439e-9b25-5938a4dc5603"
      },
      "execution_count": 1,
      "outputs": [
        {
          "output_type": "error",
          "ename": "NameError",
          "evalue": "name 'optimized_cot' is not defined",
          "traceback": [
            "\u001b[0;31m---------------------------------------------------------------------------\u001b[0m",
            "\u001b[0;31mNameError\u001b[0m                                 Traceback (most recent call last)",
            "\u001b[0;32m/tmp/ipython-input-1-4057977100.py\u001b[0m in \u001b[0;36m<cell line: 0>\u001b[0;34m()\u001b[0m\n\u001b[0;32m----> 1\u001b[0;31m \u001b[0moptimized_cot\u001b[0m\u001b[0;34m.\u001b[0m\u001b[0mprog\u001b[0m\u001b[0;34m(\u001b[0m\u001b[0mquestion\u001b[0m\u001b[0;34m=\u001b[0m\u001b[0;34m\"Tanya is older than Eric.Cliff is older than Tanya.Eric is older than Cliff.If the first two statements are true, the third statement is\"\u001b[0m\u001b[0;34m)\u001b[0m\u001b[0;34m\u001b[0m\u001b[0;34m\u001b[0m\u001b[0m\n\u001b[0m",
            "\u001b[0;31mNameError\u001b[0m: name 'optimized_cot' is not defined"
          ]
        }
      ]
    },
    {
      "cell_type": "code",
      "source": [
        "optimized_cot.prog(question=\"Tanya is 5 years older than Eric.Cliff is 3 years older than Tanya.How many years cliff is older than eric?\")"
      ],
      "metadata": {
        "colab": {
          "base_uri": "https://localhost:8080/"
        },
        "id": "O2KdNApSe2zn",
        "outputId": "3bd3a684-6784-4e13-b9c0-5164114aeda6"
      },
      "execution_count": 8,
      "outputs": [
        {
          "output_type": "execute_result",
          "data": {
            "text/plain": [
              "Prediction(\n",
              "    reasoning=\"Let's denote Eric's age as E. According to the problem, Tanya is 5 years older than Eric, so Tanya's age can be expressed as E + 5. Cliff is 3 years older than Tanya, which means Cliff's age is (E + 5) + 3 = E + 8. \\n\\nTo find out how many years older Cliff is than Eric, we can subtract Eric's age from Cliff's age:\\n\\nCliff's age - Eric's age = (E + 8) - E = 8.\\n\\nThus, Cliff is 8 years older than Eric.\",\n",
              "    answer='8'\n",
              ")"
            ]
          },
          "metadata": {},
          "execution_count": 8
        }
      ]
    },
    {
      "cell_type": "code",
      "source": [
        "optimized_cot.save(\"math_logical.json\")"
      ],
      "metadata": {
        "id": "d7cY6iHogN9b"
      },
      "execution_count": 13,
      "outputs": []
    },
    {
      "cell_type": "code",
      "source": [
        "lm.inspect_history(n=1)"
      ],
      "metadata": {
        "colab": {
          "base_uri": "https://localhost:8080/"
        },
        "id": "Q3ogyDorffAZ",
        "outputId": "03fdeac7-e0d1-4b2f-f56b-08227a515ffc"
      },
      "execution_count": 14,
      "outputs": [
        {
          "output_type": "stream",
          "name": "stdout",
          "text": [
            "\n",
            "\n",
            "\n",
            "\n",
            "\u001b[34m[2025-07-03T04:15:18.896020]\u001b[0m\n",
            "\n",
            "\u001b[31mSystem message:\u001b[0m\n",
            "\n",
            "Your input fields are:\n",
            "1. `question` (str):\n",
            "Your output fields are:\n",
            "1. `reasoning` (str): \n",
            "2. `answer` (str):\n",
            "All interactions will be structured in the following way, with the appropriate values filled in.\n",
            "\n",
            "[[ ## question ## ]]\n",
            "{question}\n",
            "\n",
            "[[ ## reasoning ## ]]\n",
            "{reasoning}\n",
            "\n",
            "[[ ## answer ## ]]\n",
            "{answer}\n",
            "\n",
            "[[ ## completed ## ]]\n",
            "In adhering to this structure, your objective is: \n",
            "        Given the fields `question`, produce the fields `answer`.\n",
            "\n",
            "\n",
            "\u001b[31mUser message:\u001b[0m\n",
            "\n",
            "This is an example of the task, though some input or output fields are not supplied.\n",
            "\n",
            "[[ ## question ## ]]\n",
            "On a weekend road trip, the Jensen family drove 210 miles on highways, where their car gets 35 miles for each gallon of gas and 54 miles on city streets where their car gets 18 miles for each gallon. How many gallons of gas did they use?\n",
            "\n",
            "\n",
            "\u001b[31mAssistant message:\u001b[0m\n",
            "\n",
            "[[ ## reasoning ## ]]\n",
            "Not supplied for this particular example. \n",
            "\n",
            "[[ ## answer ## ]]\n",
            "9\n",
            "\n",
            "\n",
            "\u001b[31mUser message:\u001b[0m\n",
            "\n",
            "This is an example of the task, though some input or output fields are not supplied.\n",
            "\n",
            "[[ ## question ## ]]\n",
            "Mirasol had $50 in her account. She spent $10 on coffee beans and $30 on a tumbler. How much is left in her account?\n",
            "\n",
            "\n",
            "\u001b[31mAssistant message:\u001b[0m\n",
            "\n",
            "[[ ## reasoning ## ]]\n",
            "Not supplied for this particular example. \n",
            "\n",
            "[[ ## answer ## ]]\n",
            "10\n",
            "\n",
            "\n",
            "\u001b[31mUser message:\u001b[0m\n",
            "\n",
            "This is an example of the task, though some input or output fields are not supplied.\n",
            "\n",
            "[[ ## question ## ]]\n",
            "Ariana is past due on three bills. The first bill for $200 charges 10% simple interest for each overdue month and it's 2 months overdue. The second bill for $130 charges a flat $50 late fee per month and is 6 months overdue. The last bill is two months late and charges a $40 fee the first month overdue and twice that fee the second month overdue and is for $444. How much does Ariana owe in total?\n",
            "\n",
            "\n",
            "\u001b[31mAssistant message:\u001b[0m\n",
            "\n",
            "[[ ## reasoning ## ]]\n",
            "Not supplied for this particular example. \n",
            "\n",
            "[[ ## answer ## ]]\n",
            "1234\n",
            "\n",
            "\n",
            "\u001b[31mUser message:\u001b[0m\n",
            "\n",
            "This is an example of the task, though some input or output fields are not supplied.\n",
            "\n",
            "[[ ## question ## ]]\n",
            "A rancher has 340 head of cattle. He was about to sell them all for $204,000 when 172 of them fell sick and died. Because of the sickness, his customers lost confidence in his cattle, forcing him to lower his price by $150 per head. How much money would the devastated farmer lose if he sold the remaining cattle at the lowered price compared to the amount he would have made by selling them at the original price?\n",
            "\n",
            "\n",
            "\u001b[31mAssistant message:\u001b[0m\n",
            "\n",
            "[[ ## reasoning ## ]]\n",
            "Not supplied for this particular example. \n",
            "\n",
            "[[ ## answer ## ]]\n",
            "25200\n",
            "\n",
            "\n",
            "\u001b[31mUser message:\u001b[0m\n",
            "\n",
            "[[ ## question ## ]]\n",
            "My mother celebrated her birthday with a total of 60 guests. Half of the guests are women, 15 are men, and the rest are children. In the middle of the celebration, 1/3 of the men and 5 children left. How many people stayed and enjoyed the birthday celebration?\n",
            "\n",
            "\n",
            "\u001b[31mAssistant message:\u001b[0m\n",
            "\n",
            "[[ ## reasoning ## ]]\n",
            "To find out how many people stayed at the birthday celebration, we first need to determine the number of children. Since there are 60 guests in total, and half are women, that means there are 30 women. Given that there are 15 men, we can calculate the number of children as follows:\n",
            "\n",
            "Total guests = Women + Men + Children  \n",
            "60 = 30 + 15 + Children  \n",
            "Children = 60 - 30 - 15 = 15\n",
            "\n",
            "Next, we calculate how many men left the celebration. One-third of the 15 men left, which is:\n",
            "\n",
            "Men left = 1/3 * 15 = 5\n",
            "\n",
            "After that, we know that 5 children also left. Therefore, the total number of people who left is:\n",
            "\n",
            "Total left = Men left + Children left = 5 + 5 = 10\n",
            "\n",
            "Now, we can find out how many people stayed:\n",
            "\n",
            "Total stayed = Total guests - Total left = 60 - 10 = 50\n",
            "\n",
            "[[ ## answer ## ]]\n",
            "50\n",
            "\n",
            "\n",
            "\u001b[31mUser message:\u001b[0m\n",
            "\n",
            "[[ ## question ## ]]\n",
            "Tony has a terrible toothache and decides to buy some painkillers from the store.  He picks up a bottle of 50 pills and takes them home.  He takes 2 pills each day three times a day for the first 2 days, before cutting this amount in half for the next 3 days.  On the sixth day, he takes a final 2 pills in the morning and ends up feeling better.  How many pills are left in the bottle?\n",
            "\n",
            "\n",
            "\u001b[31mAssistant message:\u001b[0m\n",
            "\n",
            "[[ ## reasoning ## ]]\n",
            "Tony starts with a bottle of 50 pills. For the first 2 days, he takes 2 pills three times a day, which totals to 2 * 3 * 2 = 12 pills. For the next 3 days, he cuts his intake in half, taking 1 pill three times a day, which totals to 1 * 3 * 3 = 9 pills. On the sixth day, he takes 2 more pills. \n",
            "\n",
            "Now, we can calculate the total number of pills he has taken:\n",
            "- First 2 days: 12 pills\n",
            "- Next 3 days: 9 pills\n",
            "- Sixth day: 2 pills\n",
            "\n",
            "Total pills taken = 12 + 9 + 2 = 23 pills.\n",
            "\n",
            "Now, subtract the total pills taken from the original amount:\n",
            "50 - 23 = 27 pills left in the bottle.\n",
            "\n",
            "[[ ## answer ## ]]\n",
            "27\n",
            "\n",
            "\n",
            "\u001b[31mUser message:\u001b[0m\n",
            "\n",
            "[[ ## question ## ]]\n",
            "Billy is breeding mice for an experiment. He starts with 8 mice, who each have 6 pups. When the pups grow up, all the mice have another 6 pups. Then each adult mouse eats 2 of their pups due to the stress of overcrowding. How many mice are left?\n",
            "\n",
            "\n",
            "\u001b[31mAssistant message:\u001b[0m\n",
            "\n",
            "[[ ## reasoning ## ]]\n",
            "Billy starts with 8 mice. Each of these mice has 6 pups, so the total number of pups from the first generation is 8 * 6 = 48 pups. After the pups grow up, there are now 8 adult mice and 48 grown pups, making a total of 56 adult mice. Each of these 56 adult mice then has another 6 pups, resulting in 56 * 6 = 336 new pups. Now, there are 56 adult mice and 336 pups, totaling 392 mice. However, due to overcrowding, each adult mouse eats 2 of their pups. Since there are 56 adult mice, they eat a total of 56 * 2 = 112 pups. Therefore, the total number of mice left is 392 - 112 = 280 mice.\n",
            "\n",
            "[[ ## answer ## ]]\n",
            "280\n",
            "\n",
            "\n",
            "\u001b[31mUser message:\u001b[0m\n",
            "\n",
            "[[ ## question ## ]]\n",
            "A store gives a 10% discount for the amount of the sell that was over $1000.  John buys 7 items that each cost $200.  What does his order cost after the discount?\n",
            "\n",
            "\n",
            "\u001b[31mAssistant message:\u001b[0m\n",
            "\n",
            "[[ ## reasoning ## ]]\n",
            "John buys 7 items at $200 each, so the total cost before any discount is 7 * 200 = $1400. Since this amount is over $1000, he qualifies for a 10% discount on the amount over $1000. The amount over $1000 is $1400 - $1000 = $400. The discount on this amount is 10% of $400, which is $40. Therefore, the total cost after the discount is $1400 - $40 = $1360.\n",
            "\n",
            "[[ ## answer ## ]]\n",
            "1360\n",
            "\n",
            "\n",
            "\u001b[31mUser message:\u001b[0m\n",
            "\n",
            "[[ ## question ## ]]\n",
            "Tanya is 5 years older than Eric.Cliff is 3 years older than Tanya.How many years cliff is older than eric?\n",
            "\n",
            "Respond with the corresponding output fields, starting with the field `[[ ## reasoning ## ]]`, then `[[ ## answer ## ]]`, and then ending with the marker for `[[ ## completed ## ]]`.\n",
            "\n",
            "\n",
            "\u001b[31mResponse:\u001b[0m\n",
            "\n",
            "\u001b[32m[[ ## reasoning ## ]]\n",
            "Let's denote Eric's age as E. According to the problem, Tanya is 5 years older than Eric, so Tanya's age can be expressed as E + 5. Cliff is 3 years older than Tanya, which means Cliff's age is (E + 5) + 3 = E + 8. \n",
            "\n",
            "To find out how many years older Cliff is than Eric, we can subtract Eric's age from Cliff's age:\n",
            "\n",
            "Cliff's age - Eric's age = (E + 8) - E = 8.\n",
            "\n",
            "Thus, Cliff is 8 years older than Eric.\n",
            "\n",
            "[[ ## answer ## ]]\n",
            "8\n",
            "\n",
            "[[ ## completed ## ]]\u001b[0m\n",
            "\n",
            "\n",
            "\n",
            "\n",
            "\n"
          ]
        }
      ]
    },
    {
      "cell_type": "markdown",
      "source": [
        "Prompt Wizard"
      ],
      "metadata": {
        "id": "WltB10n-_TK0"
      }
    },
    {
      "cell_type": "code",
      "source": [],
      "metadata": {
        "id": "hNzf-VoS_Skf"
      },
      "execution_count": null,
      "outputs": []
    },
    {
      "cell_type": "code",
      "source": [],
      "metadata": {
        "id": "ggryblvm_ShD"
      },
      "execution_count": null,
      "outputs": []
    },
    {
      "cell_type": "code",
      "source": [],
      "metadata": {
        "id": "SDWEkP_p_SeH"
      },
      "execution_count": null,
      "outputs": []
    },
    {
      "cell_type": "code",
      "source": [],
      "metadata": {
        "id": "7_86luFT_SbI"
      },
      "execution_count": null,
      "outputs": []
    },
    {
      "cell_type": "code",
      "source": [],
      "metadata": {
        "id": "eVMbJkU5_SX5"
      },
      "execution_count": null,
      "outputs": []
    },
    {
      "cell_type": "code",
      "source": [],
      "metadata": {
        "id": "KXLch8IZ_SUu"
      },
      "execution_count": null,
      "outputs": []
    },
    {
      "cell_type": "code",
      "source": [],
      "metadata": {
        "id": "kb_hWjW7_SRm"
      },
      "execution_count": null,
      "outputs": []
    },
    {
      "cell_type": "code",
      "source": [],
      "metadata": {
        "id": "BPZ9cyPi_SOP"
      },
      "execution_count": null,
      "outputs": []
    },
    {
      "cell_type": "code",
      "source": [],
      "metadata": {
        "id": "-CjtdopnDjB6"
      },
      "execution_count": null,
      "outputs": []
    },
    {
      "cell_type": "code",
      "source": [],
      "metadata": {
        "id": "sASNgnuOjqB1"
      },
      "execution_count": null,
      "outputs": []
    }
  ]
}
