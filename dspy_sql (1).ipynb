{
  "nbformat": 4,
  "nbformat_minor": 0,
  "metadata": {
    "colab": {
      "provenance": []
    },
    "kernelspec": {
      "name": "python3",
      "display_name": "Python 3"
    },
    "language_info": {
      "name": "python"
    }
  },
  "cells": [
    {
      "cell_type": "code",
      "execution_count": null,
      "metadata": {
        "colab": {
          "base_uri": "https://localhost:8080/"
        },
        "id": "OXiNJs7WYNTm",
        "outputId": "7e09b35f-bd27-47a6-c2ad-35f1aa572bea"
      },
      "outputs": [
        {
          "output_type": "stream",
          "name": "stdout",
          "text": [
            "Collecting dspy\n",
            "  Downloading dspy-2.6.27-py3-none-any.whl.metadata (7.0 kB)\n",
            "Collecting backoff>=2.2 (from dspy)\n",
            "  Downloading backoff-2.2.1-py3-none-any.whl.metadata (14 kB)\n",
            "Requirement already satisfied: joblib~=1.3 in /usr/local/lib/python3.11/dist-packages (from dspy) (1.5.1)\n",
            "Requirement already satisfied: openai>=0.28.1 in /usr/local/lib/python3.11/dist-packages (from dspy) (1.93.0)\n",
            "Requirement already satisfied: pandas>=2.1.1 in /usr/local/lib/python3.11/dist-packages (from dspy) (2.2.2)\n",
            "Requirement already satisfied: regex>=2023.10.3 in /usr/local/lib/python3.11/dist-packages (from dspy) (2024.11.6)\n",
            "Collecting ujson>=5.8.0 (from dspy)\n",
            "  Downloading ujson-5.10.0-cp311-cp311-manylinux_2_17_x86_64.manylinux2014_x86_64.whl.metadata (9.3 kB)\n",
            "Requirement already satisfied: tqdm>=4.66.1 in /usr/local/lib/python3.11/dist-packages (from dspy) (4.67.1)\n",
            "Collecting datasets>=2.14.6 (from dspy)\n",
            "  Downloading datasets-3.6.0-py3-none-any.whl.metadata (19 kB)\n",
            "Requirement already satisfied: requests>=2.31.0 in /usr/local/lib/python3.11/dist-packages (from dspy) (2.32.3)\n",
            "Collecting optuna>=3.4.0 (from dspy)\n",
            "  Downloading optuna-4.4.0-py3-none-any.whl.metadata (17 kB)\n",
            "Requirement already satisfied: pydantic>=2.0 in /usr/local/lib/python3.11/dist-packages (from dspy) (2.11.7)\n",
            "Collecting magicattr>=0.1.6 (from dspy)\n",
            "  Downloading magicattr-0.1.6-py2.py3-none-any.whl.metadata (3.2 kB)\n",
            "Collecting litellm>=1.60.3 (from dspy)\n",
            "  Downloading litellm-1.73.6.post1-py3-none-any.whl.metadata (39 kB)\n",
            "Collecting diskcache>=5.6.0 (from dspy)\n",
            "  Downloading diskcache-5.6.3-py3-none-any.whl.metadata (20 kB)\n",
            "Collecting json-repair>=0.30.0 (from dspy)\n",
            "  Downloading json_repair-0.47.6-py3-none-any.whl.metadata (12 kB)\n",
            "Requirement already satisfied: tenacity>=8.2.3 in /usr/local/lib/python3.11/dist-packages (from dspy) (8.5.0)\n",
            "Requirement already satisfied: anyio in /usr/local/lib/python3.11/dist-packages (from dspy) (4.9.0)\n",
            "Collecting asyncer==0.0.8 (from dspy)\n",
            "  Downloading asyncer-0.0.8-py3-none-any.whl.metadata (6.7 kB)\n",
            "Requirement already satisfied: cachetools>=5.5.0 in /usr/local/lib/python3.11/dist-packages (from dspy) (5.5.2)\n",
            "Requirement already satisfied: cloudpickle>=3.0.0 in /usr/local/lib/python3.11/dist-packages (from dspy) (3.1.1)\n",
            "Requirement already satisfied: rich>=13.7.1 in /usr/local/lib/python3.11/dist-packages (from dspy) (13.9.4)\n",
            "Requirement already satisfied: numpy>=1.26.0 in /usr/local/lib/python3.11/dist-packages (from dspy) (2.0.2)\n",
            "Requirement already satisfied: idna>=2.8 in /usr/local/lib/python3.11/dist-packages (from anyio->dspy) (3.10)\n",
            "Requirement already satisfied: sniffio>=1.1 in /usr/local/lib/python3.11/dist-packages (from anyio->dspy) (1.3.1)\n",
            "Requirement already satisfied: typing_extensions>=4.5 in /usr/local/lib/python3.11/dist-packages (from anyio->dspy) (4.14.0)\n",
            "Requirement already satisfied: filelock in /usr/local/lib/python3.11/dist-packages (from datasets>=2.14.6->dspy) (3.18.0)\n",
            "Requirement already satisfied: pyarrow>=15.0.0 in /usr/local/lib/python3.11/dist-packages (from datasets>=2.14.6->dspy) (18.1.0)\n",
            "Requirement already satisfied: dill<0.3.9,>=0.3.0 in /usr/local/lib/python3.11/dist-packages (from datasets>=2.14.6->dspy) (0.3.7)\n",
            "Requirement already satisfied: xxhash in /usr/local/lib/python3.11/dist-packages (from datasets>=2.14.6->dspy) (3.5.0)\n",
            "Requirement already satisfied: multiprocess<0.70.17 in /usr/local/lib/python3.11/dist-packages (from datasets>=2.14.6->dspy) (0.70.15)\n",
            "Collecting fsspec<=2025.3.0,>=2023.1.0 (from fsspec[http]<=2025.3.0,>=2023.1.0->datasets>=2.14.6->dspy)\n",
            "  Downloading fsspec-2025.3.0-py3-none-any.whl.metadata (11 kB)\n",
            "Requirement already satisfied: huggingface-hub>=0.24.0 in /usr/local/lib/python3.11/dist-packages (from datasets>=2.14.6->dspy) (0.33.1)\n",
            "Requirement already satisfied: packaging in /usr/local/lib/python3.11/dist-packages (from datasets>=2.14.6->dspy) (24.2)\n",
            "Requirement already satisfied: pyyaml>=5.1 in /usr/local/lib/python3.11/dist-packages (from datasets>=2.14.6->dspy) (6.0.2)\n",
            "Requirement already satisfied: aiohttp>=3.10 in /usr/local/lib/python3.11/dist-packages (from litellm>=1.60.3->dspy) (3.11.15)\n",
            "Requirement already satisfied: click in /usr/local/lib/python3.11/dist-packages (from litellm>=1.60.3->dspy) (8.2.1)\n",
            "Requirement already satisfied: httpx>=0.23.0 in /usr/local/lib/python3.11/dist-packages (from litellm>=1.60.3->dspy) (0.28.1)\n",
            "Requirement already satisfied: importlib-metadata>=6.8.0 in /usr/local/lib/python3.11/dist-packages (from litellm>=1.60.3->dspy) (8.7.0)\n",
            "Requirement already satisfied: jinja2<4.0.0,>=3.1.2 in /usr/local/lib/python3.11/dist-packages (from litellm>=1.60.3->dspy) (3.1.6)\n",
            "Requirement already satisfied: jsonschema<5.0.0,>=4.22.0 in /usr/local/lib/python3.11/dist-packages (from litellm>=1.60.3->dspy) (4.24.0)\n",
            "Collecting python-dotenv>=0.2.0 (from litellm>=1.60.3->dspy)\n",
            "  Downloading python_dotenv-1.1.1-py3-none-any.whl.metadata (24 kB)\n",
            "Requirement already satisfied: tiktoken>=0.7.0 in /usr/local/lib/python3.11/dist-packages (from litellm>=1.60.3->dspy) (0.9.0)\n",
            "Requirement already satisfied: tokenizers in /usr/local/lib/python3.11/dist-packages (from litellm>=1.60.3->dspy) (0.21.2)\n",
            "Requirement already satisfied: distro<2,>=1.7.0 in /usr/local/lib/python3.11/dist-packages (from openai>=0.28.1->dspy) (1.9.0)\n",
            "Requirement already satisfied: jiter<1,>=0.4.0 in /usr/local/lib/python3.11/dist-packages (from openai>=0.28.1->dspy) (0.10.0)\n",
            "Collecting alembic>=1.5.0 (from optuna>=3.4.0->dspy)\n",
            "  Downloading alembic-1.16.2-py3-none-any.whl.metadata (7.3 kB)\n",
            "Collecting colorlog (from optuna>=3.4.0->dspy)\n",
            "  Downloading colorlog-6.9.0-py3-none-any.whl.metadata (10 kB)\n",
            "Requirement already satisfied: sqlalchemy>=1.4.2 in /usr/local/lib/python3.11/dist-packages (from optuna>=3.4.0->dspy) (2.0.41)\n",
            "Requirement already satisfied: python-dateutil>=2.8.2 in /usr/local/lib/python3.11/dist-packages (from pandas>=2.1.1->dspy) (2.9.0.post0)\n",
            "Requirement already satisfied: pytz>=2020.1 in /usr/local/lib/python3.11/dist-packages (from pandas>=2.1.1->dspy) (2025.2)\n",
            "Requirement already satisfied: tzdata>=2022.7 in /usr/local/lib/python3.11/dist-packages (from pandas>=2.1.1->dspy) (2025.2)\n",
            "Requirement already satisfied: annotated-types>=0.6.0 in /usr/local/lib/python3.11/dist-packages (from pydantic>=2.0->dspy) (0.7.0)\n",
            "Requirement already satisfied: pydantic-core==2.33.2 in /usr/local/lib/python3.11/dist-packages (from pydantic>=2.0->dspy) (2.33.2)\n",
            "Requirement already satisfied: typing-inspection>=0.4.0 in /usr/local/lib/python3.11/dist-packages (from pydantic>=2.0->dspy) (0.4.1)\n",
            "Requirement already satisfied: charset-normalizer<4,>=2 in /usr/local/lib/python3.11/dist-packages (from requests>=2.31.0->dspy) (3.4.2)\n",
            "Requirement already satisfied: urllib3<3,>=1.21.1 in /usr/local/lib/python3.11/dist-packages (from requests>=2.31.0->dspy) (2.4.0)\n",
            "Requirement already satisfied: certifi>=2017.4.17 in /usr/local/lib/python3.11/dist-packages (from requests>=2.31.0->dspy) (2025.6.15)\n",
            "Requirement already satisfied: markdown-it-py>=2.2.0 in /usr/local/lib/python3.11/dist-packages (from rich>=13.7.1->dspy) (3.0.0)\n",
            "Requirement already satisfied: pygments<3.0.0,>=2.13.0 in /usr/local/lib/python3.11/dist-packages (from rich>=13.7.1->dspy) (2.19.2)\n",
            "Requirement already satisfied: aiohappyeyeballs>=2.3.0 in /usr/local/lib/python3.11/dist-packages (from aiohttp>=3.10->litellm>=1.60.3->dspy) (2.6.1)\n",
            "Requirement already satisfied: aiosignal>=1.1.2 in /usr/local/lib/python3.11/dist-packages (from aiohttp>=3.10->litellm>=1.60.3->dspy) (1.3.2)\n",
            "Requirement already satisfied: attrs>=17.3.0 in /usr/local/lib/python3.11/dist-packages (from aiohttp>=3.10->litellm>=1.60.3->dspy) (25.3.0)\n",
            "Requirement already satisfied: frozenlist>=1.1.1 in /usr/local/lib/python3.11/dist-packages (from aiohttp>=3.10->litellm>=1.60.3->dspy) (1.7.0)\n",
            "Requirement already satisfied: multidict<7.0,>=4.5 in /usr/local/lib/python3.11/dist-packages (from aiohttp>=3.10->litellm>=1.60.3->dspy) (6.6.3)\n",
            "Requirement already satisfied: propcache>=0.2.0 in /usr/local/lib/python3.11/dist-packages (from aiohttp>=3.10->litellm>=1.60.3->dspy) (0.3.2)\n",
            "Requirement already satisfied: yarl<2.0,>=1.17.0 in /usr/local/lib/python3.11/dist-packages (from aiohttp>=3.10->litellm>=1.60.3->dspy) (1.20.1)\n",
            "Requirement already satisfied: Mako in /usr/lib/python3/dist-packages (from alembic>=1.5.0->optuna>=3.4.0->dspy) (1.1.3)\n",
            "Requirement already satisfied: httpcore==1.* in /usr/local/lib/python3.11/dist-packages (from httpx>=0.23.0->litellm>=1.60.3->dspy) (1.0.9)\n",
            "Requirement already satisfied: h11>=0.16 in /usr/local/lib/python3.11/dist-packages (from httpcore==1.*->httpx>=0.23.0->litellm>=1.60.3->dspy) (0.16.0)\n",
            "Requirement already satisfied: hf-xet<2.0.0,>=1.1.2 in /usr/local/lib/python3.11/dist-packages (from huggingface-hub>=0.24.0->datasets>=2.14.6->dspy) (1.1.5)\n",
            "Requirement already satisfied: zipp>=3.20 in /usr/local/lib/python3.11/dist-packages (from importlib-metadata>=6.8.0->litellm>=1.60.3->dspy) (3.23.0)\n",
            "Requirement already satisfied: MarkupSafe>=2.0 in /usr/local/lib/python3.11/dist-packages (from jinja2<4.0.0,>=3.1.2->litellm>=1.60.3->dspy) (3.0.2)\n",
            "Requirement already satisfied: jsonschema-specifications>=2023.03.6 in /usr/local/lib/python3.11/dist-packages (from jsonschema<5.0.0,>=4.22.0->litellm>=1.60.3->dspy) (2025.4.1)\n",
            "Requirement already satisfied: referencing>=0.28.4 in /usr/local/lib/python3.11/dist-packages (from jsonschema<5.0.0,>=4.22.0->litellm>=1.60.3->dspy) (0.36.2)\n",
            "Requirement already satisfied: rpds-py>=0.7.1 in /usr/local/lib/python3.11/dist-packages (from jsonschema<5.0.0,>=4.22.0->litellm>=1.60.3->dspy) (0.26.0)\n",
            "Requirement already satisfied: mdurl~=0.1 in /usr/local/lib/python3.11/dist-packages (from markdown-it-py>=2.2.0->rich>=13.7.1->dspy) (0.1.2)\n",
            "Requirement already satisfied: six>=1.5 in /usr/local/lib/python3.11/dist-packages (from python-dateutil>=2.8.2->pandas>=2.1.1->dspy) (1.17.0)\n",
            "Requirement already satisfied: greenlet>=1 in /usr/local/lib/python3.11/dist-packages (from sqlalchemy>=1.4.2->optuna>=3.4.0->dspy) (3.2.3)\n",
            "Downloading dspy-2.6.27-py3-none-any.whl (297 kB)\n",
            "\u001b[2K   \u001b[90m━━━━━━━━━━━━━━━━━━━━━━━━━━━━━━━━━━━━━━━━\u001b[0m \u001b[32m297.3/297.3 kB\u001b[0m \u001b[31m12.4 MB/s\u001b[0m eta \u001b[36m0:00:00\u001b[0m\n",
            "\u001b[?25hDownloading asyncer-0.0.8-py3-none-any.whl (9.2 kB)\n",
            "Downloading backoff-2.2.1-py3-none-any.whl (15 kB)\n",
            "Downloading datasets-3.6.0-py3-none-any.whl (491 kB)\n",
            "\u001b[2K   \u001b[90m━━━━━━━━━━━━━━━━━━━━━━━━━━━━━━━━━━━━━━━━\u001b[0m \u001b[32m491.5/491.5 kB\u001b[0m \u001b[31m21.3 MB/s\u001b[0m eta \u001b[36m0:00:00\u001b[0m\n",
            "\u001b[?25hDownloading diskcache-5.6.3-py3-none-any.whl (45 kB)\n",
            "\u001b[2K   \u001b[90m━━━━━━━━━━━━━━━━━━━━━━━━━━━━━━━━━━━━━━━━\u001b[0m \u001b[32m45.5/45.5 kB\u001b[0m \u001b[31m2.6 MB/s\u001b[0m eta \u001b[36m0:00:00\u001b[0m\n",
            "\u001b[?25hDownloading json_repair-0.47.6-py3-none-any.whl (25 kB)\n",
            "Downloading litellm-1.73.6.post1-py3-none-any.whl (8.5 MB)\n",
            "\u001b[2K   \u001b[90m━━━━━━━━━━━━━━━━━━━━━━━━━━━━━━━━━━━━━━━━\u001b[0m \u001b[32m8.5/8.5 MB\u001b[0m \u001b[31m36.6 MB/s\u001b[0m eta \u001b[36m0:00:00\u001b[0m\n",
            "\u001b[?25hDownloading magicattr-0.1.6-py2.py3-none-any.whl (4.7 kB)\n",
            "Downloading optuna-4.4.0-py3-none-any.whl (395 kB)\n",
            "\u001b[2K   \u001b[90m━━━━━━━━━━━━━━━━━━━━━━━━━━━━━━━━━━━━━━━━\u001b[0m \u001b[32m395.9/395.9 kB\u001b[0m \u001b[31m16.3 MB/s\u001b[0m eta \u001b[36m0:00:00\u001b[0m\n",
            "\u001b[?25hDownloading ujson-5.10.0-cp311-cp311-manylinux_2_17_x86_64.manylinux2014_x86_64.whl (53 kB)\n",
            "\u001b[2K   \u001b[90m━━━━━━━━━━━━━━━━━━━━━━━━━━━━━━━━━━━━━━━━\u001b[0m \u001b[32m53.6/53.6 kB\u001b[0m \u001b[31m3.9 MB/s\u001b[0m eta \u001b[36m0:00:00\u001b[0m\n",
            "\u001b[?25hDownloading alembic-1.16.2-py3-none-any.whl (242 kB)\n",
            "\u001b[2K   \u001b[90m━━━━━━━━━━━━━━━━━━━━━━━━━━━━━━━━━━━━━━━━\u001b[0m \u001b[32m242.7/242.7 kB\u001b[0m \u001b[31m16.5 MB/s\u001b[0m eta \u001b[36m0:00:00\u001b[0m\n",
            "\u001b[?25hDownloading fsspec-2025.3.0-py3-none-any.whl (193 kB)\n",
            "\u001b[2K   \u001b[90m━━━━━━━━━━━━━━━━━━━━━━━━━━━━━━━━━━━━━━━━\u001b[0m \u001b[32m193.6/193.6 kB\u001b[0m \u001b[31m7.5 MB/s\u001b[0m eta \u001b[36m0:00:00\u001b[0m\n",
            "\u001b[?25hDownloading python_dotenv-1.1.1-py3-none-any.whl (20 kB)\n",
            "Downloading colorlog-6.9.0-py3-none-any.whl (11 kB)\n",
            "Installing collected packages: magicattr, ujson, python-dotenv, json-repair, fsspec, diskcache, colorlog, backoff, asyncer, alembic, optuna, litellm, datasets, dspy\n",
            "  Attempting uninstall: fsspec\n",
            "    Found existing installation: fsspec 2025.3.2\n",
            "    Uninstalling fsspec-2025.3.2:\n",
            "      Successfully uninstalled fsspec-2025.3.2\n",
            "  Attempting uninstall: datasets\n",
            "    Found existing installation: datasets 2.14.4\n",
            "    Uninstalling datasets-2.14.4:\n",
            "      Successfully uninstalled datasets-2.14.4\n",
            "\u001b[31mERROR: pip's dependency resolver does not currently take into account all the packages that are installed. This behaviour is the source of the following dependency conflicts.\n",
            "gcsfs 2025.3.2 requires fsspec==2025.3.2, but you have fsspec 2025.3.0 which is incompatible.\n",
            "torch 2.6.0+cu124 requires nvidia-cublas-cu12==12.4.5.8; platform_system == \"Linux\" and platform_machine == \"x86_64\", but you have nvidia-cublas-cu12 12.5.3.2 which is incompatible.\n",
            "torch 2.6.0+cu124 requires nvidia-cuda-cupti-cu12==12.4.127; platform_system == \"Linux\" and platform_machine == \"x86_64\", but you have nvidia-cuda-cupti-cu12 12.5.82 which is incompatible.\n",
            "torch 2.6.0+cu124 requires nvidia-cuda-nvrtc-cu12==12.4.127; platform_system == \"Linux\" and platform_machine == \"x86_64\", but you have nvidia-cuda-nvrtc-cu12 12.5.82 which is incompatible.\n",
            "torch 2.6.0+cu124 requires nvidia-cuda-runtime-cu12==12.4.127; platform_system == \"Linux\" and platform_machine == \"x86_64\", but you have nvidia-cuda-runtime-cu12 12.5.82 which is incompatible.\n",
            "torch 2.6.0+cu124 requires nvidia-cudnn-cu12==9.1.0.70; platform_system == \"Linux\" and platform_machine == \"x86_64\", but you have nvidia-cudnn-cu12 9.3.0.75 which is incompatible.\n",
            "torch 2.6.0+cu124 requires nvidia-cufft-cu12==11.2.1.3; platform_system == \"Linux\" and platform_machine == \"x86_64\", but you have nvidia-cufft-cu12 11.2.3.61 which is incompatible.\n",
            "torch 2.6.0+cu124 requires nvidia-curand-cu12==10.3.5.147; platform_system == \"Linux\" and platform_machine == \"x86_64\", but you have nvidia-curand-cu12 10.3.6.82 which is incompatible.\n",
            "torch 2.6.0+cu124 requires nvidia-cusolver-cu12==11.6.1.9; platform_system == \"Linux\" and platform_machine == \"x86_64\", but you have nvidia-cusolver-cu12 11.6.3.83 which is incompatible.\n",
            "torch 2.6.0+cu124 requires nvidia-cusparse-cu12==12.3.1.170; platform_system == \"Linux\" and platform_machine == \"x86_64\", but you have nvidia-cusparse-cu12 12.5.1.3 which is incompatible.\n",
            "torch 2.6.0+cu124 requires nvidia-nvjitlink-cu12==12.4.127; platform_system == \"Linux\" and platform_machine == \"x86_64\", but you have nvidia-nvjitlink-cu12 12.5.82 which is incompatible.\u001b[0m\u001b[31m\n",
            "\u001b[0mSuccessfully installed alembic-1.16.2 asyncer-0.0.8 backoff-2.2.1 colorlog-6.9.0 datasets-3.6.0 diskcache-5.6.3 dspy-2.6.27 fsspec-2025.3.0 json-repair-0.47.6 litellm-1.73.6.post1 magicattr-0.1.6 optuna-4.4.0 python-dotenv-1.1.1 ujson-5.10.0\n"
          ]
        }
      ],
      "source": [
        "! pip install dspy"
      ]
    },
    {
      "cell_type": "code",
      "source": [
        "import os\n",
        "from google.colab import userdata\n",
        "os.environ['OPENAI_API_KEY'] = userdata.get('OPENAI_API_KEY')"
      ],
      "metadata": {
        "id": "-K3QILWTYuOp"
      },
      "execution_count": null,
      "outputs": []
    },
    {
      "cell_type": "code",
      "source": [
        "import dspy\n",
        "\n",
        "class SQL(dspy.Signature):\n",
        "    \"\"\"Generate SQL code based on a given query and table schema.\"\"\"\n",
        "    query: str = dspy.InputField()\n",
        "    table_schema: str = dspy.InputField()\n",
        "    answer: str = dspy.OutputField()\n",
        "class SQLGenerator(dspy.Module):\n",
        "    def __init__(self):\n",
        "        super().__init__()\n",
        "        self.predict = dspy.Predict(SQL)\n",
        "\n",
        "    def forward(self, query, table_schema):\n",
        "        return self.predict(query=query, table_schema=table_schema)\n",
        "\n",
        "table_schema=\"employee(id,name,salary)\"\n",
        "trainset = [\n",
        "    dspy.Example(query=\"what is the price of apple?\",table_schema=\"employee(id,name,salary)\", answer=\"SELECT name FROM employee;\").with_inputs(\"query\",\"table_schema\"),\n",
        "    dspy.Example(query=\"what is the target price of tesla\",table_schema=\"employee(id,name,salary)\",answer=\"SELECT salary FROM employee WHERE id = 101;\").with_inputs(\"query\",\"table_schema\"),\n",
        "    dspy.Example(query=\"\",table_schema= \"what is the walmart target price?.\",answer=\"SELECT * FROM employee WHERE salary > 50000;\").with_inputs(\"query\",\"table_schema\"),\n",
        "    dspy.Example(query=\"what is the market cap of IT sector in 2025?.\",table_schema=\"employee(id,name,salary)\", answer=\"SELECT COUNT(*) FROM employee;\").with_inputs(\"query\",\"table_schema\"),\n",
        "    dspy.Example(query=\"what is the rating for LTI?\",table_schema=\"employee(id,name,salary)\", answer=\"SELECT AVG(salary) AS average_salary FROM employee;\").with_inputs(\"query\",\"table_schema\"),\n",
        "    dspy.Example(query=\"what is the rating for IT sector?\",table_schema=\"employee(id,name,salary)\", answer=\"SELECT name FROM employee WHERE salary = (SELECT DISTINCT salary FROM employee ORDER BY salary DESC LIMIT 1 OFFSET 1)\").with_inputs(\"query\",\"table_schema\"),\n",
        "]\n",
        "\n",
        "lm = dspy.LM(\"openai/gpt-4o-mini\")\n",
        "dspy.settings.configure(lm=lm)\n",
        "\n",
        "\n",
        "from dspy.evaluate import answer_exact_match as metric\n",
        "from dspy.teleprompt import BootstrapFewShot\n",
        "\n",
        "optimizer = BootstrapFewShot(\n",
        "    metric=metric,\n",
        "    max_bootstrapped_demos=6,\n",
        "    max_labeled_demos=6,\n",
        "    max_rounds=10,\n",
        ")\n",
        "\n",
        "\n",
        "_optimized = optimizer.compile(student=SQLGenerator(),trainset=trainset)"
      ],
      "metadata": {
        "colab": {
          "base_uri": "https://localhost:8080/"
        },
        "id": "B-lfDzVJYU-B",
        "outputId": "4caa25f7-22d8-4eec-d80f-7856672b8acd"
      },
      "execution_count": null,
      "outputs": [
        {
          "output_type": "stream",
          "name": "stderr",
          "text": [
            "100%|██████████| 6/6 [00:28<00:00,  4.78s/it]"
          ]
        },
        {
          "output_type": "stream",
          "name": "stdout",
          "text": [
            "Bootstrapped 3 full traces after 5 examples for up to 10 rounds, amounting to 33 attempts.\n"
          ]
        },
        {
          "output_type": "stream",
          "name": "stderr",
          "text": [
            "\n"
          ]
        }
      ]
    },
    {
      "cell_type": "code",
      "source": [
        "_optimized(query=\"What is the third highest salary of employee?\",table_schema=\"employee(id,employee_name,salary)\")"
      ],
      "metadata": {
        "colab": {
          "base_uri": "https://localhost:8080/"
        },
        "id": "9KbXbnLpY8I3",
        "outputId": "326d1ba9-71e9-48d2-b923-04de91ca7234"
      },
      "execution_count": null,
      "outputs": [
        {
          "output_type": "execute_result",
          "data": {
            "text/plain": [
              "Prediction(\n",
              "    answer='SELECT DISTINCT salary FROM employee ORDER BY salary DESC LIMIT 1 OFFSET 2;'\n",
              ")"
            ]
          },
          "metadata": {},
          "execution_count": 4
        }
      ]
    },
    {
      "cell_type": "code",
      "source": [
        "lm.inspect_history()"
      ],
      "metadata": {
        "colab": {
          "base_uri": "https://localhost:8080/"
        },
        "id": "fEQlQ4uVZZKl",
        "outputId": "de0f791c-1ae2-4d4d-df4d-ebba5c21c2c4"
      },
      "execution_count": null,
      "outputs": [
        {
          "output_type": "stream",
          "name": "stdout",
          "text": [
            "\n",
            "\n",
            "\n",
            "\n",
            "\u001b[34m[2025-07-03T17:48:36.559269]\u001b[0m\n",
            "\n",
            "\u001b[31mSystem message:\u001b[0m\n",
            "\n",
            "Your input fields are:\n",
            "1. `query` (str): \n",
            "2. `table_schema` (str):\n",
            "Your output fields are:\n",
            "1. `answer` (str):\n",
            "All interactions will be structured in the following way, with the appropriate values filled in.\n",
            "\n",
            "[[ ## query ## ]]\n",
            "{query}\n",
            "\n",
            "[[ ## table_schema ## ]]\n",
            "{table_schema}\n",
            "\n",
            "[[ ## answer ## ]]\n",
            "{answer}\n",
            "\n",
            "[[ ## completed ## ]]\n",
            "In adhering to this structure, your objective is: \n",
            "        Generate SQL code based on a given query and table schema.\n",
            "\n",
            "\n",
            "\u001b[31mUser message:\u001b[0m\n",
            "\n",
            "[[ ## query ## ]]\n",
            "What are the names of all employees?\n",
            "\n",
            "[[ ## table_schema ## ]]\n",
            "employee(id,name,salary)\n",
            "\n",
            "\n",
            "\u001b[31mAssistant message:\u001b[0m\n",
            "\n",
            "[[ ## answer ## ]]\n",
            "SELECT name FROM employee;\n",
            "\n",
            "\n",
            "\u001b[31mUser message:\u001b[0m\n",
            "\n",
            "[[ ## query ## ]]\n",
            "What is the salary of the employee with ID 101?\n",
            "\n",
            "[[ ## table_schema ## ]]\n",
            "employee(id,name,salary)\n",
            "\n",
            "\n",
            "\u001b[31mAssistant message:\u001b[0m\n",
            "\n",
            "[[ ## answer ## ]]\n",
            "SELECT salary FROM employee WHERE id = 101;\n",
            "\n",
            "\n",
            "\u001b[31mUser message:\u001b[0m\n",
            "\n",
            "[[ ## query ## ]]\n",
            "List all employees with a salary greater than 50,000.\n",
            "\n",
            "[[ ## table_schema ## ]]\n",
            "employee(id,name,salary)\n",
            "\n",
            "\n",
            "\u001b[31mAssistant message:\u001b[0m\n",
            "\n",
            "[[ ## answer ## ]]\n",
            "SELECT * FROM employee WHERE salary > 50000;\n",
            "\n",
            "\n",
            "\u001b[31mUser message:\u001b[0m\n",
            "\n",
            "[[ ## query ## ]]\n",
            "what is the name of second highest salary employee\n",
            "\n",
            "[[ ## table_schema ## ]]\n",
            "employee(id,name,salary)\n",
            "\n",
            "\n",
            "\u001b[31mAssistant message:\u001b[0m\n",
            "\n",
            "[[ ## answer ## ]]\n",
            "SELECT name FROM employee WHERE salary = (SELECT DISTINCT salary FROM employee ORDER BY salary DESC LIMIT 1 OFFSET 1)\n",
            "\n",
            "\n",
            "\u001b[31mUser message:\u001b[0m\n",
            "\n",
            "[[ ## query ## ]]\n",
            " What is the average salary of all employees?\n",
            "\n",
            "[[ ## table_schema ## ]]\n",
            "employee(id,name,salary)\n",
            "\n",
            "\n",
            "\u001b[31mAssistant message:\u001b[0m\n",
            "\n",
            "[[ ## answer ## ]]\n",
            "SELECT AVG(salary) AS average_salary FROM employee;\n",
            "\n",
            "\n",
            "\u001b[31mUser message:\u001b[0m\n",
            "\n",
            "[[ ## query ## ]]\n",
            " How many employees are in the table?\n",
            "\n",
            "[[ ## table_schema ## ]]\n",
            "employee(id,name,salary)\n",
            "\n",
            "\n",
            "\u001b[31mAssistant message:\u001b[0m\n",
            "\n",
            "[[ ## answer ## ]]\n",
            "SELECT COUNT(*) FROM employee;\n",
            "\n",
            "\n",
            "\u001b[31mUser message:\u001b[0m\n",
            "\n",
            "[[ ## query ## ]]\n",
            "What is the third highest salary of employee?\n",
            "\n",
            "[[ ## table_schema ## ]]\n",
            "employee(id,employee_name,salary)\n",
            "\n",
            "Respond with the corresponding output fields, starting with the field `[[ ## answer ## ]]`, and then ending with the marker for `[[ ## completed ## ]]`.\n",
            "\n",
            "\n",
            "\u001b[31mResponse:\u001b[0m\n",
            "\n",
            "\u001b[32m[[ ## answer ## ]]\n",
            "SELECT DISTINCT salary FROM employee ORDER BY salary DESC LIMIT 1 OFFSET 2; \n",
            "\n",
            "[[ ## completed ## ]]\u001b[0m\n",
            "\n",
            "\n",
            "\n",
            "\n",
            "\n"
          ]
        }
      ]
    },
    {
      "cell_type": "code",
      "source": [
        "import dspy\n",
        "\n",
        "class SQL(dspy.Signature):\n",
        "    \"\"\"Generate SQL code based on a given query and table schema.\"\"\"\n",
        "    query: str = dspy.InputField()\n",
        "    table_schema: str = dspy.InputField()\n",
        "    answer: str = dspy.OutputField()\n",
        "class SQLGenerator(dspy.Module):\n",
        "    def __init__(self):\n",
        "        super().__init__()\n",
        "        self.predict = dspy.Predict(SQL)\n",
        "\n",
        "    def forward(self, query, table_schema):\n",
        "        return self.predict(query=query, table_schema=table_schema)\n",
        "\n",
        "table_schema=\"\"\"cio(rating_text VARCHAR(10), -- 'Buy', 'Neutral', 'Sell'\n",
        "    rating_type VARCHAR(50), -- e.g., '12-Month'\n",
        "    rating_as_of_date DATE,\n",
        "    suspended BOOLEAN,\n",
        "    restricted BOOLEAN,\n",
        "    wire_issuer_name VARCHAR(100),\n",
        "    wire_issuer_full_name VARCHAR(255),\n",
        "    ris_code VARCHAR(50),\n",
        "    bloomberg_symbol VARCHAR(50),\n",
        "    is_equity_researched BOOLEAN,\n",
        "    status VARCHAR(20), -- e.g., 'Covered'\n",
        "    market_cap_usd DECIMAL(20, 2),\n",
        "    price DECIMAL(18, 4),\n",
        "    sedol VARCHAR(12),\n",
        "    isin VARCHAR(20),\n",
        "    cusip VARCHAR(12),\n",
        "    price_target DECIMAL(18, 4),\n",
        "    price_target_as_of_date DATE)\"\"\"\n",
        "\n",
        "trainset = [\n",
        "    dspy.Example(query=\"what is the price of apple?\",table_schema=table_schema, answer=\"\"\"\"SELECT CASE WHEN suspension 'Y' THEN 'No Information can be provided about this security as it is suspended.' ELSE CAST (price AS VARCHAR) END as result FROM cio WHERE company_name ilike '%apple% ORDER BY rating_change date DESC LIMIT 1;\"\"\").with_inputs(\"query\",\"table_schema\"),\n",
        "    dspy.Example(query=\"What is target price for tesla?\",table_schema=table_schema,answer=\"\"\"SELECT CASE WHEN suspension = 'Y' THEN 'No Information can be provided about this security as it is suspend .' ELSE 'The Chief Investment Office does not provide information about price targets.' END as result FROM cio WHERE company_name ILIKE '%tesla%' ORDER BY rating_change_date DESC LIMIT 1;\"\"\").with_inputs(\"query\",\"table_schema\"),\n",
        "    dspy.Example(query=\"what is the walmart target price?\",table_schema=table_schema,answer=\"\"\"SELECT CASE WHEN suspended TRUE THEN 'No Information can be provided about this security' WHEN restricted =TRUE THEN 'This is a restricted security. We are not able to provide ratings or price target information on this security at this time.' ELSE CAST (price_target as VARCHAR) END as result FROM cio.listings_ratings_view_complete WHERE wire_issuer_name ILIKE '% almart% or wire issuer_full_name ilike '%walmart%' or ris_code ilike '%walmart% or\n",
        "bloomberg_symbol ilike '%walmart%' ORDER BY price_as_of_date DESC LIMIT 1;\"\"\").with_inputs(\"query\",\"table_schema\"),\n",
        "    dspy.Example(query=\"what is the rating for LTI?\",table_schema=table_schema, answer=\"\"\"SELECT CASE WHEN suspension = 'Y' THEN 'No Information can be provided about this security as it is suspended.' ELSE CAST (ranking_description as VARCHAR) END as result FROM cio WHERE company_name ilike '%lti%' ORDER BY rating_change_date DESC LIMIT 1;\"\"\").with_inputs(\"query\",\"table_schema\"),\n",
        "    dspy.Example(query=\"What is target price for Google?\",table_schema=table_schema, answer=\"\"\"SELECT CASE WHEN suspended = TRUE THEN 'No Information can be provided about this security' WHEN restricted = TRUE THEN 'This is a restricted security. We are not able to provide ratings or price target information on this security at this time.' ELSE CAST (price_target as VARCHAR) END as result FROM cio.listings_ratings_view_complete WHERE wire_issuer_name ILIKE '%google% or wire_issuer_full_name ilike '%google% or ris_code ilike '%google%' or bloomberg_symbol ilike '%google%' ORDER BY\n",
        "price_as_of_date DESC LIMIT 1\"\"\").with_inputs(\"query\",\"table_schema\"),\n",
        "    dspy.Example(query=\"what is the rating for IT sector?\",table_schema=table_schema, answer=\"\"\"SELECT CASE WHEN suspension 'Y' THEN 'No Information can be provided about this security as it is suspended.' ELSE CAST (ranking_description AS VARCHAR) END AS result FROM cio WHERE company_name ILIKE '%IT%' ORDER BY rating_change_date DESC LIMIT 1;\"\"\").with_inputs(\"query\",\"table_schema\"),\n",
        "]"
      ],
      "metadata": {
        "id": "cvL13Y35_BJz"
      },
      "execution_count": null,
      "outputs": []
    },
    {
      "cell_type": "code",
      "source": [
        "lm = dspy.LM(\"openai/gpt-4o-mini\")\n",
        "dspy.settings.configure(lm=lm)\n",
        "\n",
        "\n",
        "from dspy.evaluate import answer_exact_match as metric\n",
        "from dspy.teleprompt import BootstrapFewShot\n",
        "\n",
        "optimizer = BootstrapFewShot(\n",
        "    metric=metric,\n",
        "    max_bootstrapped_demos=6,\n",
        "    max_labeled_demos=6,\n",
        "    max_rounds=10,\n",
        ")\n",
        "\n",
        "\n",
        "_optimized = optimizer.compile(student=SQLGenerator(),trainset=trainset)"
      ],
      "metadata": {
        "colab": {
          "base_uri": "https://localhost:8080/"
        },
        "id": "WZzug-vj1yFN",
        "outputId": "4e36d697-9229-432e-bcec-b1cde5d7ae5e"
      },
      "execution_count": null,
      "outputs": [
        {
          "output_type": "stream",
          "name": "stderr",
          "text": [
            "100%|██████████| 6/6 [02:01<00:00, 20.21s/it]"
          ]
        },
        {
          "output_type": "stream",
          "name": "stdout",
          "text": [
            "Bootstrapped 0 full traces after 5 examples for up to 10 rounds, amounting to 60 attempts.\n"
          ]
        },
        {
          "output_type": "stream",
          "name": "stderr",
          "text": [
            "\n"
          ]
        }
      ]
    },
    {
      "cell_type": "code",
      "source": [
        "lm.inspect_history()"
      ],
      "metadata": {
        "colab": {
          "base_uri": "https://localhost:8080/"
        },
        "id": "4L0kp44k2gDO",
        "outputId": "9619ccb9-133e-4693-b04b-634f3839075e"
      },
      "execution_count": null,
      "outputs": [
        {
          "output_type": "stream",
          "name": "stdout",
          "text": [
            "\n",
            "\n",
            "\n",
            "\n",
            "\u001b[34m[2025-07-04T09:51:59.996838]\u001b[0m\n",
            "\n",
            "\u001b[31mSystem message:\u001b[0m\n",
            "\n",
            "Your input fields are:\n",
            "1. `query` (str): \n",
            "2. `table_schema` (str):\n",
            "Your output fields are:\n",
            "1. `answer` (str):\n",
            "All interactions will be structured in the following way, with the appropriate values filled in.\n",
            "\n",
            "[[ ## query ## ]]\n",
            "{query}\n",
            "\n",
            "[[ ## table_schema ## ]]\n",
            "{table_schema}\n",
            "\n",
            "[[ ## answer ## ]]\n",
            "{answer}\n",
            "\n",
            "[[ ## completed ## ]]\n",
            "In adhering to this structure, your objective is: \n",
            "        Generate SQL code based on a given query and table schema.\n",
            "\n",
            "\n",
            "\u001b[31mUser message:\u001b[0m\n",
            "\n",
            "[[ ## query ## ]]\n",
            "what is the rating for LTI?\n",
            "\n",
            "[[ ## table_schema ## ]]\n",
            "cio(rating_text VARCHAR(10), -- 'Buy', 'Neutral', 'Sell'\n",
            "    rating_type VARCHAR(50), -- e.g., '12-Month'\n",
            "    rating_as_of_date DATE,\n",
            "    suspended BOOLEAN,\n",
            "    restricted BOOLEAN,\n",
            "    wire_issuer_name VARCHAR(100),\n",
            "    wire_issuer_full_name VARCHAR(255),\n",
            "    ris_code VARCHAR(50),\n",
            "    bloomberg_symbol VARCHAR(50),\n",
            "    is_equity_researched BOOLEAN,\n",
            "    status VARCHAR(20), -- e.g., 'Covered'\n",
            "    market_cap_usd DECIMAL(20, 2),\n",
            "    price DECIMAL(18, 4),\n",
            "    sedol VARCHAR(12),\n",
            "    isin VARCHAR(20),\n",
            "    cusip VARCHAR(12),\n",
            "    price_target DECIMAL(18, 4),\n",
            "    price_target_as_of_date DATE)\n",
            "\n",
            "\n",
            "\u001b[31mAssistant message:\u001b[0m\n",
            "\n",
            "[[ ## answer ## ]]\n",
            "SELECT CASE WHEN suspension = 'Y' THEN 'No Information can be provided about this security as it is suspended.' ELSE CAST (ranking_description as VARCHAR) END as result FROM cio WHERE company_name ilike '%lti%' ORDER BY rating_change_date DESC LIMIT 1;\n",
            "\n",
            "\n",
            "\u001b[31mUser message:\u001b[0m\n",
            "\n",
            "[[ ## query ## ]]\n",
            "what is the price of apple?\n",
            "\n",
            "[[ ## table_schema ## ]]\n",
            "cio(rating_text VARCHAR(10), -- 'Buy', 'Neutral', 'Sell'\n",
            "    rating_type VARCHAR(50), -- e.g., '12-Month'\n",
            "    rating_as_of_date DATE,\n",
            "    suspended BOOLEAN,\n",
            "    restricted BOOLEAN,\n",
            "    wire_issuer_name VARCHAR(100),\n",
            "    wire_issuer_full_name VARCHAR(255),\n",
            "    ris_code VARCHAR(50),\n",
            "    bloomberg_symbol VARCHAR(50),\n",
            "    is_equity_researched BOOLEAN,\n",
            "    status VARCHAR(20), -- e.g., 'Covered'\n",
            "    market_cap_usd DECIMAL(20, 2),\n",
            "    price DECIMAL(18, 4),\n",
            "    sedol VARCHAR(12),\n",
            "    isin VARCHAR(20),\n",
            "    cusip VARCHAR(12),\n",
            "    price_target DECIMAL(18, 4),\n",
            "    price_target_as_of_date DATE)\n",
            "\n",
            "\n",
            "\u001b[31mAssistant message:\u001b[0m\n",
            "\n",
            "[[ ## answer ## ]]\n",
            "\"SELECT CASE WHEN suspension 'Y' THEN 'No Information can be provided about this security as it is suspended.' ELSE CAST (price AS VARCHAR) END as result FROM cio WHERE company_name ilike '%apple% ORDER BY rating_change date DESC LIMIT 1;\n",
            "\n",
            "\n",
            "\u001b[31mUser message:\u001b[0m\n",
            "\n",
            "[[ ## query ## ]]\n",
            "What is target price for tesla?\n",
            "\n",
            "[[ ## table_schema ## ]]\n",
            "cio(rating_text VARCHAR(10), -- 'Buy', 'Neutral', 'Sell'\n",
            "    rating_type VARCHAR(50), -- e.g., '12-Month'\n",
            "    rating_as_of_date DATE,\n",
            "    suspended BOOLEAN,\n",
            "    restricted BOOLEAN,\n",
            "    wire_issuer_name VARCHAR(100),\n",
            "    wire_issuer_full_name VARCHAR(255),\n",
            "    ris_code VARCHAR(50),\n",
            "    bloomberg_symbol VARCHAR(50),\n",
            "    is_equity_researched BOOLEAN,\n",
            "    status VARCHAR(20), -- e.g., 'Covered'\n",
            "    market_cap_usd DECIMAL(20, 2),\n",
            "    price DECIMAL(18, 4),\n",
            "    sedol VARCHAR(12),\n",
            "    isin VARCHAR(20),\n",
            "    cusip VARCHAR(12),\n",
            "    price_target DECIMAL(18, 4),\n",
            "    price_target_as_of_date DATE)\n",
            "\n",
            "\n",
            "\u001b[31mAssistant message:\u001b[0m\n",
            "\n",
            "[[ ## answer ## ]]\n",
            "SELECT CASE WHEN suspension = 'Y' THEN 'No Information can be provided about this security as it is suspend .' ELSE 'The Chief Investment Office does not provide information about price targets.' END as result FROM cio WHERE company_name ILIKE '%tesla%' ORDER BY rating_change_date DESC LIMIT 1;\n",
            "\n",
            "\n",
            "\u001b[31mUser message:\u001b[0m\n",
            "\n",
            "[[ ## query ## ]]\n",
            "what is the walmart target price?\n",
            "\n",
            "[[ ## table_schema ## ]]\n",
            "cio(rating_text VARCHAR(10), -- 'Buy', 'Neutral', 'Sell'\n",
            "    rating_type VARCHAR(50), -- e.g., '12-Month'\n",
            "    rating_as_of_date DATE,\n",
            "    suspended BOOLEAN,\n",
            "    restricted BOOLEAN,\n",
            "    wire_issuer_name VARCHAR(100),\n",
            "    wire_issuer_full_name VARCHAR(255),\n",
            "    ris_code VARCHAR(50),\n",
            "    bloomberg_symbol VARCHAR(50),\n",
            "    is_equity_researched BOOLEAN,\n",
            "    status VARCHAR(20), -- e.g., 'Covered'\n",
            "    market_cap_usd DECIMAL(20, 2),\n",
            "    price DECIMAL(18, 4),\n",
            "    sedol VARCHAR(12),\n",
            "    isin VARCHAR(20),\n",
            "    cusip VARCHAR(12),\n",
            "    price_target DECIMAL(18, 4),\n",
            "    price_target_as_of_date DATE)\n",
            "\n",
            "\n",
            "\u001b[31mAssistant message:\u001b[0m\n",
            "\n",
            "[[ ## answer ## ]]\n",
            "SELECT CASE WHEN suspended TRUE THEN 'No Information can be provided about this security' WHEN restricted =TRUE THEN 'This is a restricted security. We are not able to provide ratings or price target information on this security at this time.' ELSE CAST (price_target as VARCHAR) END as result FROM cio.listings_ratings_view_complete WHERE wire_issuer_name ILIKE '% almart% or wire issuer_full_name ilike '%walmart%' or ris_code ilike '%walmart% or \n",
            "bloomberg_symbol ilike '%walmart%' ORDER BY price_as_of_date DESC LIMIT 1;\n",
            "\n",
            "\n",
            "\u001b[31mUser message:\u001b[0m\n",
            "\n",
            "[[ ## query ## ]]\n",
            "What is target price for Google?\n",
            "\n",
            "[[ ## table_schema ## ]]\n",
            "cio(rating_text VARCHAR(10), -- 'Buy', 'Neutral', 'Sell'\n",
            "    rating_type VARCHAR(50), -- e.g., '12-Month'\n",
            "    rating_as_of_date DATE,\n",
            "    suspended BOOLEAN,\n",
            "    restricted BOOLEAN,\n",
            "    wire_issuer_name VARCHAR(100),\n",
            "    wire_issuer_full_name VARCHAR(255),\n",
            "    ris_code VARCHAR(50),\n",
            "    bloomberg_symbol VARCHAR(50),\n",
            "    is_equity_researched BOOLEAN,\n",
            "    status VARCHAR(20), -- e.g., 'Covered'\n",
            "    market_cap_usd DECIMAL(20, 2),\n",
            "    price DECIMAL(18, 4),\n",
            "    sedol VARCHAR(12),\n",
            "    isin VARCHAR(20),\n",
            "    cusip VARCHAR(12),\n",
            "    price_target DECIMAL(18, 4),\n",
            "    price_target_as_of_date DATE)\n",
            "\n",
            "\n",
            "\u001b[31mAssistant message:\u001b[0m\n",
            "\n",
            "[[ ## answer ## ]]\n",
            "SELECT CASE WHEN suspended = TRUE THEN 'No Information can be provided about this security' WHEN restricted = TRUE THEN 'This is a restricted security. We are not able to provide ratings or price target information on this security at this time.' ELSE CAST (price_target as VARCHAR) END as result FROM cio.listings_ratings_view_complete WHERE wire_issuer_name ILIKE '%google% or wire_issuer_full_name ilike '%google% or ris_code ilike '%google%' or bloomberg_symbol ilike '%google%' ORDER BY\n",
            "price_as_of_date DESC LIMIT 1\n",
            "\n",
            "\n",
            "\u001b[31mUser message:\u001b[0m\n",
            "\n",
            "[[ ## query ## ]]\n",
            "what is the rating for IT sector?\n",
            "\n",
            "[[ ## table_schema ## ]]\n",
            "cio(rating_text VARCHAR(10), -- 'Buy', 'Neutral', 'Sell'\n",
            "    rating_type VARCHAR(50), -- e.g., '12-Month'\n",
            "    rating_as_of_date DATE,\n",
            "    suspended BOOLEAN,\n",
            "    restricted BOOLEAN,\n",
            "    wire_issuer_name VARCHAR(100),\n",
            "    wire_issuer_full_name VARCHAR(255),\n",
            "    ris_code VARCHAR(50),\n",
            "    bloomberg_symbol VARCHAR(50),\n",
            "    is_equity_researched BOOLEAN,\n",
            "    status VARCHAR(20), -- e.g., 'Covered'\n",
            "    market_cap_usd DECIMAL(20, 2),\n",
            "    price DECIMAL(18, 4),\n",
            "    sedol VARCHAR(12),\n",
            "    isin VARCHAR(20),\n",
            "    cusip VARCHAR(12),\n",
            "    price_target DECIMAL(18, 4),\n",
            "    price_target_as_of_date DATE)\n",
            "\n",
            "Respond with the corresponding output fields, starting with the field `[[ ## answer ## ]]`, and then ending with the marker for `[[ ## completed ## ]]`.\n",
            "\n",
            "\n",
            "\u001b[31mResponse:\u001b[0m\n",
            "\n",
            "\u001b[32m[[ ## answer ## ]]\n",
            "SELECT rating_text, rating_type, rating_as_of_date FROM cio WHERE wire_issuer_name ILIKE '%IT%' OR wire_issuer_full_name ILIKE '%IT%' OR ris_code ILIKE '%IT%' OR bloomberg_symbol ILIKE '%IT%' ORDER BY rating_as_of_date DESC LIMIT 1;\n",
            "\n",
            "[[ ## completed ## ]]\u001b[0m\n",
            "\n",
            "\n",
            "\n",
            "\n",
            "\n"
          ]
        }
      ]
    },
    {
      "cell_type": "code",
      "source": [
        "_optimized(query=\"what is the rating of walmart?\",table_schema=table_schema)"
      ],
      "metadata": {
        "colab": {
          "base_uri": "https://localhost:8080/"
        },
        "id": "L4eWh7w12ten",
        "outputId": "1e9ec218-1829-486d-ab0f-dc289aed82c0"
      },
      "execution_count": null,
      "outputs": [
        {
          "output_type": "execute_result",
          "data": {
            "text/plain": [
              "Prediction(\n",
              "    answer=\"SELECT CASE WHEN suspended = TRUE THEN 'No Information can be provided about this security as it is suspended.' ELSE CAST (rating_text AS VARCHAR) END AS result FROM cio WHERE wire_issuer_name ILIKE '%walmart%' OR wire_issuer_full_name ILIKE '%walmart%' ORDER BY rating_as_of_date DESC LIMIT 1;\"\n",
              ")"
            ]
          },
          "metadata": {},
          "execution_count": 9
        }
      ]
    },
    {
      "cell_type": "code",
      "source": [
        "lm.inspect_history(n=1)"
      ],
      "metadata": {
        "id": "uwRwT_qh3Nln",
        "outputId": "1b7c7202-7fff-4012-ff04-3377cf71e637",
        "colab": {
          "base_uri": "https://localhost:8080/"
        }
      },
      "execution_count": null,
      "outputs": [
        {
          "output_type": "stream",
          "name": "stdout",
          "text": [
            "\n",
            "\n",
            "\n",
            "\n",
            "\u001b[34m[2025-07-04T09:55:14.036581]\u001b[0m\n",
            "\n",
            "\u001b[31mSystem message:\u001b[0m\n",
            "\n",
            "Your input fields are:\n",
            "1. `query` (str): \n",
            "2. `table_schema` (str):\n",
            "Your output fields are:\n",
            "1. `answer` (str):\n",
            "All interactions will be structured in the following way, with the appropriate values filled in.\n",
            "\n",
            "[[ ## query ## ]]\n",
            "{query}\n",
            "\n",
            "[[ ## table_schema ## ]]\n",
            "{table_schema}\n",
            "\n",
            "[[ ## answer ## ]]\n",
            "{answer}\n",
            "\n",
            "[[ ## completed ## ]]\n",
            "In adhering to this structure, your objective is: \n",
            "        Generate SQL code based on a given query and table schema.\n",
            "\n",
            "\n",
            "\u001b[31mUser message:\u001b[0m\n",
            "\n",
            "[[ ## query ## ]]\n",
            "what is the price of apple?\n",
            "\n",
            "[[ ## table_schema ## ]]\n",
            "cio(rating_text VARCHAR(10), -- 'Buy', 'Neutral', 'Sell'\n",
            "    rating_type VARCHAR(50), -- e.g., '12-Month'\n",
            "    rating_as_of_date DATE,\n",
            "    suspended BOOLEAN,\n",
            "    restricted BOOLEAN,\n",
            "    wire_issuer_name VARCHAR(100),\n",
            "    wire_issuer_full_name VARCHAR(255),\n",
            "    ris_code VARCHAR(50),\n",
            "    bloomberg_symbol VARCHAR(50),\n",
            "    is_equity_researched BOOLEAN,\n",
            "    status VARCHAR(20), -- e.g., 'Covered'\n",
            "    market_cap_usd DECIMAL(20, 2),\n",
            "    price DECIMAL(18, 4),\n",
            "    sedol VARCHAR(12),\n",
            "    isin VARCHAR(20),\n",
            "    cusip VARCHAR(12),\n",
            "    price_target DECIMAL(18, 4),\n",
            "    price_target_as_of_date DATE)\n",
            "\n",
            "\n",
            "\u001b[31mAssistant message:\u001b[0m\n",
            "\n",
            "[[ ## answer ## ]]\n",
            "\"SELECT CASE WHEN suspension 'Y' THEN 'No Information can be provided about this security as it is suspended.' ELSE CAST (price AS VARCHAR) END as result FROM cio WHERE company_name ilike '%apple% ORDER BY rating_change date DESC LIMIT 1;\n",
            "\n",
            "\n",
            "\u001b[31mUser message:\u001b[0m\n",
            "\n",
            "[[ ## query ## ]]\n",
            "what is the rating for LTI?\n",
            "\n",
            "[[ ## table_schema ## ]]\n",
            "cio(rating_text VARCHAR(10), -- 'Buy', 'Neutral', 'Sell'\n",
            "    rating_type VARCHAR(50), -- e.g., '12-Month'\n",
            "    rating_as_of_date DATE,\n",
            "    suspended BOOLEAN,\n",
            "    restricted BOOLEAN,\n",
            "    wire_issuer_name VARCHAR(100),\n",
            "    wire_issuer_full_name VARCHAR(255),\n",
            "    ris_code VARCHAR(50),\n",
            "    bloomberg_symbol VARCHAR(50),\n",
            "    is_equity_researched BOOLEAN,\n",
            "    status VARCHAR(20), -- e.g., 'Covered'\n",
            "    market_cap_usd DECIMAL(20, 2),\n",
            "    price DECIMAL(18, 4),\n",
            "    sedol VARCHAR(12),\n",
            "    isin VARCHAR(20),\n",
            "    cusip VARCHAR(12),\n",
            "    price_target DECIMAL(18, 4),\n",
            "    price_target_as_of_date DATE)\n",
            "\n",
            "\n",
            "\u001b[31mAssistant message:\u001b[0m\n",
            "\n",
            "[[ ## answer ## ]]\n",
            "SELECT CASE WHEN suspension = 'Y' THEN 'No Information can be provided about this security as it is suspended.' ELSE CAST (ranking_description as VARCHAR) END as result FROM cio WHERE company_name ilike '%lti%' ORDER BY rating_change_date DESC LIMIT 1;\n",
            "\n",
            "\n",
            "\u001b[31mUser message:\u001b[0m\n",
            "\n",
            "[[ ## query ## ]]\n",
            "What is target price for Google?\n",
            "\n",
            "[[ ## table_schema ## ]]\n",
            "cio(rating_text VARCHAR(10), -- 'Buy', 'Neutral', 'Sell'\n",
            "    rating_type VARCHAR(50), -- e.g., '12-Month'\n",
            "    rating_as_of_date DATE,\n",
            "    suspended BOOLEAN,\n",
            "    restricted BOOLEAN,\n",
            "    wire_issuer_name VARCHAR(100),\n",
            "    wire_issuer_full_name VARCHAR(255),\n",
            "    ris_code VARCHAR(50),\n",
            "    bloomberg_symbol VARCHAR(50),\n",
            "    is_equity_researched BOOLEAN,\n",
            "    status VARCHAR(20), -- e.g., 'Covered'\n",
            "    market_cap_usd DECIMAL(20, 2),\n",
            "    price DECIMAL(18, 4),\n",
            "    sedol VARCHAR(12),\n",
            "    isin VARCHAR(20),\n",
            "    cusip VARCHAR(12),\n",
            "    price_target DECIMAL(18, 4),\n",
            "    price_target_as_of_date DATE)\n",
            "\n",
            "\n",
            "\u001b[31mAssistant message:\u001b[0m\n",
            "\n",
            "[[ ## answer ## ]]\n",
            "SELECT CASE WHEN suspended = TRUE THEN 'No Information can be provided about this security' WHEN restricted = TRUE THEN 'This is a restricted security. We are not able to provide ratings or price target information on this security at this time.' ELSE CAST (price_target as VARCHAR) END as result FROM cio.listings_ratings_view_complete WHERE wire_issuer_name ILIKE '%google% or wire_issuer_full_name ilike '%google% or ris_code ilike '%google%' or bloomberg_symbol ilike '%google%' ORDER BY\n",
            "price_as_of_date DESC LIMIT 1\n",
            "\n",
            "\n",
            "\u001b[31mUser message:\u001b[0m\n",
            "\n",
            "[[ ## query ## ]]\n",
            "what is the walmart target price?\n",
            "\n",
            "[[ ## table_schema ## ]]\n",
            "cio(rating_text VARCHAR(10), -- 'Buy', 'Neutral', 'Sell'\n",
            "    rating_type VARCHAR(50), -- e.g., '12-Month'\n",
            "    rating_as_of_date DATE,\n",
            "    suspended BOOLEAN,\n",
            "    restricted BOOLEAN,\n",
            "    wire_issuer_name VARCHAR(100),\n",
            "    wire_issuer_full_name VARCHAR(255),\n",
            "    ris_code VARCHAR(50),\n",
            "    bloomberg_symbol VARCHAR(50),\n",
            "    is_equity_researched BOOLEAN,\n",
            "    status VARCHAR(20), -- e.g., 'Covered'\n",
            "    market_cap_usd DECIMAL(20, 2),\n",
            "    price DECIMAL(18, 4),\n",
            "    sedol VARCHAR(12),\n",
            "    isin VARCHAR(20),\n",
            "    cusip VARCHAR(12),\n",
            "    price_target DECIMAL(18, 4),\n",
            "    price_target_as_of_date DATE)\n",
            "\n",
            "\n",
            "\u001b[31mAssistant message:\u001b[0m\n",
            "\n",
            "[[ ## answer ## ]]\n",
            "SELECT CASE WHEN suspended TRUE THEN 'No Information can be provided about this security' WHEN restricted =TRUE THEN 'This is a restricted security. We are not able to provide ratings or price target information on this security at this time.' ELSE CAST (price_target as VARCHAR) END as result FROM cio.listings_ratings_view_complete WHERE wire_issuer_name ILIKE '% almart% or wire issuer_full_name ilike '%walmart%' or ris_code ilike '%walmart% or \n",
            "bloomberg_symbol ilike '%walmart%' ORDER BY price_as_of_date DESC LIMIT 1;\n",
            "\n",
            "\n",
            "\u001b[31mUser message:\u001b[0m\n",
            "\n",
            "[[ ## query ## ]]\n",
            "What is target price for tesla?\n",
            "\n",
            "[[ ## table_schema ## ]]\n",
            "cio(rating_text VARCHAR(10), -- 'Buy', 'Neutral', 'Sell'\n",
            "    rating_type VARCHAR(50), -- e.g., '12-Month'\n",
            "    rating_as_of_date DATE,\n",
            "    suspended BOOLEAN,\n",
            "    restricted BOOLEAN,\n",
            "    wire_issuer_name VARCHAR(100),\n",
            "    wire_issuer_full_name VARCHAR(255),\n",
            "    ris_code VARCHAR(50),\n",
            "    bloomberg_symbol VARCHAR(50),\n",
            "    is_equity_researched BOOLEAN,\n",
            "    status VARCHAR(20), -- e.g., 'Covered'\n",
            "    market_cap_usd DECIMAL(20, 2),\n",
            "    price DECIMAL(18, 4),\n",
            "    sedol VARCHAR(12),\n",
            "    isin VARCHAR(20),\n",
            "    cusip VARCHAR(12),\n",
            "    price_target DECIMAL(18, 4),\n",
            "    price_target_as_of_date DATE)\n",
            "\n",
            "\n",
            "\u001b[31mAssistant message:\u001b[0m\n",
            "\n",
            "[[ ## answer ## ]]\n",
            "SELECT CASE WHEN suspension = 'Y' THEN 'No Information can be provided about this security as it is suspend .' ELSE 'The Chief Investment Office does not provide information about price targets.' END as result FROM cio WHERE company_name ILIKE '%tesla%' ORDER BY rating_change_date DESC LIMIT 1;\n",
            "\n",
            "\n",
            "\u001b[31mUser message:\u001b[0m\n",
            "\n",
            "[[ ## query ## ]]\n",
            "what is the rating for IT sector?\n",
            "\n",
            "[[ ## table_schema ## ]]\n",
            "cio(rating_text VARCHAR(10), -- 'Buy', 'Neutral', 'Sell'\n",
            "    rating_type VARCHAR(50), -- e.g., '12-Month'\n",
            "    rating_as_of_date DATE,\n",
            "    suspended BOOLEAN,\n",
            "    restricted BOOLEAN,\n",
            "    wire_issuer_name VARCHAR(100),\n",
            "    wire_issuer_full_name VARCHAR(255),\n",
            "    ris_code VARCHAR(50),\n",
            "    bloomberg_symbol VARCHAR(50),\n",
            "    is_equity_researched BOOLEAN,\n",
            "    status VARCHAR(20), -- e.g., 'Covered'\n",
            "    market_cap_usd DECIMAL(20, 2),\n",
            "    price DECIMAL(18, 4),\n",
            "    sedol VARCHAR(12),\n",
            "    isin VARCHAR(20),\n",
            "    cusip VARCHAR(12),\n",
            "    price_target DECIMAL(18, 4),\n",
            "    price_target_as_of_date DATE)\n",
            "\n",
            "\n",
            "\u001b[31mAssistant message:\u001b[0m\n",
            "\n",
            "[[ ## answer ## ]]\n",
            "SELECT CASE WHEN suspension 'Y' THEN 'No Information can be provided about this security as it is suspended.' ELSE CAST (ranking_description AS VARCHAR) END AS result FROM cio WHERE company_name ILIKE '%IT%' ORDER BY rating_change_date DESC LIMIT 1;\n",
            "\n",
            "\n",
            "\u001b[31mUser message:\u001b[0m\n",
            "\n",
            "[[ ## query ## ]]\n",
            "what is the rating of walmart?\n",
            "\n",
            "[[ ## table_schema ## ]]\n",
            "cio(rating_text VARCHAR(10), -- 'Buy', 'Neutral', 'Sell'\n",
            "    rating_type VARCHAR(50), -- e.g., '12-Month'\n",
            "    rating_as_of_date DATE,\n",
            "    suspended BOOLEAN,\n",
            "    restricted BOOLEAN,\n",
            "    wire_issuer_name VARCHAR(100),\n",
            "    wire_issuer_full_name VARCHAR(255),\n",
            "    ris_code VARCHAR(50),\n",
            "    bloomberg_symbol VARCHAR(50),\n",
            "    is_equity_researched BOOLEAN,\n",
            "    status VARCHAR(20), -- e.g., 'Covered'\n",
            "    market_cap_usd DECIMAL(20, 2),\n",
            "    price DECIMAL(18, 4),\n",
            "    sedol VARCHAR(12),\n",
            "    isin VARCHAR(20),\n",
            "    cusip VARCHAR(12),\n",
            "    price_target DECIMAL(18, 4),\n",
            "    price_target_as_of_date DATE)\n",
            "\n",
            "Respond with the corresponding output fields, starting with the field `[[ ## answer ## ]]`, and then ending with the marker for `[[ ## completed ## ]]`.\n",
            "\n",
            "\n",
            "\u001b[31mResponse:\u001b[0m\n",
            "\n",
            "\u001b[32m[[ ## answer ## ]]\n",
            "SELECT CASE WHEN suspended = TRUE THEN 'No Information can be provided about this security as it is suspended.' ELSE CAST (rating_text AS VARCHAR) END AS result FROM cio WHERE wire_issuer_name ILIKE '%walmart%' OR wire_issuer_full_name ILIKE '%walmart%' ORDER BY rating_as_of_date DESC LIMIT 1;\n",
            "\n",
            "[[ ## completed ## ]]\u001b[0m\n",
            "\n",
            "\n",
            "\n",
            "\n",
            "\n"
          ]
        }
      ]
    },
    {
      "cell_type": "markdown",
      "source": [
        "structured and unstructred"
      ],
      "metadata": {
        "id": "TSxus930acXG"
      }
    },
    {
      "cell_type": "code",
      "source": [
        "from typing import Literal\n",
        "class Router(dspy.Signature):\n",
        "    \"\"\"Classify the given query is used to determine whether the answer should be retrieved from an unstructured or structured dataset\"\"\"\n",
        "    query: str = dspy.InputField()\n",
        "    answer: Literal[\"Unstructured\", \"Structured\"] = dspy.OutputField()\n",
        "class QueryRouter(dspy.Module):\n",
        "    def __init__(self):\n",
        "        super().__init__()\n",
        "        self.predict = dspy.Predict(Router)\n",
        "    def forward(self, query):\n",
        "        return self.predict(query=query)\n",
        "\n",
        "\n",
        "trainset = [\n",
        "    dspy.Example(query=\"what is the price of apple?\",  answer=\"Structured\").with_inputs(\"query\"),\n",
        "    dspy.Example(query=\"What is target price for tesla?\",answer=\"Structured\").with_inputs(\"query\"),\n",
        "    dspy.Example(query=\"What is CIO view on Evolution Mining?\",answer=\"Unstructured\").with_inputs(\"query\"),\n",
        "    dspy.Example(query=\"What is our view on Nvidia?\", answer=\"Unstructured\").with_inputs(\"query\"),\n",
        "    dspy.Example(query=\"What is target price for Google?\", answer=\"Structured\").with_inputs(\"query\"),\n",
        "    dspy.Example(query=\"What is ranking description for Meta?\", answer=\"Unstructured\").with_inputs(\"query\"),\n",
        "]\n",
        "\n",
        "# 4. Configure DSPy LM\n",
        "lm = dspy.LM(\"openai/gpt-4o-mini\") # Or use dspy.HFModel\n",
        "dspy.settings.configure(lm=lm)\n",
        "\n",
        "\n",
        "from dspy.evaluate import answer_exact_match as metric\n",
        "from dspy.teleprompt import BootstrapFewShot\n",
        "\n",
        "optimizer = BootstrapFewShot(\n",
        "    metric=metric,\n",
        "    max_bootstrapped_demos=6,\n",
        "    max_labeled_demos=6,\n",
        "    max_rounds=10,\n",
        ")\n",
        "\n",
        "\n",
        "_optimized = optimizer.compile(QueryRouter(), trainset=trainset)"
      ],
      "metadata": {
        "colab": {
          "base_uri": "https://localhost:8080/"
        },
        "id": "HuUW70UcaFId",
        "outputId": "81fcd7d8-1d38-4de9-c93e-43ef5bbf6279"
      },
      "execution_count": null,
      "outputs": [
        {
          "output_type": "stream",
          "name": "stderr",
          "text": [
            "100%|██████████| 6/6 [00:05<00:00,  1.05it/s]"
          ]
        },
        {
          "output_type": "stream",
          "name": "stdout",
          "text": [
            "Bootstrapped 6 full traces after 5 examples for up to 10 rounds, amounting to 6 attempts.\n"
          ]
        },
        {
          "output_type": "stream",
          "name": "stderr",
          "text": [
            "\n"
          ]
        }
      ]
    },
    {
      "cell_type": "code",
      "source": [
        "_optimized(query=\"What is the target price of samsung?\")"
      ],
      "metadata": {
        "colab": {
          "base_uri": "https://localhost:8080/"
        },
        "id": "_UeDvWSwiLL4",
        "outputId": "8957ea33-2b6a-43d3-be62-0211272f899d"
      },
      "execution_count": null,
      "outputs": [
        {
          "output_type": "execute_result",
          "data": {
            "text/plain": [
              "Prediction(\n",
              "    answer='Structured'\n",
              ")"
            ]
          },
          "metadata": {},
          "execution_count": 9
        }
      ]
    },
    {
      "cell_type": "code",
      "source": [
        "lm.inspect_history()"
      ],
      "metadata": {
        "colab": {
          "base_uri": "https://localhost:8080/"
        },
        "id": "GjnyO6p-iWaE",
        "outputId": "6b275d00-33b1-480a-8779-4198c918a838"
      },
      "execution_count": null,
      "outputs": [
        {
          "output_type": "stream",
          "name": "stdout",
          "text": [
            "\n",
            "\n",
            "\n",
            "\n",
            "\u001b[34m[2025-07-03T18:25:27.392497]\u001b[0m\n",
            "\n",
            "\u001b[31mSystem message:\u001b[0m\n",
            "\n",
            "Your input fields are:\n",
            "1. `query` (str):\n",
            "Your output fields are:\n",
            "1. `answer` (Literal['Unstructured', 'Structured']):\n",
            "All interactions will be structured in the following way, with the appropriate values filled in.\n",
            "\n",
            "[[ ## query ## ]]\n",
            "{query}\n",
            "\n",
            "[[ ## answer ## ]]\n",
            "{answer}        # note: the value you produce must exactly match (no extra characters) one of: Unstructured; Structured\n",
            "\n",
            "[[ ## completed ## ]]\n",
            "In adhering to this structure, your objective is: \n",
            "        Classify the given query is used to determine whether the answer should be retrieved from an unstructured or structured dataset\n",
            "\n",
            "\n",
            "\u001b[31mUser message:\u001b[0m\n",
            "\n",
            "[[ ## query ## ]]\n",
            "what is the price of apple?\n",
            "\n",
            "\n",
            "\u001b[31mAssistant message:\u001b[0m\n",
            "\n",
            "[[ ## answer ## ]]\n",
            "Structured\n",
            "\n",
            "\n",
            "\u001b[31mUser message:\u001b[0m\n",
            "\n",
            "[[ ## query ## ]]\n",
            "What is target price for tesla?\n",
            "\n",
            "\n",
            "\u001b[31mAssistant message:\u001b[0m\n",
            "\n",
            "[[ ## answer ## ]]\n",
            "Structured\n",
            "\n",
            "\n",
            "\u001b[31mUser message:\u001b[0m\n",
            "\n",
            "[[ ## query ## ]]\n",
            "What is CIO view on Evolution Mining?\n",
            "\n",
            "\n",
            "\u001b[31mAssistant message:\u001b[0m\n",
            "\n",
            "[[ ## answer ## ]]\n",
            "Unstructured\n",
            "\n",
            "\n",
            "\u001b[31mUser message:\u001b[0m\n",
            "\n",
            "[[ ## query ## ]]\n",
            "What is our view on Nvidia?\n",
            "\n",
            "\n",
            "\u001b[31mAssistant message:\u001b[0m\n",
            "\n",
            "[[ ## answer ## ]]\n",
            "Unstructured\n",
            "\n",
            "\n",
            "\u001b[31mUser message:\u001b[0m\n",
            "\n",
            "[[ ## query ## ]]\n",
            "What is target price for Google?\n",
            "\n",
            "\n",
            "\u001b[31mAssistant message:\u001b[0m\n",
            "\n",
            "[[ ## answer ## ]]\n",
            "Structured\n",
            "\n",
            "\n",
            "\u001b[31mUser message:\u001b[0m\n",
            "\n",
            "[[ ## query ## ]]\n",
            "What is ranking description for Meta?\n",
            "\n",
            "\n",
            "\u001b[31mAssistant message:\u001b[0m\n",
            "\n",
            "[[ ## answer ## ]]\n",
            "Unstructured\n",
            "\n",
            "\n",
            "\u001b[31mUser message:\u001b[0m\n",
            "\n",
            "[[ ## query ## ]]\n",
            "What is the target price of samsung?\n",
            "\n",
            "Respond with the corresponding output fields, starting with the field `[[ ## answer ## ]]` (must be formatted as a valid Python Literal['Unstructured', 'Structured']), and then ending with the marker for `[[ ## completed ## ]]`.\n",
            "\n",
            "\n",
            "\u001b[31mResponse:\u001b[0m\n",
            "\n",
            "\u001b[32m[[ ## answer ## ]]\n",
            "Structured\n",
            "\n",
            "[[ ## completed ## ]]\u001b[0m\n",
            "\n",
            "\n",
            "\n",
            "\n",
            "\n"
          ]
        }
      ]
    },
    {
      "cell_type": "code",
      "source": [
        "from dspy.teleprompt import BootstrapFewShotWithRandomSearch\n",
        "config = dict(max_bootstrapped_demos=6, max_labeled_demos=6, num_candidate_programs=10, num_threads=4)\n",
        "teleprompter = BootstrapFewShotWithRandomSearch(metric=metric, **config)\n",
        "optimized_prompt = teleprompter.compile(QueryRouter(), trainset=trainset)"
      ],
      "metadata": {
        "colab": {
          "base_uri": "https://localhost:8080/"
        },
        "id": "lrofCC2uhdO7",
        "outputId": "d43e227b-77f1-4407-f065-32256713cef7"
      },
      "execution_count": null,
      "outputs": [
        {
          "output_type": "stream",
          "name": "stdout",
          "text": [
            "Going to sample between 1 and 6 traces per predictor.\n",
            "Will attempt to bootstrap 10 candidate sets.\n",
            "Average Metric: 6.00 / 6 (100.0%): 100%|██████████| 6/6 [00:00<00:00, 1214.22it/s]"
          ]
        },
        {
          "output_type": "stream",
          "name": "stderr",
          "text": [
            "2025/07/03 18:27:43 INFO dspy.evaluate.evaluate: Average Metric: 6 / 6 (100.0%)\n"
          ]
        },
        {
          "output_type": "stream",
          "name": "stdout",
          "text": [
            "\n",
            "New best score: 100.0 for seed -3\n",
            "Scores so far: [100.0]\n",
            "Best score so far: 100.0\n",
            "Average Metric: 6.00 / 6 (100.0%): 100%|██████████| 6/6 [00:00<00:00, 925.08it/s]"
          ]
        },
        {
          "output_type": "stream",
          "name": "stderr",
          "text": [
            "2025/07/03 18:27:43 INFO dspy.evaluate.evaluate: Average Metric: 6 / 6 (100.0%)\n"
          ]
        },
        {
          "output_type": "stream",
          "name": "stdout",
          "text": [
            "\n",
            "Scores so far: [100.0, 100.0]\n",
            "Best score so far: 100.0\n"
          ]
        },
        {
          "output_type": "stream",
          "name": "stderr",
          "text": [
            "100%|██████████| 6/6 [00:00<00:00, 490.96it/s]\n"
          ]
        },
        {
          "output_type": "stream",
          "name": "stdout",
          "text": [
            "Bootstrapped 6 full traces after 5 examples for up to 1 rounds, amounting to 6 attempts.\n",
            "Average Metric: 6.00 / 6 (100.0%): 100%|██████████| 6/6 [00:00<00:00, 844.89it/s]"
          ]
        },
        {
          "output_type": "stream",
          "name": "stderr",
          "text": [
            "2025/07/03 18:27:43 INFO dspy.evaluate.evaluate: Average Metric: 6 / 6 (100.0%)\n"
          ]
        },
        {
          "output_type": "stream",
          "name": "stdout",
          "text": [
            "\n",
            "Scores so far: [100.0, 100.0, 100.0]\n",
            "Best score so far: 100.0\n"
          ]
        },
        {
          "output_type": "stream",
          "name": "stderr",
          "text": [
            " 67%|██████▋   | 4/6 [00:00<00:00, 445.20it/s]\n"
          ]
        },
        {
          "output_type": "stream",
          "name": "stdout",
          "text": [
            "Bootstrapped 4 full traces after 4 examples for up to 1 rounds, amounting to 4 attempts.\n",
            "Average Metric: 6.00 / 6 (100.0%): 100%|██████████| 6/6 [00:00<00:00,  6.98it/s]"
          ]
        },
        {
          "output_type": "stream",
          "name": "stderr",
          "text": [
            "2025/07/03 18:27:44 INFO dspy.evaluate.evaluate: Average Metric: 6 / 6 (100.0%)\n"
          ]
        },
        {
          "output_type": "stream",
          "name": "stdout",
          "text": [
            "\n",
            "Scores so far: [100.0, 100.0, 100.0, 100.0]\n",
            "Best score so far: 100.0\n"
          ]
        },
        {
          "output_type": "stream",
          "name": "stderr",
          "text": [
            " 33%|███▎      | 2/6 [00:00<00:00, 566.95it/s]\n"
          ]
        },
        {
          "output_type": "stream",
          "name": "stdout",
          "text": [
            "Bootstrapped 2 full traces after 2 examples for up to 1 rounds, amounting to 2 attempts.\n",
            "Average Metric: 6.00 / 6 (100.0%): 100%|██████████| 6/6 [00:01<00:00,  3.83it/s]"
          ]
        },
        {
          "output_type": "stream",
          "name": "stderr",
          "text": [
            "2025/07/03 18:27:46 INFO dspy.evaluate.evaluate: Average Metric: 6 / 6 (100.0%)\n"
          ]
        },
        {
          "output_type": "stream",
          "name": "stdout",
          "text": [
            "\n",
            "Scores so far: [100.0, 100.0, 100.0, 100.0, 100.0]\n",
            "Best score so far: 100.0\n"
          ]
        },
        {
          "output_type": "stream",
          "name": "stderr",
          "text": [
            " 17%|█▋        | 1/6 [00:00<00:00, 271.60it/s]\n"
          ]
        },
        {
          "output_type": "stream",
          "name": "stdout",
          "text": [
            "Bootstrapped 1 full traces after 1 examples for up to 1 rounds, amounting to 1 attempts.\n",
            "Average Metric: 6.00 / 6 (100.0%): 100%|██████████| 6/6 [00:00<00:00, 1254.40it/s]"
          ]
        },
        {
          "output_type": "stream",
          "name": "stderr",
          "text": [
            "2025/07/03 18:27:46 INFO dspy.evaluate.evaluate: Average Metric: 6 / 6 (100.0%)\n"
          ]
        },
        {
          "output_type": "stream",
          "name": "stdout",
          "text": [
            "\n",
            "Scores so far: [100.0, 100.0, 100.0, 100.0, 100.0, 100.0]\n",
            "Best score so far: 100.0\n"
          ]
        },
        {
          "output_type": "stream",
          "name": "stderr",
          "text": [
            " 33%|███▎      | 2/6 [00:00<00:00, 369.71it/s]\n"
          ]
        },
        {
          "output_type": "stream",
          "name": "stdout",
          "text": [
            "Bootstrapped 2 full traces after 2 examples for up to 1 rounds, amounting to 2 attempts.\n",
            "Average Metric: 6.00 / 6 (100.0%): 100%|██████████| 6/6 [00:01<00:00,  4.87it/s]"
          ]
        },
        {
          "output_type": "stream",
          "name": "stderr",
          "text": [
            "2025/07/03 18:27:47 INFO dspy.evaluate.evaluate: Average Metric: 6 / 6 (100.0%)\n"
          ]
        },
        {
          "output_type": "stream",
          "name": "stdout",
          "text": [
            "\n",
            "Scores so far: [100.0, 100.0, 100.0, 100.0, 100.0, 100.0, 100.0]\n",
            "Best score so far: 100.0\n"
          ]
        },
        {
          "output_type": "stream",
          "name": "stderr",
          "text": [
            " 33%|███▎      | 2/6 [00:00<00:00, 512.56it/s]\n"
          ]
        },
        {
          "output_type": "stream",
          "name": "stdout",
          "text": [
            "Bootstrapped 2 full traces after 2 examples for up to 1 rounds, amounting to 2 attempts.\n",
            "Average Metric: 6.00 / 6 (100.0%): 100%|██████████| 6/6 [00:00<00:00,  7.04it/s]"
          ]
        },
        {
          "output_type": "stream",
          "name": "stderr",
          "text": [
            "2025/07/03 18:27:48 INFO dspy.evaluate.evaluate: Average Metric: 6 / 6 (100.0%)\n"
          ]
        },
        {
          "output_type": "stream",
          "name": "stdout",
          "text": [
            "\n",
            "Scores so far: [100.0, 100.0, 100.0, 100.0, 100.0, 100.0, 100.0, 100.0]\n",
            "Best score so far: 100.0\n"
          ]
        },
        {
          "output_type": "stream",
          "name": "stderr",
          "text": [
            " 83%|████████▎ | 5/6 [00:00<00:00, 442.55it/s]\n"
          ]
        },
        {
          "output_type": "stream",
          "name": "stdout",
          "text": [
            "Bootstrapped 5 full traces after 5 examples for up to 1 rounds, amounting to 5 attempts.\n",
            "Average Metric: 6.00 / 6 (100.0%): 100%|██████████| 6/6 [00:00<00:00, 962.25it/s]"
          ]
        },
        {
          "output_type": "stream",
          "name": "stderr",
          "text": [
            "2025/07/03 18:27:48 INFO dspy.evaluate.evaluate: Average Metric: 6 / 6 (100.0%)\n"
          ]
        },
        {
          "output_type": "stream",
          "name": "stdout",
          "text": [
            "\n",
            "Scores so far: [100.0, 100.0, 100.0, 100.0, 100.0, 100.0, 100.0, 100.0, 100.0]\n",
            "Best score so far: 100.0\n"
          ]
        },
        {
          "output_type": "stream",
          "name": "stderr",
          "text": [
            " 83%|████████▎ | 5/6 [00:01<00:00,  3.90it/s]\n"
          ]
        },
        {
          "output_type": "stream",
          "name": "stdout",
          "text": [
            "Bootstrapped 5 full traces after 5 examples for up to 1 rounds, amounting to 5 attempts.\n",
            "Average Metric: 6.00 / 6 (100.0%): 100%|██████████| 6/6 [00:00<00:00,  6.76it/s]"
          ]
        },
        {
          "output_type": "stream",
          "name": "stderr",
          "text": [
            "2025/07/03 18:27:50 INFO dspy.evaluate.evaluate: Average Metric: 6 / 6 (100.0%)\n"
          ]
        },
        {
          "output_type": "stream",
          "name": "stdout",
          "text": [
            "\n",
            "Scores so far: [100.0, 100.0, 100.0, 100.0, 100.0, 100.0, 100.0, 100.0, 100.0, 100.0]\n",
            "Best score so far: 100.0\n"
          ]
        },
        {
          "output_type": "stream",
          "name": "stderr",
          "text": [
            " 50%|█████     | 3/6 [00:00<00:00, 210.65it/s]\n"
          ]
        },
        {
          "output_type": "stream",
          "name": "stdout",
          "text": [
            "Bootstrapped 3 full traces after 3 examples for up to 1 rounds, amounting to 3 attempts.\n",
            "Average Metric: 6.00 / 6 (100.0%): 100%|██████████| 6/6 [00:00<00:00,  7.29it/s]"
          ]
        },
        {
          "output_type": "stream",
          "name": "stderr",
          "text": [
            "2025/07/03 18:27:51 INFO dspy.evaluate.evaluate: Average Metric: 6 / 6 (100.0%)\n"
          ]
        },
        {
          "output_type": "stream",
          "name": "stdout",
          "text": [
            "\n",
            "Scores so far: [100.0, 100.0, 100.0, 100.0, 100.0, 100.0, 100.0, 100.0, 100.0, 100.0, 100.0]\n",
            "Best score so far: 100.0\n"
          ]
        },
        {
          "output_type": "stream",
          "name": "stderr",
          "text": [
            " 33%|███▎      | 2/6 [00:00<00:00, 418.11it/s]\n"
          ]
        },
        {
          "output_type": "stream",
          "name": "stdout",
          "text": [
            "Bootstrapped 2 full traces after 2 examples for up to 1 rounds, amounting to 2 attempts.\n",
            "Average Metric: 6.00 / 6 (100.0%): 100%|██████████| 6/6 [00:01<00:00,  4.94it/s]"
          ]
        },
        {
          "output_type": "stream",
          "name": "stderr",
          "text": [
            "2025/07/03 18:27:52 INFO dspy.evaluate.evaluate: Average Metric: 6 / 6 (100.0%)\n"
          ]
        },
        {
          "output_type": "stream",
          "name": "stdout",
          "text": [
            "\n",
            "Scores so far: [100.0, 100.0, 100.0, 100.0, 100.0, 100.0, 100.0, 100.0, 100.0, 100.0, 100.0, 100.0]\n",
            "Best score so far: 100.0\n"
          ]
        },
        {
          "output_type": "stream",
          "name": "stderr",
          "text": [
            " 67%|██████▋   | 4/6 [00:00<00:00, 381.73it/s]\n"
          ]
        },
        {
          "output_type": "stream",
          "name": "stdout",
          "text": [
            "Bootstrapped 4 full traces after 4 examples for up to 1 rounds, amounting to 4 attempts.\n",
            "Average Metric: 6.00 / 6 (100.0%): 100%|██████████| 6/6 [00:00<00:00,  7.63it/s]"
          ]
        },
        {
          "output_type": "stream",
          "name": "stderr",
          "text": [
            "2025/07/03 18:27:53 INFO dspy.evaluate.evaluate: Average Metric: 6 / 6 (100.0%)\n"
          ]
        },
        {
          "output_type": "stream",
          "name": "stdout",
          "text": [
            "\n",
            "Scores so far: [100.0, 100.0, 100.0, 100.0, 100.0, 100.0, 100.0, 100.0, 100.0, 100.0, 100.0, 100.0, 100.0]\n",
            "Best score so far: 100.0\n",
            "13 candidate programs found.\n"
          ]
        }
      ]
    },
    {
      "cell_type": "code",
      "source": [
        "optimized_prompt(query=\"What is the impact of israel iran war on global market?\")"
      ],
      "metadata": {
        "colab": {
          "base_uri": "https://localhost:8080/"
        },
        "id": "N9eWvHZZinCj",
        "outputId": "4134ee24-7f11-45f9-cd1c-599ac4923d5c"
      },
      "execution_count": null,
      "outputs": [
        {
          "output_type": "execute_result",
          "data": {
            "text/plain": [
              "Prediction(\n",
              "    answer='Unstructured'\n",
              ")"
            ]
          },
          "metadata": {},
          "execution_count": 14
        }
      ]
    },
    {
      "cell_type": "code",
      "source": [
        "lm.inspect_history()"
      ],
      "metadata": {
        "colab": {
          "base_uri": "https://localhost:8080/"
        },
        "id": "gVDhqVmMjPUQ",
        "outputId": "dba1dc93-c36e-41dd-fdd4-3b9c1c4a3726"
      },
      "execution_count": null,
      "outputs": [
        {
          "output_type": "stream",
          "name": "stdout",
          "text": [
            "\n",
            "\n",
            "\n",
            "\n",
            "\u001b[34m[2025-07-03T18:29:26.676904]\u001b[0m\n",
            "\n",
            "\u001b[31mSystem message:\u001b[0m\n",
            "\n",
            "Your input fields are:\n",
            "1. `query` (str):\n",
            "Your output fields are:\n",
            "1. `answer` (Literal['Unstructured', 'Structured']):\n",
            "All interactions will be structured in the following way, with the appropriate values filled in.\n",
            "\n",
            "[[ ## query ## ]]\n",
            "{query}\n",
            "\n",
            "[[ ## answer ## ]]\n",
            "{answer}        # note: the value you produce must exactly match (no extra characters) one of: Unstructured; Structured\n",
            "\n",
            "[[ ## completed ## ]]\n",
            "In adhering to this structure, your objective is: \n",
            "        Classify the given query is used to determine whether the answer should be retrieved from an unstructured or structured dataset\n",
            "\n",
            "\n",
            "\u001b[31mUser message:\u001b[0m\n",
            "\n",
            "[[ ## query ## ]]\n",
            "What is the impact of israel iran war on global market?\n",
            "\n",
            "Respond with the corresponding output fields, starting with the field `[[ ## answer ## ]]` (must be formatted as a valid Python Literal['Unstructured', 'Structured']), and then ending with the marker for `[[ ## completed ## ]]`.\n",
            "\n",
            "\n",
            "\u001b[31mResponse:\u001b[0m\n",
            "\n",
            "\u001b[32m[[ ## answer ## ]]\n",
            "Unstructured\n",
            "\n",
            "[[ ## completed ## ]]\u001b[0m\n",
            "\n",
            "\n",
            "\n",
            "\n",
            "\n"
          ]
        }
      ]
    },
    {
      "cell_type": "code",
      "source": [],
      "metadata": {
        "id": "QPvad04mjRvg"
      },
      "execution_count": null,
      "outputs": []
    }
  ]
}